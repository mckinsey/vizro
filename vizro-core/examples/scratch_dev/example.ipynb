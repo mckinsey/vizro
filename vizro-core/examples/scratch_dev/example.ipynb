{
 "cells": [
  {
   "cell_type": "code",
   "execution_count": null,
   "id": "061d5a52",
   "metadata": {},
   "outputs": [],
   "source": [
    "import vizro.models as vm\n",
    "import vizro.plotly.express as px\n",
    "from vizro import Vizro\n",
    "from vizro.managers import model_manager"
   ]
  },
  {
   "cell_type": "code",
   "execution_count": null,
   "id": "8877966e",
   "metadata": {},
   "outputs": [],
   "source": [
    "gapminder = px.data.gapminder().query(\"year == 2007\")\n",
    "\n",
    "page = vm.Page(\n",
    "    title=\"Page Title\",\n",
    "    # description=\"Longer description of the page content\",\n",
    "    components=[\n",
    "        vm.Graph(\n",
    "            id=\"sunburst\", figure=px.sunburst(gapminder, path=[\"continent\", \"country\"], values=\"pop\", color=\"lifeExp\")\n",
    "        )\n",
    "    ],\n",
    ")\n",
    "# This now works!\n",
    "page = vm.Page(\n",
    "    title=\"Page Title 2\",\n",
    "    # description=\"Longer description of the page content\",\n",
    "    components=[\n",
    "        vm.Graph(\n",
    "            id=\"sunburst\", figure=px.sunburst(gapminder, path=[\"continent\", \"country\"], values=\"pop\", color=\"lifeExp\")\n",
    "        )\n",
    "    ],\n",
    ")\n",
    "\n",
    "dashboard = vm.Dashboard(id=\"dashboard\", pages=[page])"
   ]
  },
  {
   "cell_type": "code",
   "execution_count": null,
   "id": "d7a11d66",
   "metadata": {},
   "outputs": [],
   "source": [
    "model_manager.print_dashboard_tree()"
   ]
  },
  {
   "cell_type": "code",
   "execution_count": null,
   "id": "ddc5eda7",
   "metadata": {},
   "outputs": [],
   "source": [
    "lala = vm.Card(text=\"blub\")"
   ]
  },
  {
   "cell_type": "code",
   "execution_count": null,
   "id": "a8955c77",
   "metadata": {},
   "outputs": [],
   "source": [
    "app = Vizro().build(dashboard)"
   ]
  },
  {
   "cell_type": "code",
   "execution_count": null,
   "id": "c6e60241",
   "metadata": {},
   "outputs": [],
   "source": [
    "model_manager.print_dashboard_tree()"
   ]
  },
  {
   "cell_type": "code",
   "execution_count": null,
   "id": "7c940e50",
   "metadata": {},
   "outputs": [],
   "source": [
    "app.run()"
   ]
  },
  {
   "cell_type": "code",
   "execution_count": null,
   "id": "0e9fc46f",
   "metadata": {},
   "outputs": [],
   "source": []
  }
 ],
 "metadata": {
  "kernelspec": {
   "display_name": "vizro",
   "language": "python",
   "name": "python3"
  },
  "language_info": {
   "codemirror_mode": {
    "name": "ipython",
    "version": 3
   },
   "file_extension": ".py",
   "mimetype": "text/x-python",
   "name": "python",
   "nbconvert_exporter": "python",
   "pygments_lexer": "ipython3",
   "version": "3.13.3"
  }
 },
 "nbformat": 4,
 "nbformat_minor": 5
}
