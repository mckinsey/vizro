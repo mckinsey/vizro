{
  "cells": [
    {
      "cell_type": "markdown",
      "metadata": {
        "id": "npjw_Cstpr2I"
      },
      "source": [
        "[![Open In Colab](https://colab.research.google.com/assets/colab-badge.svg)](https://colab.research.google.com/github/mckinsey/vizro/blob/docs/add_colab_link/vizro-ai/examples/dashboard_by_vizro_ai.ipynb)"
      ]
    },
    {
      "cell_type": "markdown",
      "metadata": {
        "id": "dsR_4Smypr2L"
      },
      "source": [
        "# Use Vizro-AI to generate Vizro dashboard"
      ]
    },
    {
      "cell_type": "code",
      "source": [
        "# @title Setup\n",
        "#@markdown <-- click the `Run cell` button to\n",
        "#@markdown #### 1. Install Vizro-AI\n",
        "print(\"Installing vizro-ai\")\n",
        "#@markdown (TODO: change to !pip install vizro-ai when this PR is ready to merge)\n",
        "# !pip install vizro-ai\n",
        "!pip install \"vizro-ai @ git+https://github.com/mckinsey/vizro.git@main#subdirectory=vizro-ai\" -q -q -q\n",
        "print(\"✅ vizro-ai installed\")\n",
        "\n",
        "#@markdown #### 2. Secure your LLM API key as environment variable\n",
        "#@markdown - click the `Secrets` button on the left\n",
        "#@markdown - click `Add new secret`\n",
        "#@markdown - insert \"OPENAI_API_KEY\" under `Name`\n",
        "#@markdown - insert the API key value under `Value`\n",
        "#@markdown - [optional] you might also need to insert \"OPENAI_BASE_URL\" and its values, based on the requirements from your API key provider.\n",
        "#@markdown - click the `Notebook access` toggle to make it available for the notebook run\n",
        "\n",
        "import os\n",
        "from google.colab import userdata\n",
        "\n",
        "def safe_get_userdata(key):\n",
        "    try:\n",
        "        return userdata.get(key)\n",
        "    except Exception as e:\n",
        "        print(f\"Warning: Unable to access {key}. Reason: {str(e)}\")\n",
        "        return None\n",
        "\n",
        "# Always try to set the OPENAI_API_KEY\n",
        "api_key = safe_get_userdata(\"OPENAI_API_KEY\")\n",
        "if api_key:\n",
        "    os.environ[\"OPENAI_API_KEY\"] = api_key\n",
        "else:\n",
        "    print(\"❌ OPENAI_API_KEY not set. Click `Secrets` icon on the left to setup.\")\n",
        "\n",
        "# Conditionally set OPENAI_BASE_URL if provided and accessible\n",
        "openai_base_url = safe_get_userdata(\"OPENAI_BASE_URL\")\n",
        "if openai_base_url:\n",
        "    os.environ[\"OPENAI_BASE_URL\"] = openai_base_url\n",
        "else:\n",
        "    print(\"User defined OPENAI_BASE_URL not set. Using default URL.\")\n",
        "\n",
        "print(\"\\nCurrent environment variables:\")\n",
        "print(f\"OPENAI_API_KEY: {'✅ Set' if 'OPENAI_API_KEY' in os.environ else 'Not set'}\")\n",
        "print(f\"OPENAI_BASE_URL: {'✅ Set' if 'OPENAI_BASE_URL' in os.environ else 'Not set by user, use default'}\")"
      ],
      "metadata": {
        "cellView": "form",
        "id": "OfhUh-9bxXoD"
      },
      "execution_count": null,
      "outputs": []
    },
    {
      "cell_type": "code",
      "source": [
        "# @title ## Set user input\n",
        "\n",
        "#@markdown <-- click the `Run cell` button to\n",
        "#@markdown #### 1. Choose the LLM model\n",
        "\n",
        "LLM = 'gpt-4o' # @param [\"gpt-4o\", \"gpt-3.5-turbo\", \"gpt-4-turbo\"]\n",
        "\n",
        "# print(f\"Selected LLM: {LLM}\")\n",
        "\n",
        "#@markdown ---\n",
        "#@markdown #### 2. Upload your CSV data (multiple dataframes accepted)\n",
        "#@markdown - click `Choose Files` if you'd like to upload and use your own data\n",
        "#@markdown - or click `Cancel upload` and use the default example data for initial exploration\n",
        "\n",
        "import pandas as pd\n",
        "from plotly.express.data import gapminder\n",
        "from google.colab import files\n",
        "\n",
        "uploaded = files.upload()\n",
        "\n",
        "dfs = []\n",
        "\n",
        "if not uploaded:\n",
        "    print(\"No files uploaded. Use the plotly gapminder dataset as an example.\")\n",
        "    df = gapminder()\n",
        "    dfs.append(df)\n",
        "else:\n",
        "    for fn in uploaded.keys():\n",
        "        print('User uploaded file \"{name}\"'.format(\n",
        "            name=fn, length=len(uploaded[fn])))\n",
        "\n",
        "        df_uploaded = pd.read_csv(fn)\n",
        "        dfs.append(df_uploaded)\n",
        "\n",
        "#@markdown ---\n",
        "#@markdown #### 3. Input your chart question\n",
        "\n",
        "# @markdown #### Instructions:\n",
        "user_input = 'Create a gdp dashboard with 1 page. use a bar chart to show gdp per continent. add a filter to filter data by country' # @param {type:\"string\", placeholder:\"Enter the requirements for the dashboard\"}\n",
        "\n",
        "# print(user_input)"
      ],
      "metadata": {
        "cellView": "form",
        "id": "60H83HxUyc54"
      },
      "execution_count": null,
      "outputs": []
    },
    {
      "cell_type": "code",
      "execution_count": null,
      "metadata": {
        "cellView": "form",
        "id": "rEl8JajAxmMq"
      },
      "outputs": [],
      "source": [
        "# @title 6. Build the dashboard using Vizro-AI\n",
        "\n",
        "import ipywidgets as widgets\n",
        "from IPython.display import display\n",
        "# from vizro import Vizro\n",
        "\n",
        "# Vizro._reset()\n",
        "# fig = None\n",
        "\n",
        "def run_code(button):\n",
        "    from vizro_ai import VizroAI\n",
        "    from vizro import Vizro\n",
        "\n",
        "    Vizro._reset()\n",
        "    vizro_ai = VizroAI(model=LLM)\n",
        "    dashboard = vizro_ai.dashboard(dfs, user_input)\n",
        "\n",
        "    vizro_dashboard = Vizro().build(dashboard)\n",
        "\n",
        "    button1.result = vizro_dashboard\n",
        "\n",
        "button1 = widgets.Button(description=\"Build Dashboard!\")\n",
        "display(button1)\n",
        "\n",
        "button1.on_click(run_code)"
      ]
    },
    {
      "cell_type": "code",
      "execution_count": null,
      "metadata": {
        "cellView": "form",
        "id": "as5y9yI8x-s5"
      },
      "outputs": [],
      "source": [
        "# @title 7. Render dashboard\n",
        "\n",
        "import ipywidgets as widgets\n",
        "from IPython.display import display\n",
        "\n",
        "def run_dashboard(button):\n",
        "    button1.result.run()\n",
        "\n",
        "button2 = widgets.Button(description=\"Run Dashboard!\")\n",
        "display(button2)\n",
        "\n",
        "button2.on_click(run_dashboard)"
      ]
    }
  ],
  "metadata": {
    "colab": {
      "provenance": []
    },
    "kernelspec": {
      "display_name": "Python 3",
      "name": "python3"
    },
    "language_info": {
      "name": "python"
    }
  },
  "nbformat": 4,
  "nbformat_minor": 0
}