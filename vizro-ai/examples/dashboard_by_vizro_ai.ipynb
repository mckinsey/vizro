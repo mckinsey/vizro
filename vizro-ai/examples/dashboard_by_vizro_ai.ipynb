{
  "cells": [
    {
      "cell_type": "markdown",
      "metadata": {
        "id": "npjw_Cstpr2I"
      },
      "source": [
        "[![Open In Colab](https://colab.research.google.com/assets/colab-badge.svg)](https://colab.research.google.com/github/mckinsey/vizro/blob/docs/add_colab_link/vizro-ai/examples/colab_example_dashboard.ipynb)"
      ]
    },
    {
      "cell_type": "markdown",
      "metadata": {
        "id": "dsR_4Smypr2L"
      },
      "source": [
        "# Use Vizro-AI to generate Vizro dashboard"
      ]
    },
    {
      "cell_type": "code",
      "source": [
        "# @title 1. Install Vizro-AI\n",
        "#@markdown (TODO: change to !pip install vizro-ai when this PR is ready to merge)\n",
        "# !pip install vizro-ai\n",
        "!pip install \"vizro-ai @ git+https://github.com/mckinsey/vizro.git@main#subdirectory=vizro-ai\""
      ],
      "metadata": {
        "cellView": "form",
        "id": "OSDQDsyCBjSz"
      },
      "execution_count": null,
      "outputs": []
    },
    {
      "cell_type": "code",
      "execution_count": 2,
      "metadata": {
        "cellView": "form",
        "id": "dc1unu-0pr2M"
      },
      "outputs": [],
      "source": [
        "# @title 2. Secure your LLM API key as environment variable\n",
        "#@markdown - click the `Secrets` button on the left\n",
        "#@markdown - click `Add new secret`\n",
        "#@markdown - insert \"OPENAI_API_KEY\" under `Name`\n",
        "#@markdown - insert the API key value under `Value`\n",
        "#@markdown - [optional] you might also need to insert \"OPENAI_BASE_URL\" and its values, based on the requirements from your API key provider.\n",
        "#@markdown - click the `Notebook access` toggle to make it available for the notebook run\n",
        "\n",
        "import os\n",
        "from google.colab import userdata\n",
        "\n",
        "os.environ[\"OPENAI_API_KEY\"] = userdata.get(\"OPENAI_API_KEY\")\n",
        "os.environ[\"OPENAI_BASE_URL\"] = userdata.get(\"OPENAI_BASE_URL\") # optional"
      ]
    },
    {
      "cell_type": "code",
      "execution_count": null,
      "metadata": {
        "cellView": "form",
        "id": "bPXCUA7Kpr2P"
      },
      "outputs": [],
      "source": [
        "# @title ## 3. Input your dashboard question\n",
        "\n",
        "# @markdown #### Instructions:\n",
        "user_input = 'Create a gdp dashboard with 1 page. use a bar chart to show gdp per continent. add a filter to filter data by country' # @param {type:\"string\", placeholder:\"Enter the requirements for the dashboard\"}\n",
        "\n",
        "print(user_input)"
      ]
    },
    {
      "cell_type": "code",
      "execution_count": null,
      "metadata": {
        "cellView": "form",
        "id": "O_wbhA2zpr2Q"
      },
      "outputs": [],
      "source": [
        "# @title 4. Upload your CSV data\n",
        "#@markdown - click `Choose Files` if you'd like to upload and use your own data\n",
        "#@markdown - or click `Cancel upload` and use the default example data for initial exploration\n",
        "\n",
        "import pandas as pd\n",
        "from plotly.express.data import gapminder\n",
        "from google.colab import files\n",
        "\n",
        "uploaded = files.upload()\n",
        "\n",
        "dfs = []\n",
        "\n",
        "if not uploaded:\n",
        "    print(\"No files uploaded. Use the plotly gapminder dataset as an example.\")\n",
        "    df = gapminder()\n",
        "    dfs.append(df)\n",
        "else:\n",
        "    for fn in uploaded.keys():\n",
        "        print('User uploaded file \"{name}\"'.format(\n",
        "            name=fn, length=len(uploaded[fn])))\n",
        "\n",
        "        df_uploaded = pd.read_csv(fn)\n",
        "        dfs.append(df_uploaded)"
      ]
    },
    {
      "cell_type": "code",
      "execution_count": null,
      "metadata": {
        "cellView": "form",
        "id": "COXftEJEpr2Q"
      },
      "outputs": [],
      "source": [
        "# @title 5. Choose the LLM model\n",
        "\n",
        "LLM = 'gpt-4o' # @param [\"gpt-4o\", \"gpt-3.5-turbo\", \"gpt-4-turbo\"]\n",
        "\n",
        "print(f\"Selected LLM: {LLM}\")"
      ]
    },
    {
      "cell_type": "code",
      "execution_count": null,
      "metadata": {
        "cellView": "form",
        "id": "rEl8JajAxmMq"
      },
      "outputs": [],
      "source": [
        "# @title 6. Build the dashboard using Vizro-AI\n",
        "\n",
        "import ipywidgets as widgets\n",
        "from IPython.display import display\n",
        "\n",
        "def run_code(button):\n",
        "    from vizro_ai import VizroAI\n",
        "    from vizro import Vizro\n",
        "\n",
        "    Vizro._reset()\n",
        "    vizro_ai = VizroAI(model=LLM)\n",
        "    dashboard = vizro_ai.dashboard(dfs, user_input)\n",
        "\n",
        "    vizro_dashboard = Vizro().build(dashboard)\n",
        "\n",
        "    # Store the result in the button's object\n",
        "    button1.result = vizro_dashboard\n",
        "\n",
        "# Create and display the button\n",
        "button1 = widgets.Button(description=\"Build Dashboard!\")\n",
        "display(button1)\n",
        "\n",
        "# Link the button click to the function\n",
        "button1.on_click(run_code)"
      ]
    },
    {
      "cell_type": "code",
      "execution_count": null,
      "metadata": {
        "cellView": "form",
        "id": "as5y9yI8x-s5"
      },
      "outputs": [],
      "source": [
        "# @title 7. Render dashboard\n",
        "\n",
        "# button1.result.run()\n",
        "\n",
        "import ipywidgets as widgets\n",
        "from IPython.display import display\n",
        "\n",
        "def run_dashboard(button):\n",
        "    button1.result.run()\n",
        "\n",
        "# Create and display the button\n",
        "button2 = widgets.Button(description=\"Run Dashboard!\")\n",
        "display(button2)\n",
        "\n",
        "# Link the button click to the function\n",
        "button2.on_click(run_dashboard)"
      ]
    }
  ],
  "metadata": {
    "colab": {
      "provenance": []
    },
    "kernelspec": {
      "display_name": "Python 3",
      "name": "python3"
    },
    "language_info": {
      "name": "python"
    }
  },
  "nbformat": 4,
  "nbformat_minor": 0
}
