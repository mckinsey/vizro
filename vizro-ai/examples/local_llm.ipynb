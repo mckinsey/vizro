{
 "cells": [
  {
   "cell_type": "markdown",
   "metadata": {},
   "source": [
    "## Ollama local"
   ]
  },
  {
   "cell_type": "code",
   "execution_count": 1,
   "metadata": {},
   "outputs": [],
   "source": [
    "from langchain_ollama import ChatOllama\n",
    "from typing import Optional\n",
    "from langchain_core.pydantic_v1 import BaseModel, Field\n",
    "import plotly.express as px\n",
    "from vizro_ai.dashboard._pydantic_output import _get_pydantic_model"
   ]
  },
  {
   "cell_type": "code",
   "execution_count": 2,
   "metadata": {},
   "outputs": [],
   "source": [
    "llm = ChatOllama(\n",
    "    model=\"llama3.1\",#70B is pretty slow, never got it to run\n",
    "    temperature=0,\n",
    "    # other params...\n",
    ")"
   ]
  },
  {
   "cell_type": "code",
   "execution_count": 3,
   "metadata": {},
   "outputs": [],
   "source": [
    "from langchain_core.messages import AIMessage\n",
    "\n",
    "messages = [\n",
    "    (\n",
    "        \"system\",\n",
    "        \"You are a helpful assistant that translates English to French. Translate the user sentence.\",\n",
    "    ),\n",
    "    (\"human\", \"I love programming.\"),\n",
    "]\n",
    "# ai_msg = llm.invoke(messages)\n",
    "# ai_msg"
   ]
  },
  {
   "cell_type": "code",
   "execution_count": 4,
   "metadata": {},
   "outputs": [],
   "source": [
    "# Pydantic\n",
    "class Joke(BaseModel):\n",
    "    \"\"\"Joke to tell user.\"\"\"\n",
    "\n",
    "    setup: str = Field(description=\"The setup of the joke\")\n",
    "    punchline: str = Field(description=\"The punchline to the joke\")\n",
    "    rating: Optional[int] = Field(\n",
    "        default=None, description=\"How funny the joke is, from 1 to 10\"\n",
    "    )\n",
    "\n",
    "\n",
    "structured_llm = llm.with_structured_output(Joke)\n",
    "\n",
    "# structured_llm.invoke(\"Tell me a joke about cats\")"
   ]
  },
  {
   "cell_type": "code",
   "execution_count": 5,
   "metadata": {},
   "outputs": [],
   "source": [
    "# res = _get_pydantic_model(llm_model=llm,query=\"Tell me a joke about cats\", response_model=Joke)\n",
    "# res"
   ]
  },
  {
   "cell_type": "code",
   "execution_count": 6,
   "metadata": {},
   "outputs": [],
   "source": [
    "class Chart(BaseModel):\n",
    "    \"\"\"Joke to tell user.\"\"\"\n",
    "\n",
    "    code: str = Field(description=\"Code for a plotly chart\")\n",
    "    # explanation: str = Field(description=\"Step by step explanation of the chart\")"
   ]
  },
  {
   "cell_type": "code",
   "execution_count": 7,
   "metadata": {},
   "outputs": [
    {
     "name": "stdout",
     "output_type": "stream",
     "text": [
      "ATTEMPS 0. Calling LLM  with query: Make a nice scatter chart based in this data      sepal_length  sepal_width  petal_length  petal_width    species  \\\n",
      "17            5.1          3.5           1.4          0.3     setosa   \n",
      "34            4.9          3.1           1.5          0.1     setosa   \n",
      "121           5.6          2.8           4.9          2.0  virginica   \n",
      "134           6.1          2.6           5.6          1.4  virginica   \n",
      "125           7.2          3.2           6.0          1.8  virginica   \n",
      "\n",
      "     species_id  \n",
      "17            1  \n",
      "34            1  \n",
      "121           3  \n",
      "134           3  \n",
      "125           3   and response model: Chart\n",
      "MODEL RESPONSE:  None\n"
     ]
    }
   ],
   "source": [
    "df = px.data.iris()\n",
    "res = _get_pydantic_model(llm_model=llm,query=f\"Make a nice scatter chart based in this data {df.sample(5)}\", response_model=Chart)"
   ]
  },
  {
   "cell_type": "code",
   "execution_count": null,
   "metadata": {},
   "outputs": [],
   "source": []
  }
 ],
 "metadata": {
  "kernelspec": {
   "display_name": "vizro-ai",
   "language": "python",
   "name": "python3"
  },
  "language_info": {
   "codemirror_mode": {
    "name": "ipython",
    "version": 3
   },
   "file_extension": ".py",
   "mimetype": "text/x-python",
   "name": "python",
   "nbconvert_exporter": "python",
   "pygments_lexer": "ipython3",
   "version": "3.12.4"
  }
 },
 "nbformat": 4,
 "nbformat_minor": 2
}
