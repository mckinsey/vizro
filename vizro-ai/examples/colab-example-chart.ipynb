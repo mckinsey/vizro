{
 "cells": [
  {
   "cell_type": "markdown",
   "id": "b72a43eb-2991-45da-844a-a88c1b9b6f1e",
   "metadata": {},
   "source": [
    "[![Open In Colab](https://colab.research.google.com/assets/colab-badge.svg)](https://colab.research.google.com/github/mckinsey/vizro/blob/docs/add_colab_link/vizro-ai/examples/colab-example-chart.ipynb)"
   ]
  },
  {
   "cell_type": "markdown",
   "id": "fbc65f78",
   "metadata": {},
   "source": [
    "# Use Vizro-AI in Google Colab"
   ]
  },
  {
   "cell_type": "markdown",
   "id": "1ac9a6f7",
   "metadata": {},
   "source": [
    "#### 1. Secure your LLM API key as environment variable\n",
    "\n",
    "- click the `Secrets` button on the left\n",
    "- click `Add new secret`\n",
    "- insert \"OPENAI_API_KEY\" under `Name`\n",
    "- insert the API key value under `Value`\n",
    "- click the `Notebook access` toggle to make it available for the notebook run"
   ]
  },
  {
   "cell_type": "code",
   "execution_count": null,
   "id": "d6a12271-d8da-4013-a677-74c01605ccc1",
   "metadata": {},
   "outputs": [],
   "source": [
    "import os\n",
    "from google.colab import userdata\n",
    "\n",
    "os.environ[\"OPENAI_API_KEY\"] = userdata.get(\"OPENAI_API_KEY\")\n",
    "os.environ[\"OPENAI_BASE_URL\"] = userdata.get(\"OPENAI_BASE_URL\") # optional"
   ]
  },
  {
   "cell_type": "markdown",
   "id": "90c99f85",
   "metadata": {},
   "source": [
    "#### 2. Install Vizro-AI"
   ]
  },
  {
   "cell_type": "code",
   "execution_count": null,
   "id": "a79a438f-6998-468e-9707-998406c63652",
   "metadata": {},
   "outputs": [],
   "source": [
    "!pip install vizro-ai"
   ]
  },
  {
   "cell_type": "markdown",
   "id": "23acc66a-f782-46b8-832f-4ce5699f23e7",
   "metadata": {},
   "source": [
    "#### 3. Load sample data"
   ]
  },
  {
   "cell_type": "code",
   "execution_count": null,
   "id": "c6ac1b7d-5830-495b-94be-1ad7bf3022d3",
   "metadata": {},
   "outputs": [],
   "source": [
    "import vizro.plotly.express as px\n",
    "\n",
    "df = px.data.gapminder()"
   ]
  },
  {
   "cell_type": "markdown",
   "id": "c6cd92b0",
   "metadata": {},
   "source": [
    "#### 4. Instruct Vizro-AI for your plotting task"
   ]
  },
  {
   "cell_type": "code",
   "execution_count": null,
   "id": "fbb3717e",
   "metadata": {},
   "outputs": [],
   "source": [
    "from vizro_ai import VizroAI\n",
    "\n",
    "vizro_ai = VizroAI()\n",
    "vizro_ai.plot(df, \"describe the composition of gdp in continent\")"
   ]
  },
  {
   "cell_type": "markdown",
   "id": "ccbacc74-d5fc-46b6-beb2-231242b0e601",
   "metadata": {},
   "source": [
    "# Use a different model"
   ]
  },
  {
   "cell_type": "code",
   "execution_count": null,
   "id": "0aab1319-e11a-4354-a220-b6517a5934c3",
   "metadata": {},
   "outputs": [],
   "source": [
    "vizro_ai = VizroAI(model=\"gpt-4o\")"
   ]
  },
  {
   "cell_type": "code",
   "execution_count": null,
   "id": "1e0a171d-502b-4bf1-a0ae-93443af21274",
   "metadata": {},
   "outputs": [],
   "source": [
    "vizro_ai.plot(df, \"describe the composition of gdp in continent\")"
   ]
  },
  {
   "cell_type": "markdown",
   "id": "d4fda13e-a27f-4977-aa58-fcdd8b4cbc05",
   "metadata": {},
   "source": [
    "# Use your own data"
   ]
  },
  {
   "cell_type": "markdown",
   "id": "dbedf477-cefe-49fa-b675-ef661425c3d3",
   "metadata": {},
   "source": [
    "#### 1. Upload from local"
   ]
  },
  {
   "cell_type": "code",
   "execution_count": null,
   "id": "dfd45d6e-e828-4f20-9afc-8a659a79b5d6",
   "metadata": {},
   "outputs": [],
   "source": [
    "from google.colab import files\n",
    "\n",
    "uploaded = files.upload()\n",
    "\n",
    "for fn in uploaded.keys():\n",
    "    print('User uploaded file \"{name}\" with length {length} bytes'.format(\n",
    "        name=fn, length=len(uploaded[fn])))"
   ]
  },
  {
   "cell_type": "code",
   "execution_count": null,
   "id": "b4d83236-f584-4467-bcd3-30174d368e9d",
   "metadata": {},
   "outputs": [],
   "source": [
    "import pandas as pd\n",
    "\n",
    "# Get the filename (assuming you uploaded only one file)\n",
    "filename = next(iter(uploaded))\n",
    "\n",
    "# Read the CSV file into a pandas DataFrame\n",
    "df_uploaded = pd.read_csv(filename)\n",
    "\n",
    "# Display the first few rows of the DataFrame\n",
    "print(df_uploaded.head())"
   ]
  },
  {
   "cell_type": "code",
   "execution_count": null,
   "id": "ec8612c7",
   "metadata": {},
   "outputs": [],
   "source": [
    "vizro_ai.plot(df_uploaded, \"<your plotting instruction on the uploaded dataframe>\")"
   ]
  },
  {
   "cell_type": "markdown",
   "id": "d61aa049-6785-4926-a543-bfa3cb68e65a",
   "metadata": {},
   "source": [
    "#### 2. Additional ways to connect to your data\n",
    "\n",
    "https://colab.research.google.com/notebooks/io.ipynb"
   ]
  }
 ],
 "metadata": {
  "kernelspec": {
   "display_name": "Python 3 (ipykernel)",
   "language": "python",
   "name": "python3"
  },
  "language_info": {
   "codemirror_mode": {
    "name": "ipython",
    "version": 3
   },
   "file_extension": ".py",
   "mimetype": "text/x-python",
   "name": "python",
   "nbconvert_exporter": "python",
   "pygments_lexer": "ipython3",
   "version": "3.9.7"
  }
 },
 "nbformat": 4,
 "nbformat_minor": 5
}
