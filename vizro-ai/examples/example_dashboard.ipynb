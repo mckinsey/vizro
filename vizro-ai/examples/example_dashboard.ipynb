{
 "cells": [
  {
   "cell_type": "code",
   "execution_count": 1,
   "id": "53e857ce-22bc-49de-9adc-9a2e7c9829cf",
   "metadata": {},
   "outputs": [
    {
     "data": {
      "text/plain": [
       "True"
      ]
     },
     "execution_count": 1,
     "metadata": {},
     "output_type": "execute_result"
    }
   ],
   "source": [
    "from dotenv import load_dotenv\n",
    "load_dotenv()"
   ]
  },
  {
   "cell_type": "code",
   "execution_count": 2,
   "id": "2a25acdd-20c3-4762-b97f-254de1586aeb",
   "metadata": {},
   "outputs": [],
   "source": [
    "import pandas as pd\n",
    "import vizro.plotly.express as px\n",
    "\n",
    "from vizro import Vizro\n",
    "from vizro_ai import VizroAI\n",
    "\n",
    "# vizro_ai = VizroAI(model=\"gpt-4-turbo\")\n",
    "# vizro_ai = VizroAI(model=\"gpt-4o\")\n",
    "vizro_ai = VizroAI()"
   ]
  },
  {
   "cell_type": "code",
   "execution_count": 3,
   "id": "b5e24f1b-e698-40e5-be00-c3a59c53ec65",
   "metadata": {},
   "outputs": [],
   "source": [
    "df1 = px.data.gapminder()"
   ]
  },
  {
   "cell_type": "code",
   "execution_count": 4,
   "id": "449da2ee-c754-420a-ba2e-c9b0ef62d934",
   "metadata": {},
   "outputs": [],
   "source": [
    "df2 = px.data.stocks()"
   ]
  },
  {
   "cell_type": "markdown",
   "id": "ec46d4d1-d20b-4351-831d-d3d8ddc5cb70",
   "metadata": {},
   "source": [
    "# Example: Simple dashboard request"
   ]
  },
  {
   "cell_type": "code",
   "execution_count": 5,
   "id": "820a5d0f-a31e-4bbd-a924-9629631cc291",
   "metadata": {},
   "outputs": [],
   "source": [
    "user_question_2_data = \"\"\"\n",
    "I need a page with 1 table.\n",
    "The table shows the tech companies stock data.\n",
    "\n",
    "I need a second page showing 2 cards and one chart.\n",
    "The first card says 'The Gapminder dataset provides historical data on countries' development indicators.'\n",
    "The chart is a scatter plot showing life expectancy vs. GDP per capita by country. Life expectancy on the y axis, GDP per capita on the x axis, and colored by continent.\n",
    "The second card says 'Data spans from 1952 to 2007 across various countries'\n",
    "The layout uses a grid of 3 columns and 2 rows.\n",
    "\n",
    "Row 1: The first row has three columns:\n",
    "The first column is occupied by the first card.\n",
    "The second and third columns are spanned by the chart.\n",
    "\n",
    "Row 2: The second row mirrors the layout of the first row with respect to chart, but the first column is occupied by the second card.\n",
    "\n",
    "Add a filter to filter the scatter plot by continent.\n",
    "Add a second filter to filter the chart by year.\n",
    "\"\"\""
   ]
  },
  {
   "cell_type": "code",
   "execution_count": 6,
   "id": "0d71e089-8c94-4d12-87bd-d803552acb32",
   "metadata": {},
   "outputs": [
    {
     "data": {
      "application/vnd.jupyter.widget-view+json": {
       "model_id": "e4cf1346a490428fb7243c7745e6cf0d",
       "version_major": 2,
       "version_minor": 0
      },
      "text/plain": [
       "Store df info:   0%|          | 0/2 [00:00<?, ?it/s]"
      ]
     },
     "metadata": {},
     "output_type": "display_data"
    },
    {
     "name": "stderr",
     "output_type": "stream",
     "text": [
      "/Users/Alexey_Snigir/anaconda3/envs/vizro_ai/lib/python3.9/site-packages/langchain_core/_api/beta_decorator.py:87: LangChainBetaWarning: The method `ChatOpenAI.with_structured_output` is in beta. It is actively being worked on, so the API may change.\n",
      "  warn_beta(\n"
     ]
    },
    {
     "name": "stdout",
     "output_type": "stream",
     "text": [
      "df_name: tech_companies_stock_data\n",
      "df_name: tech_stocks_data\n"
     ]
    },
    {
     "data": {
      "application/vnd.jupyter.widget-view+json": {
       "model_id": "455da19ccfb1463aaebd6b516467b6c9",
       "version_major": 2,
       "version_minor": 0
      },
      "text/plain": [
       "Generate dashboard plan:   0%|          | 0/2 [00:00<?, ?it/s]"
      ]
     },
     "metadata": {},
     "output_type": "display_data"
    },
    {
     "data": {
      "application/vnd.jupyter.widget-view+json": {
       "model_id": "4851d25eb81647f692df823585c465e9",
       "version_major": 2,
       "version_minor": 0
      },
      "text/plain": [
       "Building page: Tech Companies Stock Data Table:   0%|          | 0/5 [00:00<?, ?it/s]"
      ]
     },
     "metadata": {},
     "output_type": "display_data"
    },
    {
     "data": {
      "application/vnd.jupyter.widget-view+json": {
       "model_id": "01eedb11a0d74e09b3184e3c502e2703",
       "version_major": 2,
       "version_minor": 0
      },
      "text/plain": [
       "Building page: Country Development Indicators Visualization:   0%|          | 0/5 [00:00<?, ?it/s]"
      ]
     },
     "metadata": {},
     "output_type": "display_data"
    },
    {
     "data": {
      "application/vnd.jupyter.widget-view+json": {
       "model_id": "",
       "version_major": 2,
       "version_minor": 0
      },
      "text/plain": []
     },
     "metadata": {},
     "output_type": "display_data"
    },
    {
     "data": {
      "application/vnd.jupyter.widget-view+json": {
       "model_id": "",
       "version_major": 2,
       "version_minor": 0
      },
      "text/plain": []
     },
     "metadata": {},
     "output_type": "display_data"
    },
    {
     "data": {
      "application/vnd.jupyter.widget-view+json": {
       "model_id": "",
       "version_major": 2,
       "version_minor": 0
      },
      "text/plain": [
       "Currently Building ... [Page] <Country Development Indicators Visualization> components:   0%|          | 0/3 …"
      ]
     },
     "metadata": {},
     "output_type": "display_data"
    },
    {
     "data": {
      "application/vnd.jupyter.widget-view+json": {
       "model_id": "",
       "version_major": 2,
       "version_minor": 0
      },
      "text/plain": [
       "Currently Building ... [Page] <Tech Companies Stock Data Table> components:   0%|          | 0/1 [00:00<?, ?it…"
      ]
     },
     "metadata": {},
     "output_type": "display_data"
    },
    {
     "data": {
      "application/vnd.jupyter.widget-view+json": {
       "model_id": "",
       "version_major": 2,
       "version_minor": 0
      },
      "text/plain": [
       "Currently Building ... [Page] <Tech Companies Stock Data Table> controls: 0it [00:00, ?it/s]"
      ]
     },
     "metadata": {},
     "output_type": "display_data"
    },
    {
     "name": "stderr",
     "output_type": "stream",
     "text": [
      "/Users/Alexey_Snigir/anaconda3/envs/vizro_ai/lib/python3.9/site-packages/langchain_core/_api/deprecation.py:139: LangChainDeprecationWarning: The class `LLMChain` was deprecated in LangChain 0.1.17 and will be removed in 1.0. Use RunnableSequence, e.g., `prompt | llm` instead.\n",
      "  warn_deprecated(\n"
     ]
    },
    {
     "data": {
      "application/vnd.jupyter.widget-view+json": {
       "model_id": "",
       "version_major": 2,
       "version_minor": 0
      },
      "text/plain": [
       "Currently Building ... [Page] <Country Development Indicators Visualization> controls:   0%|          | 0/2 [0…"
      ]
     },
     "metadata": {},
     "output_type": "display_data"
    },
    {
     "name": "stderr",
     "output_type": "stream",
     "text": [
      "/Users/Alexey_Snigir/anaconda3/envs/vizro_ai/lib/python3.9/site-packages/langchain_core/utils/function_calling.py:103: UserWarning:\n",
      "\n",
      "CapturedCallable function is excluded from the schema.\n",
      "\n",
      "/Users/Alexey_Snigir/anaconda3/envs/vizro_ai/lib/python3.9/site-packages/langchain_core/utils/function_calling.py:103: UserWarning:\n",
      "\n",
      "CapturedCallable function is excluded from the schema.\n",
      "\n"
     ]
    },
    {
     "data": {
      "image/png": "[encoded data removed]",
      "text/plain": [
       "<Figure size 640x480 with 1 Axes>"
      ]
     },
     "metadata": {},
     "output_type": "display_data"
    },
    {
     "data": {
      "image/png": "[encoded data removed]",
      "text/plain": [
       "<Figure size 640x480 with 1 Axes>"
      ]
     },
     "metadata": {},
     "output_type": "display_data"
    }
   ],
   "source": [
    "dashboard = vizro_ai.dashboard([df1, df2], user_question_2_data)"
   ]
  },
  {
   "cell_type": "code",
   "execution_count": 26,
   "id": "576a3c7c-86d7-4d55-ba2e-688e78622da0",
   "metadata": {},
   "outputs": [
    {
     "data": {
      "text/plain": [
       "Dashboard(id='b4862b21-fb97-d435-8856-1712e8e5216a', pages=[Page(id='Tech Companies Stock Data Table', components=[AgGrid(id='table_tech_stock', type='ag_grid', figure=<vizro.models.types.CapturedCallable object at 0x1692770a0>, title='', actions=[])], title='Tech Companies Stock Data Table', description='', layout=Layout(id='e3e70682-c209-4cac-629f-6fbed82c07cd', grid=[[0]], row_gap='24px', col_gap='24px', row_min_height='0px', col_min_width='0px'), controls=[], path='/tech-companies-stock-data-table', actions=[]), Page(id='Country Development Indicators Visualization', components=[Card(id='card1', type='card', text=\"The Gapminder dataset provides historical data on countries' development indicators.\", href=''), Graph(id='scatter_plot', type='graph', figure=<vizro.models.types.CapturedCallable object at 0x169d46580>, actions=[]), Card(id='card2', type='card', text='Data spans from 1952 to 2007 across various countries..', href='')], title='Country Development Indicators Visualization', description='', layout=Layout(id='fcbd04c3-4021-2ef7-cca5-a5a19e4d6e3c', grid=[[0, 1, 1], [2, 1, 1]], row_gap='24px', col_gap='24px', row_min_height='0px', col_min_width='0px'), controls=[Filter(id='e443df78-9558-867f-5ba9-1faf7a024204', type='filter', column='continent', targets=['scatter_plot'], selector=None), Filter(id='1846d424-c17c-6279-23c6-612f48268673', type='filter', column='year', targets=['scatter_plot'], selector=None)], path='/country-development-indicators-visualization', actions=[])], theme='vizro_dark', navigation=Navigation(id='259f4329-e6f4-590b-9a16-4106cf6a659e', pages=['Tech Companies Stock Data Table', 'Country Development Indicators Visualization'], nav_selector=None), title='Tech Companies Stock and Gapminder Data Visualization')"
      ]
     },
     "execution_count": 26,
     "metadata": {},
     "output_type": "execute_result"
    }
   ],
   "source": [
    "dashboard"
   ]
  },
  {
   "cell_type": "code",
   "execution_count": 36,
   "id": "8cbc4696-0106-4fea-825d-a623fd0c7228",
   "metadata": {},
   "outputs": [
    {
     "data": {
      "text/plain": [
       "['card', 'graph', 'card']"
      ]
     },
     "execution_count": 36,
     "metadata": {},
     "output_type": "execute_result"
    }
   ],
   "source": [
    "[components.type for components in dashboard.pages[1].components]"
   ]
  },
  {
   "cell_type": "code",
   "execution_count": 35,
   "id": "e5f52dae-9535-4ec6-a8d3-86087a87e644",
   "metadata": {},
   "outputs": [
    {
     "ename": "AssertionError",
     "evalue": "\nExpected: a sequence over ['card1', 'scatter_plot', 'card'] in any order\n     but: not matched: 'card2'\n",
     "output_type": "error",
     "traceback": [
      "\u001b[0;31m---------------------------------------------------------------------------\u001b[0m",
      "\u001b[0;31mAssertionError\u001b[0m                            Traceback (most recent call last)",
      "Cell \u001b[0;32mIn[35], line 4\u001b[0m\n\u001b[1;32m      1\u001b[0m \u001b[38;5;28;01mfrom\u001b[39;00m \u001b[38;5;21;01mhamcrest\u001b[39;00m \u001b[38;5;28;01mimport\u001b[39;00m all_of, any_of, assert_that, contains_string, equal_to, contains_inanyorder\n\u001b[1;32m      3\u001b[0m comps \u001b[38;5;241m=\u001b[39m [components\u001b[38;5;241m.\u001b[39mid \u001b[38;5;28;01mfor\u001b[39;00m components \u001b[38;5;129;01min\u001b[39;00m dashboard\u001b[38;5;241m.\u001b[39mpages[\u001b[38;5;241m1\u001b[39m]\u001b[38;5;241m.\u001b[39mcomponents]\n\u001b[0;32m----> 4\u001b[0m \u001b[43massert_that\u001b[49m\u001b[43m(\u001b[49m\u001b[43mcomps\u001b[49m\u001b[43m,\u001b[49m\u001b[43m \u001b[49m\u001b[43mcontains_inanyorder\u001b[49m\u001b[43m(\u001b[49m\u001b[38;5;124;43m'\u001b[39;49m\u001b[38;5;124;43mcard1\u001b[39;49m\u001b[38;5;124;43m'\u001b[39;49m\u001b[43m,\u001b[49m\u001b[43m \u001b[49m\u001b[38;5;124;43m'\u001b[39;49m\u001b[38;5;124;43mscatter_plot\u001b[39;49m\u001b[38;5;124;43m'\u001b[39;49m\u001b[43m,\u001b[49m\u001b[43m \u001b[49m\u001b[38;5;124;43m'\u001b[39;49m\u001b[38;5;124;43mcard\u001b[39;49m\u001b[38;5;124;43m'\u001b[39;49m\u001b[43m)\u001b[49m\u001b[43m)\u001b[49m\n",
      "File \u001b[0;32m~/anaconda3/envs/vizro_ai/lib/python3.9/site-packages/hamcrest/core/assert_that.py:58\u001b[0m, in \u001b[0;36massert_that\u001b[0;34m(actual_or_assertion, matcher, reason)\u001b[0m\n\u001b[1;32m     29\u001b[0m \u001b[38;5;250m\u001b[39m\u001b[38;5;124;03m\"\"\"Asserts that actual value satisfies matcher. (Can also assert plain\u001b[39;00m\n\u001b[1;32m     30\u001b[0m \u001b[38;5;124;03mboolean condition.)\u001b[39;00m\n\u001b[1;32m     31\u001b[0m \n\u001b[0;32m   (...)\u001b[0m\n\u001b[1;32m     55\u001b[0m \n\u001b[1;32m     56\u001b[0m \u001b[38;5;124;03m\"\"\"\u001b[39;00m\n\u001b[1;32m     57\u001b[0m \u001b[38;5;28;01mif\u001b[39;00m \u001b[38;5;28misinstance\u001b[39m(matcher, Matcher):\n\u001b[0;32m---> 58\u001b[0m     \u001b[43m_assert_match\u001b[49m\u001b[43m(\u001b[49m\u001b[43mactual\u001b[49m\u001b[38;5;241;43m=\u001b[39;49m\u001b[43mactual_or_assertion\u001b[49m\u001b[43m,\u001b[49m\u001b[43m \u001b[49m\u001b[43mmatcher\u001b[49m\u001b[38;5;241;43m=\u001b[39;49m\u001b[43mmatcher\u001b[49m\u001b[43m,\u001b[49m\u001b[43m \u001b[49m\u001b[43mreason\u001b[49m\u001b[38;5;241;43m=\u001b[39;49m\u001b[43mreason\u001b[49m\u001b[43m)\u001b[49m\n\u001b[1;32m     59\u001b[0m \u001b[38;5;28;01melse\u001b[39;00m:\n\u001b[1;32m     60\u001b[0m     \u001b[38;5;28;01mif\u001b[39;00m \u001b[38;5;28misinstance\u001b[39m(actual_or_assertion, Matcher):\n",
      "File \u001b[0;32m~/anaconda3/envs/vizro_ai/lib/python3.9/site-packages/hamcrest/core/assert_that.py:73\u001b[0m, in \u001b[0;36m_assert_match\u001b[0;34m(actual, matcher, reason)\u001b[0m\n\u001b[1;32m     71\u001b[0m matcher\u001b[38;5;241m.\u001b[39mdescribe_mismatch(actual, description)\n\u001b[1;32m     72\u001b[0m description\u001b[38;5;241m.\u001b[39mappend_text(\u001b[38;5;124m\"\u001b[39m\u001b[38;5;130;01m\\n\u001b[39;00m\u001b[38;5;124m\"\u001b[39m)\n\u001b[0;32m---> 73\u001b[0m \u001b[38;5;28;01mraise\u001b[39;00m \u001b[38;5;167;01mAssertionError\u001b[39;00m(description)\n",
      "\u001b[0;31mAssertionError\u001b[0m: \nExpected: a sequence over ['card1', 'scatter_plot', 'card'] in any order\n     but: not matched: 'card2'\n"
     ]
    }
   ],
   "source": [
    "from hamcrest import all_of, any_of, assert_that, contains_string, equal_to, contains_inanyorder\n",
    "\n",
    "comps = [components.id for components in dashboard.pages[1].components]\n",
    "assert_that(comps, contains_inanyorder('card1', 'scatter_plot', 'card2'))"
   ]
  },
  {
   "cell_type": "code",
   "execution_count": null,
   "id": "14477c56-54e9-43a5-9136-25bc950fdf3a",
   "metadata": {},
   "outputs": [],
   "source": [
    "Vizro().build(dashboard).run()"
   ]
  },
  {
   "cell_type": "markdown",
   "id": "747964b9-fd05-4c5a-a73a-79dae82320b3",
   "metadata": {},
   "source": [
    "# Example: 5-page dashboard request"
   ]
  },
  {
   "cell_type": "code",
   "execution_count": 39,
   "id": "967ff6a4-f138-4643-b993-a72e5cc26de2",
   "metadata": {},
   "outputs": [],
   "source": [
    "df3 = px.data.tips()"
   ]
  },
  {
   "cell_type": "code",
   "execution_count": 48,
   "id": "cb9347f8",
   "metadata": {},
   "outputs": [],
   "source": [
    "user_question_3_data = \"\"\"\n",
    "I need only 4 pages\n",
    "\n",
    "<Page 1>\n",
    "I need a page with 1 table and 1 line chart. \n",
    "The chart shows the stock price trends of GOOG and AAPL.\n",
    "The table shows the stock prices data details.\n",
    "\n",
    "<Page 2>\n",
    "I need a second page showing 1 card and 1 chart.\n",
    "The card says 'The Gapminder dataset provides historical data on countries' development indicators.'\n",
    "The chart is a scatter plot showing GDP per capita vs. life expectancy. GDP per capita on the x axis, life expectancy on the y axis, and colored by continent.\n",
    "Layout the card on the left and the chart on the right. The card takes 1/3 of the whole space on the left.\n",
    "The chart takes 2/3 of the whole space and is on the right.\n",
    "Add a filter to filter the scatter plot by continent.\n",
    "Add a second filter to filter the chart by year.\n",
    "\n",
    "<Page 3>\n",
    "This page displays the tips dataset. use two different charts to show data\n",
    "distributions. one chart should be a bar chart and the other should be a scatter plot.\n",
    "first chart is on the left and the second chart is on the right.\n",
    "Add a filter to filter data in the scatter plot by smoker.\n",
    "\n",
    "<Page 4>\n",
    "Create 3 cards on this page:\n",
    "1. The first card on top says \"This page combines data from various sources including tips, stock prices, and global indicators.\"\n",
    "2. The second card says \"Insights from Gapminder dataset.\"\n",
    "3. The third card says \"Stock price trends over time.\"\n",
    "\n",
    "Layout these 3 cards in this way:\n",
    "create a grid with 3 columns and 2 rows.\n",
    "Row 1: The first row has three columns:\n",
    "- The first column is empty.\n",
    "- The second and third columns span the area for card 1.\n",
    "\n",
    "Row 2: The second row also has three columns:\n",
    "- The first column is empty.\n",
    "- The second column is occupied by the area for card 2.\n",
    "- The third column is occupied by the area for card 3.\n",
    "\"\"\""
   ]
  },
  {
   "cell_type": "code",
   "execution_count": 41,
   "id": "f0a0cdfa",
   "metadata": {},
   "outputs": [
    {
     "data": {
      "application/vnd.jupyter.widget-view+json": {
       "model_id": "881519e78b9d4e738060d0741940289c",
       "version_major": 2,
       "version_minor": 0
      },
      "text/plain": [
       "Store df info:   0%|          | 0/3 [00:00<?, ?it/s]"
      ]
     },
     "metadata": {},
     "output_type": "display_data"
    },
    {
     "name": "stdout",
     "output_type": "stream",
     "text": [
      "df_name: world_development_indicators\n",
      "df_name: stock_price_trends\n",
      "df_name: tips_data\n"
     ]
    },
    {
     "data": {
      "application/vnd.jupyter.widget-view+json": {
       "model_id": "0210879bccf640c2bb390aee6a620d35",
       "version_major": 2,
       "version_minor": 0
      },
      "text/plain": [
       "Generate dashboard plan:   0%|          | 0/2 [00:00<?, ?it/s]"
      ]
     },
     "metadata": {},
     "output_type": "display_data"
    },
    {
     "data": {
      "application/vnd.jupyter.widget-view+json": {
       "model_id": "931255ed146d4f7b881109bf09cecf19",
       "version_major": 2,
       "version_minor": 0
      },
      "text/plain": [
       "Building page: Stock Price Trends:   0%|          | 0/5 [00:00<?, ?it/s]"
      ]
     },
     "metadata": {},
     "output_type": "display_data"
    },
    {
     "data": {
      "application/vnd.jupyter.widget-view+json": {
       "model_id": "4012c9c3bdd043a38b4f9d359291ace6",
       "version_major": 2,
       "version_minor": 0
      },
      "text/plain": [
       "Building page: Tips Dataset Visualization:   0%|          | 0/5 [00:00<?, ?it/s]"
      ]
     },
     "metadata": {},
     "output_type": "display_data"
    },
    {
     "data": {
      "application/vnd.jupyter.widget-view+json": {
       "model_id": "ba76bc4de4c54576aa885e280fa4afa1",
       "version_major": 2,
       "version_minor": 0
      },
      "text/plain": [
       "Building page: Gapminder Dataset Insights:   0%|          | 0/5 [00:00<?, ?it/s]"
      ]
     },
     "metadata": {},
     "output_type": "display_data"
    },
    {
     "data": {
      "application/vnd.jupyter.widget-view+json": {
       "model_id": "bef29f115a584960b84ca7e376a40ffa",
       "version_major": 2,
       "version_minor": 0
      },
      "text/plain": [
       "Building page: Combined Data Insights:   0%|          | 0/5 [00:00<?, ?it/s]"
      ]
     },
     "metadata": {},
     "output_type": "display_data"
    },
    {
     "data": {
      "application/vnd.jupyter.widget-view+json": {
       "model_id": "",
       "version_major": 2,
       "version_minor": 0
      },
      "text/plain": []
     },
     "metadata": {},
     "output_type": "display_data"
    },
    {
     "data": {
      "application/vnd.jupyter.widget-view+json": {
       "model_id": "",
       "version_major": 2,
       "version_minor": 0
      },
      "text/plain": []
     },
     "metadata": {},
     "output_type": "display_data"
    },
    {
     "data": {
      "application/vnd.jupyter.widget-view+json": {
       "model_id": "",
       "version_major": 2,
       "version_minor": 0
      },
      "text/plain": []
     },
     "metadata": {},
     "output_type": "display_data"
    },
    {
     "data": {
      "application/vnd.jupyter.widget-view+json": {
       "model_id": "",
       "version_major": 2,
       "version_minor": 0
      },
      "text/plain": []
     },
     "metadata": {},
     "output_type": "display_data"
    },
    {
     "data": {
      "application/vnd.jupyter.widget-view+json": {
       "model_id": "",
       "version_major": 2,
       "version_minor": 0
      },
      "text/plain": [
       "Currently Building ... [Page] <Stock Price Trends> components:   0%|          | 0/2 [00:00<?, ?it/s]"
      ]
     },
     "metadata": {},
     "output_type": "display_data"
    },
    {
     "data": {
      "application/vnd.jupyter.widget-view+json": {
       "model_id": "",
       "version_major": 2,
       "version_minor": 0
      },
      "text/plain": [
       "Currently Building ... [Page] <Combined Data Insights> components:   0%|          | 0/3 [00:00<?, ?it/s]"
      ]
     },
     "metadata": {},
     "output_type": "display_data"
    },
    {
     "data": {
      "application/vnd.jupyter.widget-view+json": {
       "model_id": "",
       "version_major": 2,
       "version_minor": 0
      },
      "text/plain": [
       "Currently Building ... [Page] <Tips Dataset Visualization> components:   0%|          | 0/2 [00:00<?, ?it/s]"
      ]
     },
     "metadata": {},
     "output_type": "display_data"
    },
    {
     "data": {
      "application/vnd.jupyter.widget-view+json": {
       "model_id": "",
       "version_major": 2,
       "version_minor": 0
      },
      "text/plain": [
       "Currently Building ... [Page] <Gapminder Dataset Insights> components:   0%|          | 0/2 [00:00<?, ?it/s]"
      ]
     },
     "metadata": {},
     "output_type": "display_data"
    },
    {
     "data": {
      "application/vnd.jupyter.widget-view+json": {
       "model_id": "",
       "version_major": 2,
       "version_minor": 0
      },
      "text/plain": [
       "Currently Building ... [Page] <Combined Data Insights> controls: 0it [00:00, ?it/s]"
      ]
     },
     "metadata": {},
     "output_type": "display_data"
    },
    {
     "data": {
      "application/vnd.jupyter.widget-view+json": {
       "model_id": "",
       "version_major": 2,
       "version_minor": 0
      },
      "text/plain": [
       "Currently Building ... [Page] <Tips Dataset Visualization> controls:   0%|          | 0/1 [00:00<?, ?it/s]"
      ]
     },
     "metadata": {},
     "output_type": "display_data"
    },
    {
     "name": "stderr",
     "output_type": "stream",
     "text": [
      "/Users/Alexey_Snigir/anaconda3/envs/vizro_ai/lib/python3.9/site-packages/langchain_core/utils/function_calling.py:103: UserWarning:\n",
      "\n",
      "CapturedCallable function is excluded from the schema.\n",
      "\n"
     ]
    },
    {
     "data": {
      "application/vnd.jupyter.widget-view+json": {
       "model_id": "",
       "version_major": 2,
       "version_minor": 0
      },
      "text/plain": [
       "Currently Building ... [Page] <Stock Price Trends> controls: 0it [00:00, ?it/s]"
      ]
     },
     "metadata": {},
     "output_type": "display_data"
    },
    {
     "data": {
      "application/vnd.jupyter.widget-view+json": {
       "model_id": "",
       "version_major": 2,
       "version_minor": 0
      },
      "text/plain": [
       "Currently Building ... [Page] <Gapminder Dataset Insights> controls:   0%|          | 0/2 [00:00<?, ?it/s]"
      ]
     },
     "metadata": {},
     "output_type": "display_data"
    },
    {
     "name": "stderr",
     "output_type": "stream",
     "text": [
      "/Users/Alexey_Snigir/anaconda3/envs/vizro_ai/lib/python3.9/site-packages/langchain_core/utils/function_calling.py:103: UserWarning:\n",
      "\n",
      "CapturedCallable function is excluded from the schema.\n",
      "\n",
      "/Users/Alexey_Snigir/anaconda3/envs/vizro_ai/lib/python3.9/site-packages/langchain_core/utils/function_calling.py:103: UserWarning:\n",
      "\n",
      "CapturedCallable function is excluded from the schema.\n",
      "\n"
     ]
    },
    {
     "data": {
      "image/png": "[encoded data removed]",
      "text/plain": [
       "<Figure size 640x480 with 1 Axes>"
      ]
     },
     "metadata": {},
     "output_type": "display_data"
    },
    {
     "data": {
      "image/png": "[encoded data removed]",
      "text/plain": [
       "<Figure size 640x480 with 1 Axes>"
      ]
     },
     "metadata": {},
     "output_type": "display_data"
    }
   ],
   "source": [
    "Vizro._reset()\n",
    "dashboard = vizro_ai.dashboard([df1, df2, df3], user_question_3_data)"
   ]
  },
  {
   "cell_type": "code",
   "execution_count": 42,
   "id": "971f0276-009b-43e3-9767-8c17d534e683",
   "metadata": {},
   "outputs": [
    {
     "data": {
      "text/plain": [
       "Dashboard(id='247a8333-f7b0-b7d2-cda8-056c3d15eef7', pages=[Page(id='Stock Price Trends', components=[AgGrid(id='stock_prices_table', type='ag_grid', figure=<vizro.models.types.CapturedCallable object at 0x16af19970>, title='', actions=[]), Graph(id='stock_prices_line_chart', type='graph', figure=<vizro.models.types.CapturedCallable object at 0x16af34ac0>, actions=[])], title='Stock Price Trends', description='', layout=Layout(id='85776e9a-dd84-f39e-7154-5a137a1d5006', grid=[[0, 1]], row_gap='24px', col_gap='24px', row_min_height='0px', col_min_width='0px'), controls=[], path='/stock-price-trends', actions=[]), Page(id='Gapminder Dataset Insights', components=[Card(id='gapminder_card', type='card', text=\"The Gapminder dataset provides historical data on countries' development indicators.\", href=''), Graph(id='gapminder_scatter_plot', type='graph', figure=<vizro.models.types.CapturedCallable object at 0x16af33520>, actions=[])], title='Gapminder Dataset Insights', description='', layout=Layout(id='38c1962e-9148-624f-eac1-c14f30e9c5cc', grid=[[0, 0, 1, 1, 1, 1]], row_gap='24px', col_gap='24px', row_min_height='0px', col_min_width='0px'), controls=[Filter(id='d3fbf47a-7e5b-1e7f-9ca5-499d004ae545', type='filter', column='continent', targets=['gapminder_scatter_plot'], selector=None), Filter(id='101fbccc-ded7-33e8-b421-eaeb534097ca', type='filter', column='year', targets=['gapminder_scatter_plot'], selector=None)], path='/gapminder-dataset-insights', actions=[]), Page(id='Tips Dataset Visualization', components=[Graph(id='tips_bar_chart', type='graph', figure=<vizro.models.types.CapturedCallable object at 0x16af52fd0>, actions=[]), Graph(id='tips_scatter_plot', type='graph', figure=<vizro.models.types.CapturedCallable object at 0x16afada60>, actions=[])], title='Tips Dataset Visualization', description='', layout=Layout(id='b5d32b16-6619-4cb1-d710-37d1b83e90ec', grid=[[0, 1]], row_gap='24px', col_gap='24px', row_min_height='0px', col_min_width='0px'), controls=[Filter(id='17e0aa3c-0398-3ca8-ea7e-9d498c778ea6', type='filter', column='smoker', targets=['tips_scatter_plot'], selector=None)], path='/tips-dataset-visualization', actions=[]), Page(id='Combined Data Insights', components=[Card(id='combined_data_card1', type='card', text='This page combines data from various sources including tips, stock prices, and global indicators..', href=''), Card(id='combined_data_card2', type='card', text='Insights from Gapminder dataset..', href=''), Card(id='combined_data_card3', type='card', text='Stock price trends over time..', href='')], title='Combined Data Insights', description='', layout=Layout(id='8d723104-f773-83c1-3458-a748e9bb17bc', grid=[[-1, 0, 0, 1, 2, 2]], row_gap='24px', col_gap='24px', row_min_height='0px', col_min_width='0px'), controls=[], path='/combined-data-insights', actions=[])], theme='vizro_dark', navigation=Navigation(id='1759edc3-72ae-2244-8b01-63c1cd9d2b7d', pages=['Stock Price Trends', 'Gapminder Dataset Insights', 'Tips Dataset Visualization', 'Combined Data Insights'], nav_selector=None), title='Summary of Data Visualization')"
      ]
     },
     "execution_count": 42,
     "metadata": {},
     "output_type": "execute_result"
    }
   ],
   "source": [
    "dashboard"
   ]
  },
  {
   "cell_type": "code",
   "execution_count": 44,
   "id": "93706479-8f9b-439e-9ac3-86d26cebd23a",
   "metadata": {},
   "outputs": [],
   "source": [
    "assert_that(len(dashboard.pages), equal_to(4))"
   ]
  },
  {
   "cell_type": "code",
   "execution_count": 49,
   "id": "b3ebfe04-08a6-4d9e-8d73-f3c972e23f7b",
   "metadata": {},
   "outputs": [
    {
     "data": {
      "application/vnd.jupyter.widget-view+json": {
       "model_id": "990683776f05413c8365a2c5fb106863",
       "version_major": 2,
       "version_minor": 0
      },
      "text/plain": [
       "Store df info:   0%|          | 0/3 [00:00<?, ?it/s]"
      ]
     },
     "metadata": {},
     "output_type": "display_data"
    },
    {
     "name": "stdout",
     "output_type": "stream",
     "text": [
      "df_name: world_indicators\n",
      "df_name: stock_prices_trends\n",
      "df_name: tips_data\n"
     ]
    },
    {
     "data": {
      "application/vnd.jupyter.widget-view+json": {
       "model_id": "60176c1e1af24d1895f0e8abbfbfa88d",
       "version_major": 2,
       "version_minor": 0
      },
      "text/plain": [
       "Generate dashboard plan:   0%|          | 0/2 [00:00<?, ?it/s]"
      ]
     },
     "metadata": {},
     "output_type": "display_data"
    },
    {
     "data": {
      "application/vnd.jupyter.widget-view+json": {
       "model_id": "c02cbe83aa264b54929688caa7dbb30c",
       "version_major": 2,
       "version_minor": 0
      },
      "text/plain": [
       "Building page: Data Fusion Insights:   0%|          | 0/5 [00:00<?, ?it/s]"
      ]
     },
     "metadata": {},
     "output_type": "display_data"
    },
    {
     "data": {
      "application/vnd.jupyter.widget-view+json": {
       "model_id": "7e19afc212f74dc7825aafc9fcfc2b79",
       "version_major": 2,
       "version_minor": 0
      },
      "text/plain": [
       "Building page: Gapminder Dataset Insights:   0%|          | 0/5 [00:00<?, ?it/s]"
      ]
     },
     "metadata": {},
     "output_type": "display_data"
    },
    {
     "data": {
      "application/vnd.jupyter.widget-view+json": {
       "model_id": "2ba662dc569b4c0aa6bea943c1b6451e",
       "version_major": 2,
       "version_minor": 0
      },
      "text/plain": [
       "Building page: Stock Prices Overview:   0%|          | 0/5 [00:00<?, ?it/s]"
      ]
     },
     "metadata": {},
     "output_type": "display_data"
    },
    {
     "data": {
      "application/vnd.jupyter.widget-view+json": {
       "model_id": "4f2d89dd61bd4a90baff1fc7ce92ddbd",
       "version_major": 2,
       "version_minor": 0
      },
      "text/plain": [
       "Building page: Tips Dataset Analysis:   0%|          | 0/5 [00:00<?, ?it/s]"
      ]
     },
     "metadata": {},
     "output_type": "display_data"
    },
    {
     "data": {
      "application/vnd.jupyter.widget-view+json": {
       "model_id": "",
       "version_major": 2,
       "version_minor": 0
      },
      "text/plain": []
     },
     "metadata": {},
     "output_type": "display_data"
    },
    {
     "data": {
      "application/vnd.jupyter.widget-view+json": {
       "model_id": "",
       "version_major": 2,
       "version_minor": 0
      },
      "text/plain": []
     },
     "metadata": {},
     "output_type": "display_data"
    },
    {
     "data": {
      "application/vnd.jupyter.widget-view+json": {
       "model_id": "",
       "version_major": 2,
       "version_minor": 0
      },
      "text/plain": []
     },
     "metadata": {},
     "output_type": "display_data"
    },
    {
     "data": {
      "application/vnd.jupyter.widget-view+json": {
       "model_id": "",
       "version_major": 2,
       "version_minor": 0
      },
      "text/plain": []
     },
     "metadata": {},
     "output_type": "display_data"
    },
    {
     "data": {
      "application/vnd.jupyter.widget-view+json": {
       "model_id": "",
       "version_major": 2,
       "version_minor": 0
      },
      "text/plain": [
       "Currently Building ... [Page] <Stock Prices Overview> components:   0%|          | 0/2 [00:00<?, ?it/s]"
      ]
     },
     "metadata": {},
     "output_type": "display_data"
    },
    {
     "data": {
      "application/vnd.jupyter.widget-view+json": {
       "model_id": "",
       "version_major": 2,
       "version_minor": 0
      },
      "text/plain": [
       "Currently Building ... [Page] <Tips Dataset Analysis> components:   0%|          | 0/2 [00:00<?, ?it/s]"
      ]
     },
     "metadata": {},
     "output_type": "display_data"
    },
    {
     "data": {
      "application/vnd.jupyter.widget-view+json": {
       "model_id": "",
       "version_major": 2,
       "version_minor": 0
      },
      "text/plain": [
       "Currently Building ... [Page] <Data Fusion Insights> components:   0%|          | 0/3 [00:00<?, ?it/s]"
      ]
     },
     "metadata": {},
     "output_type": "display_data"
    },
    {
     "data": {
      "application/vnd.jupyter.widget-view+json": {
       "model_id": "",
       "version_major": 2,
       "version_minor": 0
      },
      "text/plain": [
       "Currently Building ... [Page] <Gapminder Dataset Insights> components:   0%|          | 0/2 [00:00<?, ?it/s]"
      ]
     },
     "metadata": {},
     "output_type": "display_data"
    },
    {
     "data": {
      "application/vnd.jupyter.widget-view+json": {
       "model_id": "",
       "version_major": 2,
       "version_minor": 0
      },
      "text/plain": [
       "Currently Building ... [Page] <Data Fusion Insights> controls: 0it [00:00, ?it/s]"
      ]
     },
     "metadata": {},
     "output_type": "display_data"
    },
    {
     "name": "stderr",
     "output_type": "stream",
     "text": [
      "WARNING:vizro_ai.dashboard.response_models.layout:Component card1 not found in component_ids: ['data_fusion_card', 'gapminder_insights_card', 'stock_trends_card']\n",
      "WARNING:vizro_ai.dashboard.response_models.layout:Component card1 not found in component_ids: ['data_fusion_card', 'gapminder_insights_card', 'stock_trends_card']\n",
      "WARNING:vizro_ai.dashboard.response_models.layout:Component card2 not found in component_ids: ['data_fusion_card', 'gapminder_insights_card', 'stock_trends_card']\n",
      "WARNING:vizro_ai.dashboard.response_models.layout:Component card3 not found in component_ids: ['data_fusion_card', 'gapminder_insights_card', 'stock_trends_card']\n",
      "WARNING:vizro_ai.dashboard.response_models.layout:\n",
      "[FALLBACK] Build failed for `Layout`, returning default values. Try rephrase the prompt or select a different model.\n",
      "Error details: 1 validation error for Layout\n",
      "grid\n",
      "  Grid must contain consecutive integers starting from 0. (type=value_error)\n",
      "Relevant prompt: Create a grid with 3 columns and 2 rows. Layout the cards as specified., which was parsed as layout_grid_template_areas:\n",
      "['. card1 card1', '. card2 card3']\n",
      "\n",
      "WARNING:vizro_ai.dashboard.response_models.layout:Calculated grid which caused the error: [[-1, -1, -1], [-1, -1, -1]]\n"
     ]
    },
    {
     "data": {
      "application/vnd.jupyter.widget-view+json": {
       "model_id": "",
       "version_major": 2,
       "version_minor": 0
      },
      "text/plain": [
       "Currently Building ... [Page] <Stock Prices Overview> controls: 0it [00:00, ?it/s]"
      ]
     },
     "metadata": {},
     "output_type": "display_data"
    },
    {
     "data": {
      "application/vnd.jupyter.widget-view+json": {
       "model_id": "",
       "version_major": 2,
       "version_minor": 0
      },
      "text/plain": [
       "Currently Building ... [Page] <Tips Dataset Analysis> controls:   0%|          | 0/1 [00:00<?, ?it/s]"
      ]
     },
     "metadata": {},
     "output_type": "display_data"
    },
    {
     "name": "stderr",
     "output_type": "stream",
     "text": [
      "/Users/Alexey_Snigir/anaconda3/envs/vizro_ai/lib/python3.9/site-packages/langchain_core/utils/function_calling.py:103: UserWarning:\n",
      "\n",
      "CapturedCallable function is excluded from the schema.\n",
      "\n",
      "WARNING:vizro_ai.dashboard.response_models.layout:Component bar_chart not found in component_ids: ['tips_bar_chart', 'tips_scatter_plot']\n",
      "WARNING:vizro_ai.dashboard.response_models.layout:Component scatter_plot not found in component_ids: ['tips_bar_chart', 'tips_scatter_plot']\n",
      "WARNING:vizro_ai.dashboard.response_models.layout:\n",
      "[FALLBACK] Build failed for `Layout`, returning default values. Try rephrase the prompt or select a different model.\n",
      "Error details: 1 validation error for Layout\n",
      "grid\n",
      "  Grid must contain consecutive integers starting from 0. (type=value_error)\n",
      "Relevant prompt: The first chart is on the left and the second chart is on the right., which was parsed as layout_grid_template_areas:\n",
      "['bar_chart scatter_plot']\n",
      "\n",
      "WARNING:vizro_ai.dashboard.response_models.layout:Calculated grid which caused the error: [[-1, -1]]\n",
      "WARNING:vizro_ai.dashboard.response_models.components:\n",
      "[FALLBACK] Failed to build `Component`: gapminder_chart.\n",
      "Reason: Chart creation failed. Retry debugging has reached maximum limit. Try to rephrase the prompt, or try to select a different model. Fallout response is provided: \n",
      "\n",
      "Failed to debug code from vizro.models.types import capture\n",
      "import plotly.express as px\n",
      "import pandas as pd\n",
      "@capture('graph')\n",
      "def custom_chart(data_frame):\n",
      "    df_copy = data_frame.copy()\n",
      "    df_copy.plot.scatter(x='gdpPercap', y='lifeExp', c='continent', colormap='viridis')\n",
      "\n",
      "    fig = px.scatter(df_copy, x='gdpPercap', y='lifeExp', color='continent', title='GDP per Capita vs. Life Expectancy by Continent',\n",
      "                     labels={'gdpPercap': 'GDP per Capita', 'lifeExp': 'Life Expectancy', 'continent': 'Continent'})\n",
      "\n",
      "    fig.update_layout(\n",
      "        xaxis_title='GDP per Capita',\n",
      "        yaxis_title='Life Expectancy',\n",
      "        legend_title='Continent',\n",
      "        showlegend=True\n",
      "    )\n",
      "\n",
      "    return fig\n",
      "\n",
      "fig = custom_chart(data_frame=df), error: 'c' argument must be a color, a sequence of colors, or a sequence of numbers, not array(['Asia', 'Asia', 'Asia', ..., 'Africa', 'Africa', 'Africa'],\n",
      "      dtype=object)\n",
      "Relevant prompt: A scatter plot showing GDP per capita vs. life expectancy. GDP per capita on the x axis, life expectancy on the y axis, and colored by continent.\n",
      "\n"
     ]
    },
    {
     "data": {
      "application/vnd.jupyter.widget-view+json": {
       "model_id": "",
       "version_major": 2,
       "version_minor": 0
      },
      "text/plain": [
       "Currently Building ... [Page] <Gapminder Dataset Insights> controls:   0%|          | 0/2 [00:00<?, ?it/s]"
      ]
     },
     "metadata": {},
     "output_type": "display_data"
    },
    {
     "name": "stderr",
     "output_type": "stream",
     "text": [
      "/Users/Alexey_Snigir/anaconda3/envs/vizro_ai/lib/python3.9/site-packages/langchain_core/utils/function_calling.py:103: UserWarning:\n",
      "\n",
      "CapturedCallable function is excluded from the schema.\n",
      "\n",
      "WARNING:vizro_ai.dashboard.response_models.controls:\n",
      "[FALLBACK] Build failed for `Control`, returning default values. Try rephrase the prompt or select a different model.\n",
      "Error details: 1 validation error for FilterProxy\n",
      "targets\n",
      "  \n",
      "                This might be due to the filter target is not found in the controllable components.\n",
      "                returning default values.\n",
      "                 (type=value_error)\n",
      "Relevant prompt: Add a filter to filter the scatter plot by continent.\n",
      "\n",
      "/Users/Alexey_Snigir/anaconda3/envs/vizro_ai/lib/python3.9/site-packages/langchain_core/utils/function_calling.py:103: UserWarning:\n",
      "\n",
      "CapturedCallable function is excluded from the schema.\n",
      "\n",
      "WARNING:vizro_ai.dashboard.response_models.controls:\n",
      "[FALLBACK] Build failed for `Control`, returning default values. Try rephrase the prompt or select a different model.\n",
      "Error details: 1 validation error for FilterProxy\n",
      "targets\n",
      "  \n",
      "                This might be due to the filter target is not found in the controllable components.\n",
      "                returning default values.\n",
      "                 (type=value_error)\n",
      "Relevant prompt: Add a second filter to filter the chart by year.\n",
      "\n",
      "WARNING:vizro_ai.dashboard.response_models.layout:Component card not found in component_ids: ['gapminder_card', 'gapminder_chart']\n",
      "WARNING:vizro_ai.dashboard.response_models.layout:Component chart not found in component_ids: ['gapminder_card', 'gapminder_chart']\n",
      "WARNING:vizro_ai.dashboard.response_models.layout:Component chart not found in component_ids: ['gapminder_card', 'gapminder_chart']\n",
      "WARNING:vizro_ai.dashboard.response_models.layout:\n",
      "[FALLBACK] Build failed for `Layout`, returning default values. Try rephrase the prompt or select a different model.\n",
      "Error details: 1 validation error for Layout\n",
      "grid\n",
      "  Grid must contain consecutive integers starting from 0. (type=value_error)\n",
      "Relevant prompt: Layout the card on the left and the chart on the right. The card takes 1/3 of the whole space on the left. The chart takes 2/3 of the whole space and is on the right., which was parsed as layout_grid_template_areas:\n",
      "['card chart chart']\n",
      "\n",
      "WARNING:vizro_ai.dashboard.response_models.layout:Calculated grid which caused the error: [[-1, -1, -1]]\n"
     ]
    },
    {
     "data": {
      "image/png": "[encoded data removed]",
      "text/plain": [
       "<Figure size 640x480 with 1 Axes>"
      ]
     },
     "metadata": {},
     "output_type": "display_data"
    },
    {
     "data": {
      "image/png": "[encoded data removed]",
      "text/plain": [
       "<Figure size 640x480 with 1 Axes>"
      ]
     },
     "metadata": {},
     "output_type": "display_data"
    },
    {
     "data": {
      "image/png": "[encoded data removed]",
      "text/plain": [
       "<Figure size 640x480 with 1 Axes>"
      ]
     },
     "metadata": {},
     "output_type": "display_data"
    },
    {
     "data": {
      "image/png": "[encoded data removed]",
      "text/plain": [
       "<Figure size 640x480 with 1 Axes>"
      ]
     },
     "metadata": {},
     "output_type": "display_data"
    }
   ],
   "source": [
    "Vizro._reset()\n",
    "dashboard = vizro_ai.dashboard([df1, df2, df3], user_question_3_data)"
   ]
  },
  {
   "cell_type": "code",
   "execution_count": null,
   "id": "3167e996",
   "metadata": {},
   "outputs": [],
   "source": [
    "Vizro().build(dashboard).run()"
   ]
  },
  {
   "cell_type": "markdown",
   "id": "bbf5c920-0432-4415-996f-1acb9d7b6b8a",
   "metadata": {},
   "source": [
    "# Example: Request with unsupported features"
   ]
  },
  {
   "cell_type": "code",
   "execution_count": 50,
   "id": "12d5976e",
   "metadata": {},
   "outputs": [],
   "source": [
    "user_question_2_data = \"\"\"\n",
    "<Page 1>\n",
    "I need a page showing 2 cards, one chart, and 1 button.\n",
    "The first card says 'The Tips dataset provides insights into customer tipping behavior.'\n",
    "The chart is a bar chart showing the total bill amount by day. Day on the x axis, total bill amount on the y axis, and colored by time of day.\n",
    "The second card says 'Data collected from various days and times.'\n",
    "Layout the two cards on the left and the chart on the right. Two cards take 1/3 of the whole space on the left in total.\n",
    "The first card is on top of the second card vertically.\n",
    "The chart takes 2/3 of the whole space and is on the right.\n",
    "The button would trigger a download action to download the Tips dataset.\n",
    "Add a filter to filter the bar chart by `size`.\n",
    "Make another tab on this page,\n",
    "In this tab, create a card saying \"Tipping patterns and trends.\"\n",
    "Group all the above content into the first NavLink.\n",
    "\n",
    "<Second NavLink>\n",
    "Create two pages:\n",
    "1. The first page has a card saying \"Analyzing global development trends.\"\n",
    "2. The second page has a scatter plot showing GDP per capita vs. life expectancy. GDP per capita on the x axis, life expectancy on the y axis, and colored by continent.\n",
    "Add a parameter to control the title of the scatter plot, with title options \"Economic Growth vs. Health\" and \"Development Indicators.\"\n",
    "Also create a button and a spinning circle on the right-hand side of the page.\n",
    "\n",
    "<Third NavLink>\n",
    "Create one page:\n",
    "1. The first page has a card saying \"Stock price trends over time.\"\n",
    "Create a button and a spinning circle on the right-hand side of the page.\n",
    "\n",
    "For hosting the dashboard on AWS, which service should I use?\n",
    "\"\"\""
   ]
  },
  {
   "cell_type": "code",
   "execution_count": 51,
   "id": "6b4838d1",
   "metadata": {},
   "outputs": [
    {
     "data": {
      "application/vnd.jupyter.widget-view+json": {
       "model_id": "f372604f7520460ebec86db6a119d64d",
       "version_major": 2,
       "version_minor": 0
      },
      "text/plain": [
       "Store df info:   0%|          | 0/3 [00:00<?, ?it/s]"
      ]
     },
     "metadata": {},
     "output_type": "display_data"
    },
    {
     "name": "stdout",
     "output_type": "stream",
     "text": [
      "df_name: tips_dataset\n",
      "df_name: tipping_insights\n",
      "df_name: global_development_data\n"
     ]
    },
    {
     "data": {
      "application/vnd.jupyter.widget-view+json": {
       "model_id": "e058b9dbdbdf4fd292825120123dc069",
       "version_major": 2,
       "version_minor": 0
      },
      "text/plain": [
       "Generate dashboard plan:   0%|          | 0/2 [00:00<?, ?it/s]"
      ]
     },
     "metadata": {},
     "output_type": "display_data"
    },
    {
     "name": "stderr",
     "output_type": "stream",
     "text": [
      "WARNING:vizro_ai.dashboard.response_models.page:\n",
      " ------- \n",
      " Unsupported specs on page <Global Development Trends>: \n",
      " ['Parameter to control scatter plot title']\n"
     ]
    },
    {
     "ename": "ValueError",
     "evalue": "\n            Failed to create a valid dashboard plan. Try rephrase the prompt or select a different\n            model. Error details:\n            2 validation errors for DashboardPlanner\npages -> 2 -> components_plan -> 1 -> component_type\n  unexpected value; permitted: 'AgGrid', 'Card', 'Graph' (type=value_error.const; given=Button; permitted=('AgGrid', 'Card', 'Graph'))\npages -> 2 -> components_plan -> 2 -> component_type\n  unexpected value; permitted: 'AgGrid', 'Card', 'Graph' (type=value_error.const; given=Spinner; permitted=('AgGrid', 'Card', 'Graph'))\n            ",
     "output_type": "error",
     "traceback": [
      "\u001b[0;31m---------------------------------------------------------------------------\u001b[0m",
      "\u001b[0;31mValidationError\u001b[0m                           Traceback (most recent call last)",
      "File \u001b[0;32m~/PycharmProjects/vizro/vizro-ai/src/vizro_ai/dashboard/graph/dashboard_creation.py:109\u001b[0m, in \u001b[0;36m_dashboard_plan\u001b[0;34m(state, config)\u001b[0m\n\u001b[1;32m    108\u001b[0m \u001b[38;5;28;01mtry\u001b[39;00m:\n\u001b[0;32m--> 109\u001b[0m     dashboard_plan \u001b[38;5;241m=\u001b[39m \u001b[43m_get_pydantic_output\u001b[49m\u001b[43m(\u001b[49m\n\u001b[1;32m    110\u001b[0m \u001b[43m        \u001b[49m\u001b[43mquery\u001b[49m\u001b[38;5;241;43m=\u001b[39;49m\u001b[43mquery\u001b[49m\u001b[43m,\u001b[49m\n\u001b[1;32m    111\u001b[0m \u001b[43m        \u001b[49m\u001b[43mllm_model\u001b[49m\u001b[38;5;241;43m=\u001b[39;49m\u001b[43mllm\u001b[49m\u001b[43m,\u001b[49m\n\u001b[1;32m    112\u001b[0m \u001b[43m        \u001b[49m\u001b[43mresponse_model\u001b[49m\u001b[38;5;241;43m=\u001b[39;49m\u001b[43mDashboardPlanner\u001b[49m\u001b[43m,\u001b[49m\n\u001b[1;32m    113\u001b[0m \u001b[43m        \u001b[49m\u001b[43mdf_info\u001b[49m\u001b[38;5;241;43m=\u001b[39;49m\u001b[43mall_df_metadata\u001b[49m\u001b[38;5;241;43m.\u001b[39;49m\u001b[43mget_schemas_and_samples\u001b[49m\u001b[43m(\u001b[49m\u001b[43m)\u001b[49m\u001b[43m,\u001b[49m\n\u001b[1;32m    114\u001b[0m \u001b[43m    \u001b[49m\u001b[43m)\u001b[49m\n\u001b[1;32m    115\u001b[0m \u001b[38;5;28;01mexcept\u001b[39;00m (DebugFailure, ValidationError) \u001b[38;5;28;01mas\u001b[39;00m e:\n",
      "File \u001b[0;32m~/PycharmProjects/vizro/vizro-ai/src/vizro_ai/dashboard/_pydantic_output.py:88\u001b[0m, in \u001b[0;36m_get_pydantic_output\u001b[0;34m(query, llm_model, response_model, df_info, max_retry)\u001b[0m\n\u001b[1;32m     86\u001b[0m         \u001b[38;5;28;01mreturn\u001b[39;00m res\n\u001b[0;32m---> 88\u001b[0m \u001b[38;5;28;01mraise\u001b[39;00m last_validation_error\n",
      "File \u001b[0;32m~/PycharmProjects/vizro/vizro-ai/src/vizro_ai/dashboard/_pydantic_output.py:82\u001b[0m, in \u001b[0;36m_get_pydantic_output\u001b[0;34m(query, llm_model, response_model, df_info, max_retry)\u001b[0m\n\u001b[1;32m     81\u001b[0m \u001b[38;5;28;01mtry\u001b[39;00m:\n\u001b[0;32m---> 82\u001b[0m     res \u001b[38;5;241m=\u001b[39m \u001b[43mpydantic_llm\u001b[49m\u001b[38;5;241;43m.\u001b[39;49m\u001b[43minvoke\u001b[49m\u001b[43m(\u001b[49m\u001b[43mmessage_content\u001b[49m\u001b[43m)\u001b[49m\n\u001b[1;32m     83\u001b[0m \u001b[38;5;28;01mexcept\u001b[39;00m ValidationError \u001b[38;5;28;01mas\u001b[39;00m validation_error:\n",
      "File \u001b[0;32m~/anaconda3/envs/vizro_ai/lib/python3.9/site-packages/langchain_core/runnables/base.py:2873\u001b[0m, in \u001b[0;36mRunnableSequence.invoke\u001b[0;34m(self, input, config, **kwargs)\u001b[0m\n\u001b[1;32m   2872\u001b[0m         \u001b[38;5;28;01melse\u001b[39;00m:\n\u001b[0;32m-> 2873\u001b[0m             \u001b[38;5;28minput\u001b[39m \u001b[38;5;241m=\u001b[39m \u001b[43mstep\u001b[49m\u001b[38;5;241;43m.\u001b[39;49m\u001b[43minvoke\u001b[49m\u001b[43m(\u001b[49m\u001b[38;5;28;43minput\u001b[39;49m\u001b[43m,\u001b[49m\u001b[43m \u001b[49m\u001b[43mconfig\u001b[49m\u001b[43m)\u001b[49m\n\u001b[1;32m   2874\u001b[0m \u001b[38;5;66;03m# finish the root run\u001b[39;00m\n",
      "File \u001b[0;32m~/anaconda3/envs/vizro_ai/lib/python3.9/site-packages/langchain_core/output_parsers/base.py:183\u001b[0m, in \u001b[0;36mBaseOutputParser.invoke\u001b[0;34m(self, input, config)\u001b[0m\n\u001b[1;32m    182\u001b[0m \u001b[38;5;28;01mif\u001b[39;00m \u001b[38;5;28misinstance\u001b[39m(\u001b[38;5;28minput\u001b[39m, BaseMessage):\n\u001b[0;32m--> 183\u001b[0m     \u001b[38;5;28;01mreturn\u001b[39;00m \u001b[38;5;28;43mself\u001b[39;49m\u001b[38;5;241;43m.\u001b[39;49m\u001b[43m_call_with_config\u001b[49m\u001b[43m(\u001b[49m\n\u001b[1;32m    184\u001b[0m \u001b[43m        \u001b[49m\u001b[38;5;28;43;01mlambda\u001b[39;49;00m\u001b[43m \u001b[49m\u001b[43minner_input\u001b[49m\u001b[43m:\u001b[49m\u001b[43m \u001b[49m\u001b[38;5;28;43mself\u001b[39;49m\u001b[38;5;241;43m.\u001b[39;49m\u001b[43mparse_result\u001b[49m\u001b[43m(\u001b[49m\n\u001b[1;32m    185\u001b[0m \u001b[43m            \u001b[49m\u001b[43m[\u001b[49m\u001b[43mChatGeneration\u001b[49m\u001b[43m(\u001b[49m\u001b[43mmessage\u001b[49m\u001b[38;5;241;43m=\u001b[39;49m\u001b[43minner_input\u001b[49m\u001b[43m)\u001b[49m\u001b[43m]\u001b[49m\n\u001b[1;32m    186\u001b[0m \u001b[43m        \u001b[49m\u001b[43m)\u001b[49m\u001b[43m,\u001b[49m\n\u001b[1;32m    187\u001b[0m \u001b[43m        \u001b[49m\u001b[38;5;28;43minput\u001b[39;49m\u001b[43m,\u001b[49m\n\u001b[1;32m    188\u001b[0m \u001b[43m        \u001b[49m\u001b[43mconfig\u001b[49m\u001b[43m,\u001b[49m\n\u001b[1;32m    189\u001b[0m \u001b[43m        \u001b[49m\u001b[43mrun_type\u001b[49m\u001b[38;5;241;43m=\u001b[39;49m\u001b[38;5;124;43m\"\u001b[39;49m\u001b[38;5;124;43mparser\u001b[39;49m\u001b[38;5;124;43m\"\u001b[39;49m\u001b[43m,\u001b[49m\n\u001b[1;32m    190\u001b[0m \u001b[43m    \u001b[49m\u001b[43m)\u001b[49m\n\u001b[1;32m    191\u001b[0m \u001b[38;5;28;01melse\u001b[39;00m:\n",
      "File \u001b[0;32m~/anaconda3/envs/vizro_ai/lib/python3.9/site-packages/langchain_core/runnables/base.py:1783\u001b[0m, in \u001b[0;36mRunnable._call_with_config\u001b[0;34m(self, func, input, config, run_type, **kwargs)\u001b[0m\n\u001b[1;32m   1780\u001b[0m     context\u001b[38;5;241m.\u001b[39mrun(_set_config_context, child_config)\n\u001b[1;32m   1781\u001b[0m     output \u001b[38;5;241m=\u001b[39m cast(\n\u001b[1;32m   1782\u001b[0m         Output,\n\u001b[0;32m-> 1783\u001b[0m         \u001b[43mcontext\u001b[49m\u001b[38;5;241;43m.\u001b[39;49m\u001b[43mrun\u001b[49m\u001b[43m(\u001b[49m\n\u001b[1;32m   1784\u001b[0m \u001b[43m            \u001b[49m\u001b[43mcall_func_with_variable_args\u001b[49m\u001b[43m,\u001b[49m\u001b[43m  \u001b[49m\u001b[38;5;66;43;03m# type: ignore[arg-type]\u001b[39;49;00m\n\u001b[1;32m   1785\u001b[0m \u001b[43m            \u001b[49m\u001b[43mfunc\u001b[49m\u001b[43m,\u001b[49m\u001b[43m  \u001b[49m\u001b[38;5;66;43;03m# type: ignore[arg-type]\u001b[39;49;00m\n\u001b[1;32m   1786\u001b[0m \u001b[43m            \u001b[49m\u001b[38;5;28;43minput\u001b[39;49m\u001b[43m,\u001b[49m\u001b[43m  \u001b[49m\u001b[38;5;66;43;03m# type: ignore[arg-type]\u001b[39;49;00m\n\u001b[1;32m   1787\u001b[0m \u001b[43m            \u001b[49m\u001b[43mconfig\u001b[49m\u001b[43m,\u001b[49m\n\u001b[1;32m   1788\u001b[0m \u001b[43m            \u001b[49m\u001b[43mrun_manager\u001b[49m\u001b[43m,\u001b[49m\n\u001b[1;32m   1789\u001b[0m \u001b[43m            \u001b[49m\u001b[38;5;241;43m*\u001b[39;49m\u001b[38;5;241;43m*\u001b[39;49m\u001b[43mkwargs\u001b[49m\u001b[43m,\u001b[49m\n\u001b[1;32m   1790\u001b[0m \u001b[43m        \u001b[49m\u001b[43m)\u001b[49m,\n\u001b[1;32m   1791\u001b[0m     )\n\u001b[1;32m   1792\u001b[0m \u001b[38;5;28;01mexcept\u001b[39;00m \u001b[38;5;167;01mBaseException\u001b[39;00m \u001b[38;5;28;01mas\u001b[39;00m e:\n",
      "File \u001b[0;32m~/anaconda3/envs/vizro_ai/lib/python3.9/site-packages/langchain_core/runnables/config.py:383\u001b[0m, in \u001b[0;36mcall_func_with_variable_args\u001b[0;34m(func, input, config, run_manager, **kwargs)\u001b[0m\n\u001b[1;32m    382\u001b[0m     kwargs[\u001b[38;5;124m\"\u001b[39m\u001b[38;5;124mrun_manager\u001b[39m\u001b[38;5;124m\"\u001b[39m] \u001b[38;5;241m=\u001b[39m run_manager\n\u001b[0;32m--> 383\u001b[0m \u001b[38;5;28;01mreturn\u001b[39;00m \u001b[43mfunc\u001b[49m\u001b[43m(\u001b[49m\u001b[38;5;28;43minput\u001b[39;49m\u001b[43m,\u001b[49m\u001b[43m \u001b[49m\u001b[38;5;241;43m*\u001b[39;49m\u001b[38;5;241;43m*\u001b[39;49m\u001b[43mkwargs\u001b[49m\u001b[43m)\u001b[49m\n",
      "File \u001b[0;32m~/anaconda3/envs/vizro_ai/lib/python3.9/site-packages/langchain_core/output_parsers/base.py:184\u001b[0m, in \u001b[0;36mBaseOutputParser.invoke.<locals>.<lambda>\u001b[0;34m(inner_input)\u001b[0m\n\u001b[1;32m    182\u001b[0m \u001b[38;5;28;01mif\u001b[39;00m \u001b[38;5;28misinstance\u001b[39m(\u001b[38;5;28minput\u001b[39m, BaseMessage):\n\u001b[1;32m    183\u001b[0m     \u001b[38;5;28;01mreturn\u001b[39;00m \u001b[38;5;28mself\u001b[39m\u001b[38;5;241m.\u001b[39m_call_with_config(\n\u001b[0;32m--> 184\u001b[0m         \u001b[38;5;28;01mlambda\u001b[39;00m inner_input: \u001b[38;5;28;43mself\u001b[39;49m\u001b[38;5;241;43m.\u001b[39;49m\u001b[43mparse_result\u001b[49m\u001b[43m(\u001b[49m\n\u001b[1;32m    185\u001b[0m \u001b[43m            \u001b[49m\u001b[43m[\u001b[49m\u001b[43mChatGeneration\u001b[49m\u001b[43m(\u001b[49m\u001b[43mmessage\u001b[49m\u001b[38;5;241;43m=\u001b[39;49m\u001b[43minner_input\u001b[49m\u001b[43m)\u001b[49m\u001b[43m]\u001b[49m\n\u001b[1;32m    186\u001b[0m \u001b[43m        \u001b[49m\u001b[43m)\u001b[49m,\n\u001b[1;32m    187\u001b[0m         \u001b[38;5;28minput\u001b[39m,\n\u001b[1;32m    188\u001b[0m         config,\n\u001b[1;32m    189\u001b[0m         run_type\u001b[38;5;241m=\u001b[39m\u001b[38;5;124m\"\u001b[39m\u001b[38;5;124mparser\u001b[39m\u001b[38;5;124m\"\u001b[39m,\n\u001b[1;32m    190\u001b[0m     )\n\u001b[1;32m    191\u001b[0m \u001b[38;5;28;01melse\u001b[39;00m:\n",
      "File \u001b[0;32m~/anaconda3/envs/vizro_ai/lib/python3.9/site-packages/langchain_core/output_parsers/openai_tools.py:299\u001b[0m, in \u001b[0;36mPydanticToolsParser.parse_result\u001b[0;34m(self, result, partial)\u001b[0m\n\u001b[1;32m    298\u001b[0m         \u001b[38;5;28;01melse\u001b[39;00m:\n\u001b[0;32m--> 299\u001b[0m             \u001b[38;5;28;01mraise\u001b[39;00m e\n\u001b[1;32m    300\u001b[0m \u001b[38;5;28;01mif\u001b[39;00m \u001b[38;5;28mself\u001b[39m\u001b[38;5;241m.\u001b[39mfirst_tool_only:\n",
      "File \u001b[0;32m~/anaconda3/envs/vizro_ai/lib/python3.9/site-packages/langchain_core/output_parsers/openai_tools.py:294\u001b[0m, in \u001b[0;36mPydanticToolsParser.parse_result\u001b[0;34m(self, result, partial)\u001b[0m\n\u001b[1;32m    290\u001b[0m         \u001b[38;5;28;01mraise\u001b[39;00m \u001b[38;5;167;01mValueError\u001b[39;00m(\n\u001b[1;32m    291\u001b[0m             \u001b[38;5;124mf\u001b[39m\u001b[38;5;124m\"\u001b[39m\u001b[38;5;124mTool arguments must be specified as a dict, received: \u001b[39m\u001b[38;5;124m\"\u001b[39m\n\u001b[1;32m    292\u001b[0m             \u001b[38;5;124mf\u001b[39m\u001b[38;5;124m\"\u001b[39m\u001b[38;5;132;01m{\u001b[39;00mres[\u001b[38;5;124m'\u001b[39m\u001b[38;5;124margs\u001b[39m\u001b[38;5;124m'\u001b[39m]\u001b[38;5;132;01m}\u001b[39;00m\u001b[38;5;124m\"\u001b[39m\n\u001b[1;32m    293\u001b[0m         )\n\u001b[0;32m--> 294\u001b[0m     pydantic_objects\u001b[38;5;241m.\u001b[39mappend(\u001b[43mname_dict\u001b[49m\u001b[43m[\u001b[49m\u001b[43mres\u001b[49m\u001b[43m[\u001b[49m\u001b[38;5;124;43m\"\u001b[39;49m\u001b[38;5;124;43mtype\u001b[39;49m\u001b[38;5;124;43m\"\u001b[39;49m\u001b[43m]\u001b[49m\u001b[43m]\u001b[49m\u001b[43m(\u001b[49m\u001b[38;5;241;43m*\u001b[39;49m\u001b[38;5;241;43m*\u001b[39;49m\u001b[43mres\u001b[49m\u001b[43m[\u001b[49m\u001b[38;5;124;43m\"\u001b[39;49m\u001b[38;5;124;43margs\u001b[39;49m\u001b[38;5;124;43m\"\u001b[39;49m\u001b[43m]\u001b[49m\u001b[43m)\u001b[49m)\n\u001b[1;32m    295\u001b[0m \u001b[38;5;28;01mexcept\u001b[39;00m (ValidationError, \u001b[38;5;167;01mValueError\u001b[39;00m) \u001b[38;5;28;01mas\u001b[39;00m e:\n",
      "File \u001b[0;32m~/anaconda3/envs/vizro_ai/lib/python3.9/site-packages/pydantic/main.py:341\u001b[0m, in \u001b[0;36mpydantic.main.BaseModel.__init__\u001b[0;34m()\u001b[0m\n",
      "\u001b[0;31mValidationError\u001b[0m: 2 validation errors for DashboardPlanner\npages -> 2 -> components_plan -> 1 -> component_type\n  unexpected value; permitted: 'AgGrid', 'Card', 'Graph' (type=value_error.const; given=Button; permitted=('AgGrid', 'Card', 'Graph'))\npages -> 2 -> components_plan -> 2 -> component_type\n  unexpected value; permitted: 'AgGrid', 'Card', 'Graph' (type=value_error.const; given=Spinner; permitted=('AgGrid', 'Card', 'Graph'))",
      "\nDuring handling of the above exception, another exception occurred:\n",
      "\u001b[0;31mValueError\u001b[0m                                Traceback (most recent call last)",
      "Cell \u001b[0;32mIn[51], line 2\u001b[0m\n\u001b[1;32m      1\u001b[0m Vizro\u001b[38;5;241m.\u001b[39m_reset()\n\u001b[0;32m----> 2\u001b[0m dashboard \u001b[38;5;241m=\u001b[39m \u001b[43mvizro_ai\u001b[49m\u001b[38;5;241;43m.\u001b[39;49m\u001b[43mdashboard\u001b[49m\u001b[43m(\u001b[49m\u001b[43m[\u001b[49m\u001b[43mdf3\u001b[49m\u001b[43m,\u001b[49m\u001b[43m \u001b[49m\u001b[43mdf2\u001b[49m\u001b[43m,\u001b[49m\u001b[43m \u001b[49m\u001b[43mdf1\u001b[49m\u001b[43m]\u001b[49m\u001b[43m,\u001b[49m\u001b[43m \u001b[49m\u001b[43muser_question_2_data\u001b[49m\u001b[43m)\u001b[49m\n",
      "File \u001b[0;32m~/PycharmProjects/vizro/vizro-ai/src/vizro_ai/_vizro_ai.py:183\u001b[0m, in \u001b[0;36mVizroAI.dashboard\u001b[0;34m(self, dfs, user_input, return_elements)\u001b[0m\n\u001b[1;32m    180\u001b[0m runnable \u001b[38;5;241m=\u001b[39m _create_and_compile_graph()\n\u001b[1;32m    182\u001b[0m config \u001b[38;5;241m=\u001b[39m {\u001b[38;5;124m\"\u001b[39m\u001b[38;5;124mconfigurable\u001b[39m\u001b[38;5;124m\"\u001b[39m: {\u001b[38;5;124m\"\u001b[39m\u001b[38;5;124mmodel\u001b[39m\u001b[38;5;124m\"\u001b[39m: \u001b[38;5;28mself\u001b[39m\u001b[38;5;241m.\u001b[39mmodel}}\n\u001b[0;32m--> 183\u001b[0m message_res \u001b[38;5;241m=\u001b[39m \u001b[43mrunnable\u001b[49m\u001b[38;5;241;43m.\u001b[39;49m\u001b[43minvoke\u001b[49m\u001b[43m(\u001b[49m\n\u001b[1;32m    184\u001b[0m \u001b[43m    \u001b[49m\u001b[43m{\u001b[49m\n\u001b[1;32m    185\u001b[0m \u001b[43m        \u001b[49m\u001b[38;5;124;43m\"\u001b[39;49m\u001b[38;5;124;43mdfs\u001b[39;49m\u001b[38;5;124;43m\"\u001b[39;49m\u001b[43m:\u001b[49m\u001b[43m \u001b[49m\u001b[43mdfs\u001b[49m\u001b[43m,\u001b[49m\n\u001b[1;32m    186\u001b[0m \u001b[43m        \u001b[49m\u001b[38;5;124;43m\"\u001b[39;49m\u001b[38;5;124;43mall_df_metadata\u001b[39;49m\u001b[38;5;124;43m\"\u001b[39;49m\u001b[43m:\u001b[49m\u001b[43m \u001b[49m\u001b[43m{\u001b[49m\u001b[43m}\u001b[49m\u001b[43m,\u001b[49m\n\u001b[1;32m    187\u001b[0m \u001b[43m        \u001b[49m\u001b[38;5;124;43m\"\u001b[39;49m\u001b[38;5;124;43mdashboard_plan\u001b[39;49m\u001b[38;5;124;43m\"\u001b[39;49m\u001b[43m:\u001b[49m\u001b[43m \u001b[49m\u001b[38;5;28;43;01mNone\u001b[39;49;00m\u001b[43m,\u001b[49m\n\u001b[1;32m    188\u001b[0m \u001b[43m        \u001b[49m\u001b[38;5;124;43m\"\u001b[39;49m\u001b[38;5;124;43mpages\u001b[39;49m\u001b[38;5;124;43m\"\u001b[39;49m\u001b[43m:\u001b[49m\u001b[43m \u001b[49m\u001b[43m[\u001b[49m\u001b[43m]\u001b[49m\u001b[43m,\u001b[49m\n\u001b[1;32m    189\u001b[0m \u001b[43m        \u001b[49m\u001b[38;5;124;43m\"\u001b[39;49m\u001b[38;5;124;43mdashboard\u001b[39;49m\u001b[38;5;124;43m\"\u001b[39;49m\u001b[43m:\u001b[49m\u001b[43m \u001b[49m\u001b[38;5;28;43;01mNone\u001b[39;49;00m\u001b[43m,\u001b[49m\n\u001b[1;32m    190\u001b[0m \u001b[43m        \u001b[49m\u001b[38;5;124;43m\"\u001b[39;49m\u001b[38;5;124;43mmessages\u001b[39;49m\u001b[38;5;124;43m\"\u001b[39;49m\u001b[43m:\u001b[49m\u001b[43m \u001b[49m\u001b[43m[\u001b[49m\u001b[43mHumanMessage\u001b[49m\u001b[43m(\u001b[49m\u001b[43mcontent\u001b[49m\u001b[38;5;241;43m=\u001b[39;49m\u001b[43muser_input\u001b[49m\u001b[43m)\u001b[49m\u001b[43m]\u001b[49m\u001b[43m,\u001b[49m\n\u001b[1;32m    191\u001b[0m \u001b[43m    \u001b[49m\u001b[43m}\u001b[49m\u001b[43m,\u001b[49m\n\u001b[1;32m    192\u001b[0m \u001b[43m    \u001b[49m\u001b[43mconfig\u001b[49m\u001b[38;5;241;43m=\u001b[39;49m\u001b[43mconfig\u001b[49m\u001b[43m,\u001b[49m\n\u001b[1;32m    193\u001b[0m \u001b[43m\u001b[49m\u001b[43m)\u001b[49m\n\u001b[1;32m    194\u001b[0m dashboard \u001b[38;5;241m=\u001b[39m message_res[\u001b[38;5;124m\"\u001b[39m\u001b[38;5;124mdashboard\u001b[39m\u001b[38;5;124m\"\u001b[39m]\n\u001b[1;32m    195\u001b[0m _register_data(all_df_metadata\u001b[38;5;241m=\u001b[39mmessage_res[\u001b[38;5;124m\"\u001b[39m\u001b[38;5;124mall_df_metadata\u001b[39m\u001b[38;5;124m\"\u001b[39m])\n",
      "File \u001b[0;32m~/anaconda3/envs/vizro_ai/lib/python3.9/site-packages/langgraph/pregel/__init__.py:1668\u001b[0m, in \u001b[0;36mPregel.invoke\u001b[0;34m(self, input, config, stream_mode, output_keys, input_keys, interrupt_before, interrupt_after, debug, **kwargs)\u001b[0m\n\u001b[1;32m   1666\u001b[0m \u001b[38;5;28;01melse\u001b[39;00m:\n\u001b[1;32m   1667\u001b[0m     chunks \u001b[38;5;241m=\u001b[39m []\n\u001b[0;32m-> 1668\u001b[0m \u001b[38;5;28;01mfor\u001b[39;00m chunk \u001b[38;5;129;01min\u001b[39;00m \u001b[38;5;28mself\u001b[39m\u001b[38;5;241m.\u001b[39mstream(\n\u001b[1;32m   1669\u001b[0m     \u001b[38;5;28minput\u001b[39m,\n\u001b[1;32m   1670\u001b[0m     config,\n\u001b[1;32m   1671\u001b[0m     stream_mode\u001b[38;5;241m=\u001b[39mstream_mode,\n\u001b[1;32m   1672\u001b[0m     output_keys\u001b[38;5;241m=\u001b[39moutput_keys,\n\u001b[1;32m   1673\u001b[0m     input_keys\u001b[38;5;241m=\u001b[39minput_keys,\n\u001b[1;32m   1674\u001b[0m     interrupt_before\u001b[38;5;241m=\u001b[39minterrupt_before,\n\u001b[1;32m   1675\u001b[0m     interrupt_after\u001b[38;5;241m=\u001b[39minterrupt_after,\n\u001b[1;32m   1676\u001b[0m     debug\u001b[38;5;241m=\u001b[39mdebug,\n\u001b[1;32m   1677\u001b[0m     \u001b[38;5;241m*\u001b[39m\u001b[38;5;241m*\u001b[39mkwargs,\n\u001b[1;32m   1678\u001b[0m ):\n\u001b[1;32m   1679\u001b[0m     \u001b[38;5;28;01mif\u001b[39;00m stream_mode \u001b[38;5;241m==\u001b[39m \u001b[38;5;124m\"\u001b[39m\u001b[38;5;124mvalues\u001b[39m\u001b[38;5;124m\"\u001b[39m:\n\u001b[1;32m   1680\u001b[0m         latest \u001b[38;5;241m=\u001b[39m chunk\n",
      "File \u001b[0;32m~/anaconda3/envs/vizro_ai/lib/python3.9/site-packages/langgraph/pregel/__init__.py:1111\u001b[0m, in \u001b[0;36mPregel.stream\u001b[0;34m(self, input, config, stream_mode, output_keys, input_keys, interrupt_before, interrupt_after, debug)\u001b[0m\n\u001b[1;32m   1108\u001b[0m         \u001b[38;5;28;01mdel\u001b[39;00m fut, task\n\u001b[1;32m   1110\u001b[0m \u001b[38;5;66;03m# panic on failure or timeout\u001b[39;00m\n\u001b[0;32m-> 1111\u001b[0m \u001b[43m_panic_or_proceed\u001b[49m\u001b[43m(\u001b[49m\u001b[43mdone\u001b[49m\u001b[43m,\u001b[49m\u001b[43m \u001b[49m\u001b[43minflight\u001b[49m\u001b[43m,\u001b[49m\u001b[43m \u001b[49m\u001b[43mstep\u001b[49m\u001b[43m)\u001b[49m\n\u001b[1;32m   1112\u001b[0m \u001b[38;5;66;03m# don't keep futures around in memory longer than needed\u001b[39;00m\n\u001b[1;32m   1113\u001b[0m \u001b[38;5;28;01mdel\u001b[39;00m done, inflight, futures\n",
      "File \u001b[0;32m~/anaconda3/envs/vizro_ai/lib/python3.9/site-packages/langgraph/pregel/__init__.py:1758\u001b[0m, in \u001b[0;36m_panic_or_proceed\u001b[0;34m(done, inflight, step, timeout_exc_cls)\u001b[0m\n\u001b[1;32m   1756\u001b[0m             inflight\u001b[38;5;241m.\u001b[39mpop()\u001b[38;5;241m.\u001b[39mcancel()\n\u001b[1;32m   1757\u001b[0m         \u001b[38;5;66;03m# raise the exception\u001b[39;00m\n\u001b[0;32m-> 1758\u001b[0m         \u001b[38;5;28;01mraise\u001b[39;00m exc\n\u001b[1;32m   1760\u001b[0m \u001b[38;5;28;01mif\u001b[39;00m inflight:\n\u001b[1;32m   1761\u001b[0m     \u001b[38;5;66;03m# if we got here means we timed out\u001b[39;00m\n\u001b[1;32m   1762\u001b[0m     \u001b[38;5;28;01mwhile\u001b[39;00m inflight:\n\u001b[1;32m   1763\u001b[0m         \u001b[38;5;66;03m# cancel all pending tasks\u001b[39;00m\n",
      "File \u001b[0;32m~/anaconda3/envs/vizro_ai/lib/python3.9/site-packages/langgraph/pregel/executor.py:43\u001b[0m, in \u001b[0;36mBackgroundExecutor.<locals>.done\u001b[0;34m(task)\u001b[0m\n\u001b[1;32m     41\u001b[0m \u001b[38;5;28;01mdef\u001b[39;00m \u001b[38;5;21mdone\u001b[39m(task: concurrent\u001b[38;5;241m.\u001b[39mfutures\u001b[38;5;241m.\u001b[39mFuture) \u001b[38;5;241m-\u001b[39m\u001b[38;5;241m>\u001b[39m \u001b[38;5;28;01mNone\u001b[39;00m:\n\u001b[1;32m     42\u001b[0m     \u001b[38;5;28;01mtry\u001b[39;00m:\n\u001b[0;32m---> 43\u001b[0m         \u001b[43mtask\u001b[49m\u001b[38;5;241;43m.\u001b[39;49m\u001b[43mresult\u001b[49m\u001b[43m(\u001b[49m\u001b[43m)\u001b[49m\n\u001b[1;32m     44\u001b[0m     \u001b[38;5;28;01mexcept\u001b[39;00m \u001b[38;5;167;01mBaseException\u001b[39;00m:\n\u001b[1;32m     45\u001b[0m         \u001b[38;5;28;01mpass\u001b[39;00m\n",
      "File \u001b[0;32m~/anaconda3/envs/vizro_ai/lib/python3.9/concurrent/futures/_base.py:439\u001b[0m, in \u001b[0;36mFuture.result\u001b[0;34m(self, timeout)\u001b[0m\n\u001b[1;32m    437\u001b[0m     \u001b[38;5;28;01mraise\u001b[39;00m CancelledError()\n\u001b[1;32m    438\u001b[0m \u001b[38;5;28;01melif\u001b[39;00m \u001b[38;5;28mself\u001b[39m\u001b[38;5;241m.\u001b[39m_state \u001b[38;5;241m==\u001b[39m FINISHED:\n\u001b[0;32m--> 439\u001b[0m     \u001b[38;5;28;01mreturn\u001b[39;00m \u001b[38;5;28;43mself\u001b[39;49m\u001b[38;5;241;43m.\u001b[39;49m\u001b[43m__get_result\u001b[49m\u001b[43m(\u001b[49m\u001b[43m)\u001b[49m\n\u001b[1;32m    441\u001b[0m \u001b[38;5;28mself\u001b[39m\u001b[38;5;241m.\u001b[39m_condition\u001b[38;5;241m.\u001b[39mwait(timeout)\n\u001b[1;32m    443\u001b[0m \u001b[38;5;28;01mif\u001b[39;00m \u001b[38;5;28mself\u001b[39m\u001b[38;5;241m.\u001b[39m_state \u001b[38;5;129;01min\u001b[39;00m [CANCELLED, CANCELLED_AND_NOTIFIED]:\n",
      "File \u001b[0;32m~/anaconda3/envs/vizro_ai/lib/python3.9/concurrent/futures/_base.py:391\u001b[0m, in \u001b[0;36mFuture.__get_result\u001b[0;34m(self)\u001b[0m\n\u001b[1;32m    389\u001b[0m \u001b[38;5;28;01mif\u001b[39;00m \u001b[38;5;28mself\u001b[39m\u001b[38;5;241m.\u001b[39m_exception:\n\u001b[1;32m    390\u001b[0m     \u001b[38;5;28;01mtry\u001b[39;00m:\n\u001b[0;32m--> 391\u001b[0m         \u001b[38;5;28;01mraise\u001b[39;00m \u001b[38;5;28mself\u001b[39m\u001b[38;5;241m.\u001b[39m_exception\n\u001b[1;32m    392\u001b[0m     \u001b[38;5;28;01mfinally\u001b[39;00m:\n\u001b[1;32m    393\u001b[0m         \u001b[38;5;66;03m# Break a reference cycle with the exception in self._exception\u001b[39;00m\n\u001b[1;32m    394\u001b[0m         \u001b[38;5;28mself\u001b[39m \u001b[38;5;241m=\u001b[39m \u001b[38;5;28;01mNone\u001b[39;00m\n",
      "File \u001b[0;32m~/anaconda3/envs/vizro_ai/lib/python3.9/concurrent/futures/thread.py:58\u001b[0m, in \u001b[0;36m_WorkItem.run\u001b[0;34m(self)\u001b[0m\n\u001b[1;32m     55\u001b[0m     \u001b[38;5;28;01mreturn\u001b[39;00m\n\u001b[1;32m     57\u001b[0m \u001b[38;5;28;01mtry\u001b[39;00m:\n\u001b[0;32m---> 58\u001b[0m     result \u001b[38;5;241m=\u001b[39m \u001b[38;5;28;43mself\u001b[39;49m\u001b[38;5;241;43m.\u001b[39;49m\u001b[43mfn\u001b[49m\u001b[43m(\u001b[49m\u001b[38;5;241;43m*\u001b[39;49m\u001b[38;5;28;43mself\u001b[39;49m\u001b[38;5;241;43m.\u001b[39;49m\u001b[43margs\u001b[49m\u001b[43m,\u001b[49m\u001b[43m \u001b[49m\u001b[38;5;241;43m*\u001b[39;49m\u001b[38;5;241;43m*\u001b[39;49m\u001b[38;5;28;43mself\u001b[39;49m\u001b[38;5;241;43m.\u001b[39;49m\u001b[43mkwargs\u001b[49m\u001b[43m)\u001b[49m\n\u001b[1;32m     59\u001b[0m \u001b[38;5;28;01mexcept\u001b[39;00m \u001b[38;5;167;01mBaseException\u001b[39;00m \u001b[38;5;28;01mas\u001b[39;00m exc:\n\u001b[1;32m     60\u001b[0m     \u001b[38;5;28mself\u001b[39m\u001b[38;5;241m.\u001b[39mfuture\u001b[38;5;241m.\u001b[39mset_exception(exc)\n",
      "File \u001b[0;32m~/anaconda3/envs/vizro_ai/lib/python3.9/site-packages/langgraph/pregel/retry.py:25\u001b[0m, in \u001b[0;36mrun_with_retry\u001b[0;34m(task, retry_policy)\u001b[0m\n\u001b[1;32m     23\u001b[0m task\u001b[38;5;241m.\u001b[39mwrites\u001b[38;5;241m.\u001b[39mclear()\n\u001b[1;32m     24\u001b[0m \u001b[38;5;66;03m# run the task\u001b[39;00m\n\u001b[0;32m---> 25\u001b[0m \u001b[43mtask\u001b[49m\u001b[38;5;241;43m.\u001b[39;49m\u001b[43mproc\u001b[49m\u001b[38;5;241;43m.\u001b[39;49m\u001b[43minvoke\u001b[49m\u001b[43m(\u001b[49m\u001b[43mtask\u001b[49m\u001b[38;5;241;43m.\u001b[39;49m\u001b[43minput\u001b[49m\u001b[43m,\u001b[49m\u001b[43m \u001b[49m\u001b[43mtask\u001b[49m\u001b[38;5;241;43m.\u001b[39;49m\u001b[43mconfig\u001b[49m\u001b[43m)\u001b[49m\n\u001b[1;32m     26\u001b[0m \u001b[38;5;66;03m# if successful, end\u001b[39;00m\n\u001b[1;32m     27\u001b[0m \u001b[38;5;28;01mbreak\u001b[39;00m\n",
      "File \u001b[0;32m~/anaconda3/envs/vizro_ai/lib/python3.9/site-packages/langchain_core/runnables/base.py:2871\u001b[0m, in \u001b[0;36mRunnableSequence.invoke\u001b[0;34m(self, input, config, **kwargs)\u001b[0m\n\u001b[1;32m   2867\u001b[0m config \u001b[38;5;241m=\u001b[39m patch_config(\n\u001b[1;32m   2868\u001b[0m     config, callbacks\u001b[38;5;241m=\u001b[39mrun_manager\u001b[38;5;241m.\u001b[39mget_child(\u001b[38;5;124mf\u001b[39m\u001b[38;5;124m\"\u001b[39m\u001b[38;5;124mseq:step:\u001b[39m\u001b[38;5;132;01m{\u001b[39;00mi\u001b[38;5;241m+\u001b[39m\u001b[38;5;241m1\u001b[39m\u001b[38;5;132;01m}\u001b[39;00m\u001b[38;5;124m\"\u001b[39m)\n\u001b[1;32m   2869\u001b[0m )\n\u001b[1;32m   2870\u001b[0m \u001b[38;5;28;01mif\u001b[39;00m i \u001b[38;5;241m==\u001b[39m \u001b[38;5;241m0\u001b[39m:\n\u001b[0;32m-> 2871\u001b[0m     \u001b[38;5;28minput\u001b[39m \u001b[38;5;241m=\u001b[39m \u001b[43mstep\u001b[49m\u001b[38;5;241;43m.\u001b[39;49m\u001b[43minvoke\u001b[49m\u001b[43m(\u001b[49m\u001b[38;5;28;43minput\u001b[39;49m\u001b[43m,\u001b[49m\u001b[43m \u001b[49m\u001b[43mconfig\u001b[49m\u001b[43m,\u001b[49m\u001b[43m \u001b[49m\u001b[38;5;241;43m*\u001b[39;49m\u001b[38;5;241;43m*\u001b[39;49m\u001b[43mkwargs\u001b[49m\u001b[43m)\u001b[49m\n\u001b[1;32m   2872\u001b[0m \u001b[38;5;28;01melse\u001b[39;00m:\n\u001b[1;32m   2873\u001b[0m     \u001b[38;5;28minput\u001b[39m \u001b[38;5;241m=\u001b[39m step\u001b[38;5;241m.\u001b[39minvoke(\u001b[38;5;28minput\u001b[39m, config)\n",
      "File \u001b[0;32m~/anaconda3/envs/vizro_ai/lib/python3.9/site-packages/langgraph/utils.py:102\u001b[0m, in \u001b[0;36mRunnableCallable.invoke\u001b[0;34m(self, input, config, **kwargs)\u001b[0m\n\u001b[1;32m    100\u001b[0m     \u001b[38;5;28;01mif\u001b[39;00m accepts_config(\u001b[38;5;28mself\u001b[39m\u001b[38;5;241m.\u001b[39mfunc):\n\u001b[1;32m    101\u001b[0m         kwargs[\u001b[38;5;124m\"\u001b[39m\u001b[38;5;124mconfig\u001b[39m\u001b[38;5;124m\"\u001b[39m] \u001b[38;5;241m=\u001b[39m config\n\u001b[0;32m--> 102\u001b[0m     ret \u001b[38;5;241m=\u001b[39m \u001b[43mcontext\u001b[49m\u001b[38;5;241;43m.\u001b[39;49m\u001b[43mrun\u001b[49m\u001b[43m(\u001b[49m\u001b[38;5;28;43mself\u001b[39;49m\u001b[38;5;241;43m.\u001b[39;49m\u001b[43mfunc\u001b[49m\u001b[43m,\u001b[49m\u001b[43m \u001b[49m\u001b[38;5;28;43minput\u001b[39;49m\u001b[43m,\u001b[49m\u001b[43m \u001b[49m\u001b[38;5;241;43m*\u001b[39;49m\u001b[38;5;241;43m*\u001b[39;49m\u001b[43mkwargs\u001b[49m\u001b[43m)\u001b[49m\n\u001b[1;32m    103\u001b[0m \u001b[38;5;28;01mif\u001b[39;00m \u001b[38;5;28misinstance\u001b[39m(ret, Runnable) \u001b[38;5;129;01mand\u001b[39;00m \u001b[38;5;28mself\u001b[39m\u001b[38;5;241m.\u001b[39mrecurse:\n\u001b[1;32m    104\u001b[0m     \u001b[38;5;28;01mreturn\u001b[39;00m ret\u001b[38;5;241m.\u001b[39minvoke(\u001b[38;5;28minput\u001b[39m, config)\n",
      "File \u001b[0;32m~/PycharmProjects/vizro/vizro-ai/src/vizro_ai/dashboard/graph/dashboard_creation.py:116\u001b[0m, in \u001b[0;36m_dashboard_plan\u001b[0;34m(state, config)\u001b[0m\n\u001b[1;32m    109\u001b[0m     dashboard_plan \u001b[38;5;241m=\u001b[39m _get_pydantic_output(\n\u001b[1;32m    110\u001b[0m         query\u001b[38;5;241m=\u001b[39mquery,\n\u001b[1;32m    111\u001b[0m         llm_model\u001b[38;5;241m=\u001b[39mllm,\n\u001b[1;32m    112\u001b[0m         response_model\u001b[38;5;241m=\u001b[39mDashboardPlanner,\n\u001b[1;32m    113\u001b[0m         df_info\u001b[38;5;241m=\u001b[39mall_df_metadata\u001b[38;5;241m.\u001b[39mget_schemas_and_samples(),\n\u001b[1;32m    114\u001b[0m     )\n\u001b[1;32m    115\u001b[0m \u001b[38;5;28;01mexcept\u001b[39;00m (DebugFailure, ValidationError) \u001b[38;5;28;01mas\u001b[39;00m e:\n\u001b[0;32m--> 116\u001b[0m     \u001b[38;5;28;01mraise\u001b[39;00m \u001b[38;5;167;01mValueError\u001b[39;00m(\n\u001b[1;32m    117\u001b[0m         \u001b[38;5;124mf\u001b[39m\u001b[38;5;124m\"\"\"\u001b[39m\n\u001b[1;32m    118\u001b[0m \u001b[38;5;124m        Failed to create a valid dashboard plan. Try rephrase the prompt or select a different\u001b[39m\n\u001b[1;32m    119\u001b[0m \u001b[38;5;124m        model. Error details:\u001b[39m\n\u001b[1;32m    120\u001b[0m \u001b[38;5;124m        \u001b[39m\u001b[38;5;132;01m{\u001b[39;00me\u001b[38;5;132;01m}\u001b[39;00m\n\u001b[1;32m    121\u001b[0m \u001b[38;5;124m        \u001b[39m\u001b[38;5;124m\"\"\"\u001b[39m\n\u001b[1;32m    122\u001b[0m     )\n\u001b[1;32m    124\u001b[0m _execute_step(pbar, node_desc \u001b[38;5;241m+\u001b[39m \u001b[38;5;124m\"\u001b[39m\u001b[38;5;124m --> done\u001b[39m\u001b[38;5;124m\"\u001b[39m, \u001b[38;5;28;01mNone\u001b[39;00m)\n\u001b[1;32m    125\u001b[0m pbar\u001b[38;5;241m.\u001b[39mclose()\n",
      "\u001b[0;31mValueError\u001b[0m: \n            Failed to create a valid dashboard plan. Try rephrase the prompt or select a different\n            model. Error details:\n            2 validation errors for DashboardPlanner\npages -> 2 -> components_plan -> 1 -> component_type\n  unexpected value; permitted: 'AgGrid', 'Card', 'Graph' (type=value_error.const; given=Button; permitted=('AgGrid', 'Card', 'Graph'))\npages -> 2 -> components_plan -> 2 -> component_type\n  unexpected value; permitted: 'AgGrid', 'Card', 'Graph' (type=value_error.const; given=Spinner; permitted=('AgGrid', 'Card', 'Graph'))\n            "
     ]
    }
   ],
   "source": [
    "Vizro._reset()\n",
    "dashboard = vizro_ai.dashboard([df3, df2, df1], user_question_2_data)"
   ]
  },
  {
   "cell_type": "code",
   "execution_count": 52,
   "id": "805ff524-c388-4dc6-940b-4009280148de",
   "metadata": {},
   "outputs": [
    {
     "data": {
      "text/plain": [
       "Dashboard(id='e66cd36e-68ef-8f5f-ae68-690a78bc7175', pages=[Page(id='Stock Prices Overview', components=[AgGrid(id='stock_prices_table', type='ag_grid', figure=<vizro.models.types.CapturedCallable object at 0x177e7f7f0>, title='', actions=[]), Graph(id='stock_prices_chart', type='graph', figure=<vizro.models.types.CapturedCallable object at 0x176e22c10>, actions=[])], title='Stock Prices Overview', description='', layout=Layout(id='0fa07a3f-2e29-5065-6fa2-31e959acdd98', grid=[[0], [1]], row_gap='24px', col_gap='24px', row_min_height='0px', col_min_width='0px'), controls=[], path='/stock-prices-overview', actions=[]), Page(id='Gapminder Dataset Insights', components=[Card(id='gapminder_card', type='card', text=\"The Gapminder dataset provides historical data on countries' development indicators.\", href=''), Card(id='gapminder_chart', type='card', text='Failed to build component: gapminder_chart', href='')], title='Gapminder Dataset Insights', description='', layout=Layout(id='0361524c-2cc0-f859-aa65-24ab713b7e05', grid=[[0], [1]], row_gap='24px', col_gap='24px', row_min_height='0px', col_min_width='0px'), controls=[], path='/gapminder-dataset-insights', actions=[]), Page(id='Tips Dataset Analysis', components=[Graph(id='tips_bar_chart', type='graph', figure=<vizro.models.types.CapturedCallable object at 0x16bb86f10>, actions=[]), Graph(id='tips_scatter_plot', type='graph', figure=<vizro.models.types.CapturedCallable object at 0x177f9ab80>, actions=[])], title='Tips Dataset Analysis', description='', layout=Layout(id='e6fd68e8-d69c-91c2-7860-1602bb4a06cb', grid=[[0], [1]], row_gap='24px', col_gap='24px', row_min_height='0px', col_min_width='0px'), controls=[Filter(id='642aad48-fcfc-fa81-b306-d70019d5f970', type='filter', column='smoker', targets=['tips_scatter_plot'], selector=None)], path='/tips-dataset-analysis', actions=[]), Page(id='Data Fusion Insights', components=[Card(id='data_fusion_card', type='card', text='This page combines data from various sources including tips, stock prices, and global indicators..', href=''), Card(id='gapminder_insights_card', type='card', text='Insights from Gapminder dataset..', href=''), Card(id='stock_trends_card', type='card', text='Stock price trends over time..', href='')], title='Data Fusion Insights', description='', layout=Layout(id='4d125e7f-a59c-ec98-126c-bc8f38884479', grid=[[0], [1], [2]], row_gap='24px', col_gap='24px', row_min_height='0px', col_min_width='0px'), controls=[], path='/data-fusion-insights', actions=[])], theme='vizro_dark', navigation=Navigation(id='eae2025e-8233-9e23-dff3-334b91b15f5d', pages=['Stock Prices Overview', 'Gapminder Dataset Insights', 'Tips Dataset Analysis', 'Data Fusion Insights'], nav_selector=None), title='Summary Dashboard')"
      ]
     },
     "execution_count": 52,
     "metadata": {},
     "output_type": "execute_result"
    }
   ],
   "source": [
    "dashboard"
   ]
  },
  {
   "cell_type": "code",
   "execution_count": null,
   "id": "f055bec1",
   "metadata": {},
   "outputs": [],
   "source": [
    "Vizro().build(dashboard).run()"
   ]
  }
 ],
 "metadata": {
  "kernelspec": {
   "display_name": "vizro_ai",
   "language": "python",
   "name": "vizro_ai"
  },
  "language_info": {
   "codemirror_mode": {
    "name": "ipython",
    "version": 3
   },
   "file_extension": ".py",
   "mimetype": "text/x-python",
   "name": "python",
   "nbconvert_exporter": "python",
   "pygments_lexer": "ipython3",
   "version": "3.9.18"
  }
 },
 "nbformat": 4,
 "nbformat_minor": 5
}
