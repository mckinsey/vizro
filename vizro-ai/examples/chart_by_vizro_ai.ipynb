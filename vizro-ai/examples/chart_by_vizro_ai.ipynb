{
  "cells": [
    {
      "cell_type": "markdown",
      "id": "b72a43eb-2991-45da-844a-a88c1b9b6f1e",
      "metadata": {
        "id": "b72a43eb-2991-45da-844a-a88c1b9b6f1e"
      },
      "source": [
        "[![Open In Colab](https://colab.research.google.com/assets/colab-badge.svg)](https://colab.research.google.com/github/mckinsey/vizro/blob/docs/add_colab_link/vizro-ai/examples/chart_by_vizro_ai.ipynb)"
      ]
    },
    {
      "cell_type": "markdown",
      "id": "fbc65f78",
      "metadata": {
        "id": "fbc65f78"
      },
      "source": [
        "# Use Vizro-AI to generate Vizro charts"
      ]
    },
    {
      "cell_type": "code",
      "execution_count": null,
      "id": "rdnxbyKfNZkT",
      "metadata": {
        "cellView": "form",
        "id": "rdnxbyKfNZkT"
      },
      "outputs": [],
      "source": [
        "# @title Setup\n",
        "#@markdown <-- click the `Run cell` button to\n",
        "#@markdown #### 1. Install Vizro-AI\n",
        "print(\"Installing vizro-ai\")\n",
        "!pip install vizro-ai -q -q -q\n",
        "print(\"✅ vizro-ai installed\")\n",
        "\n",
        "#@markdown #### 2. Secure your LLM API key as environment variable\n",
        "#@markdown - click the `Secrets` button on the left\n",
        "#@markdown - click `Add new secret`\n",
        "#@markdown - insert \"OPENAI_API_KEY\" under `Name`\n",
        "#@markdown - insert the API key value under `Value`\n",
        "#@markdown - [optional] you might also need to insert \"OPENAI_BASE_URL\" and its values, based on the requirements from your API key provider.\n",
        "#@markdown - click the `Notebook access` toggle to make it available for the notebook run\n",
        "\n",
        "import os\n",
        "from google.colab import userdata\n",
        "\n",
        "def safe_get_userdata(key):\n",
        "    try:\n",
        "        return userdata.get(key)\n",
        "    except Exception as e:\n",
        "        print(f\"Warning: Unable to access {key}. Reason: {str(e)}\")\n",
        "        return None\n",
        "\n",
        "# Always try to set the OPENAI_API_KEY\n",
        "api_key = safe_get_userdata(\"OPENAI_API_KEY\")\n",
        "if api_key:\n",
        "    os.environ[\"OPENAI_API_KEY\"] = api_key\n",
        "else:\n",
        "    print(\"❌ OPENAI_API_KEY not set. Click `Secrets` icon on the left to setup.\")\n",
        "\n",
        "# Conditionally set OPENAI_BASE_URL if provided and accessible\n",
        "openai_base_url = safe_get_userdata(\"OPENAI_BASE_URL\")\n",
        "if openai_base_url:\n",
        "    os.environ[\"OPENAI_BASE_URL\"] = openai_base_url\n",
        "else:\n",
        "    print(\"User defined OPENAI_BASE_URL not set. Using default URL.\")\n",
        "\n",
        "print(\"\\nCurrent environment variables:\")\n",
        "print(f\"OPENAI_API_KEY: {'✅ Set' if 'OPENAI_API_KEY' in os.environ else 'Not set'}\")\n",
        "print(f\"OPENAI_BASE_URL: {'✅ Set' if 'OPENAI_BASE_URL' in os.environ else 'Not set by user, use default'}\")"
      ]
    },
    {
      "cell_type": "code",
      "execution_count": null,
      "id": "c6ac1b7d-5830-495b-94be-1ad7bf3022d3",
      "metadata": {
        "cellView": "form",
        "id": "c6ac1b7d-5830-495b-94be-1ad7bf3022d3"
      },
      "outputs": [],
      "source": [
        "# @title ## Set user input\n",
        "\n",
        "#@markdown <-- click the `Run cell` button to\n",
        "#@markdown #### 1. Choose the LLM model\n",
        "\n",
        "LLM = 'gpt-3.5-turbo' # @param [\"gpt-4o\", \"gpt-3.5-turbo\", \"gpt-4-turbo\"]\n",
        "\n",
        "# print(f\"Selected LLM: {LLM}\")\n",
        "\n",
        "#@markdown ---\n",
        "#@markdown #### 2. Upload your CSV data (only 1 dataframe accepted per chart)\n",
        "#@markdown - click `Choose Files` if you'd like to upload and use your own data\n",
        "#@markdown - or click `Cancel upload` and use the default example data for initial exploration\n",
        "\n",
        "import pandas as pd\n",
        "from plotly.express.data import gapminder\n",
        "from google.colab import files\n",
        "\n",
        "uploaded = files.upload()\n",
        "\n",
        "if not uploaded:\n",
        "    print(\"No files uploaded. Use the plotly gapminder dataset as an example.\")\n",
        "    df = gapminder()\n",
        "else:\n",
        "    for fn in uploaded.keys():\n",
        "        print('User uploaded file \"{name}\"'.format(\n",
        "            name=fn, length=len(uploaded[fn])))\n",
        "\n",
        "        df = pd.read_csv(fn)\n",
        "print(f\"Dataframe used for plotting: \\n{df.head()}\")\n",
        "\n",
        "#@markdown ---\n",
        "#@markdown #### 3. Input your chart question\n",
        "\n",
        "# @markdown #### Instructions:\n",
        "user_input = 'describe the composition of gdp in continent' # @param {type:\"string\", placeholder:\"Enter the requirements for the chart\"}\n",
        "\n",
        "# print(user_input)"
      ]
    },
    {
      "cell_type": "code",
      "execution_count": null,
      "id": "_yeVqs9nUgYH",
      "metadata": {
        "cellView": "form",
        "id": "_yeVqs9nUgYH"
      },
      "outputs": [],
      "source": [
        "# @title Create the chart using Vizro-AI\n",
        "\n",
        "#@markdown <-- click the `Run cell` button to\n",
        "\n",
        "import ipywidgets as widgets\n",
        "from IPython.display import display\n",
        "\n",
        "def run_code(button):\n",
        "    from vizro_ai import VizroAI\n",
        "\n",
        "    vizro_ai = VizroAI()\n",
        "    button1.result = vizro_ai.plot(df, user_input, explain=True)\n",
        "\n",
        "button1 = widgets.Button(description=\"Create chart!\")\n",
        "display(button1)\n",
        "\n",
        "button1.on_click(run_code)"
      ]
    },
    {
      "cell_type": "code",
      "execution_count": null,
      "id": "B9P0eNoqc7gd",
      "metadata": {
        "cellView": "form",
        "id": "B9P0eNoqc7gd"
      },
      "outputs": [],
      "source": [
        "# @title Show the chart\n",
        "#@markdown <-- click the `Run cell` button to\n",
        "button1.result.show()"
      ]
    }
  ],
  "metadata": {
    "colab": {
      "provenance": []
    },
    "kernelspec": {
      "display_name": "Python 3 (ipykernel)",
      "language": "python",
      "name": "python3"
    },
    "language_info": {
      "codemirror_mode": {
        "name": "ipython",
        "version": 3
      },
      "file_extension": ".py",
      "mimetype": "text/x-python",
      "name": "python",
      "nbconvert_exporter": "python",
      "pygments_lexer": "ipython3",
      "version": "3.9.7"
    }
  },
  "nbformat": 4,
  "nbformat_minor": 5
}