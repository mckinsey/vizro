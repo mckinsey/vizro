{
 "cells": [
  {
   "cell_type": "code",
   "execution_count": 1,
   "metadata": {},
   "outputs": [
    {
     "ename": "ModuleNotFoundError",
     "evalue": "No module named 'vizro_ai.plot._utils'",
     "output_type": "error",
     "traceback": [
      "\u001b[0;31m---------------------------------------------------------------------------\u001b[0m",
      "\u001b[0;31mModuleNotFoundError\u001b[0m                       Traceback (most recent call last)",
      "Cell \u001b[0;32mIn[1], line 1\u001b[0m\n\u001b[0;32m----> 1\u001b[0m \u001b[38;5;28;01mfrom\u001b[39;00m \u001b[38;5;21;01mvizro_ai\u001b[39;00m \u001b[38;5;28;01mimport\u001b[39;00m VizroAI\n\u001b[1;32m      2\u001b[0m \u001b[38;5;28;01mfrom\u001b[39;00m \u001b[38;5;21;01mlangchain_anthropic\u001b[39;00m \u001b[38;5;28;01mimport\u001b[39;00m ChatAnthropic\n\u001b[1;32m      3\u001b[0m \u001b[38;5;28;01mimport\u001b[39;00m \u001b[38;5;21;01mos\u001b[39;00m\n",
      "File \u001b[0;32m~/Documents_no_backup/Python/Vizro/vizro/vizro-ai/src/vizro_ai/__init__.py:8\u001b[0m\n\u001b[1;32m      4\u001b[0m \u001b[38;5;28;01mfrom\u001b[39;00m \u001b[38;5;21;01mdotenv\u001b[39;00m \u001b[38;5;28;01mimport\u001b[39;00m load_dotenv\n\u001b[1;32m      6\u001b[0m load_dotenv()\n\u001b[0;32m----> 8\u001b[0m \u001b[38;5;28;01mfrom\u001b[39;00m \u001b[38;5;21;01m.\u001b[39;00m\u001b[38;5;21;01m_vizro_ai\u001b[39;00m \u001b[38;5;28;01mimport\u001b[39;00m VizroAI\n\u001b[1;32m     10\u001b[0m __all__ \u001b[38;5;241m=\u001b[39m [\u001b[38;5;124m\"\u001b[39m\u001b[38;5;124mVizroAI\u001b[39m\u001b[38;5;124m\"\u001b[39m]\n\u001b[1;32m     12\u001b[0m __version__ \u001b[38;5;241m=\u001b[39m \u001b[38;5;124m\"\u001b[39m\u001b[38;5;124m0.3.0.dev0\u001b[39m\u001b[38;5;124m\"\u001b[39m\n",
      "File \u001b[0;32m~/Documents_no_backup/Python/Vizro/vizro/vizro-ai/src/vizro_ai/_vizro_ai.py:11\u001b[0m\n\u001b[1;32m      8\u001b[0m \u001b[38;5;28;01mfrom\u001b[39;00m \u001b[38;5;21;01mlangchain_openai\u001b[39;00m \u001b[38;5;28;01mimport\u001b[39;00m ChatOpenAI\n\u001b[1;32m     10\u001b[0m \u001b[38;5;28;01mfrom\u001b[39;00m \u001b[38;5;21;01mvizro_ai\u001b[39;00m\u001b[38;5;21;01m.\u001b[39;00m\u001b[38;5;21;01m_llm_models\u001b[39;00m \u001b[38;5;28;01mimport\u001b[39;00m _get_llm_model, _get_model_name\n\u001b[0;32m---> 11\u001b[0m \u001b[38;5;28;01mfrom\u001b[39;00m \u001b[38;5;21;01mvizro_ai\u001b[39;00m\u001b[38;5;21;01m.\u001b[39;00m\u001b[38;5;21;01mdashboard\u001b[39;00m\u001b[38;5;21;01m.\u001b[39;00m\u001b[38;5;21;01m_graph\u001b[39;00m\u001b[38;5;21;01m.\u001b[39;00m\u001b[38;5;21;01mdashboard_creation\u001b[39;00m \u001b[38;5;28;01mimport\u001b[39;00m _create_and_compile_graph\n\u001b[1;32m     12\u001b[0m \u001b[38;5;28;01mfrom\u001b[39;00m \u001b[38;5;21;01mvizro_ai\u001b[39;00m\u001b[38;5;21;01m.\u001b[39;00m\u001b[38;5;21;01mdashboard\u001b[39;00m\u001b[38;5;21;01m.\u001b[39;00m\u001b[38;5;21;01m_pydantic_output\u001b[39;00m \u001b[38;5;28;01mimport\u001b[39;00m _get_pydantic_model  \u001b[38;5;66;03m# TODO: make general\u001b[39;00m\n\u001b[1;32m     13\u001b[0m \u001b[38;5;28;01mfrom\u001b[39;00m \u001b[38;5;21;01mvizro_ai\u001b[39;00m\u001b[38;5;21;01m.\u001b[39;00m\u001b[38;5;21;01mdashboard\u001b[39;00m\u001b[38;5;21;01m.\u001b[39;00m\u001b[38;5;21;01mutils\u001b[39;00m \u001b[38;5;28;01mimport\u001b[39;00m DashboardOutputs, _register_data\n",
      "File \u001b[0;32m~/Documents_no_backup/Python/Vizro/vizro/vizro-ai/src/vizro_ai/dashboard/_graph/dashboard_creation.py:15\u001b[0m\n\u001b[1;32m     13\u001b[0m \u001b[38;5;28;01mfrom\u001b[39;00m \u001b[38;5;21;01mtqdm\u001b[39;00m\u001b[38;5;21;01m.\u001b[39;00m\u001b[38;5;21;01mauto\u001b[39;00m \u001b[38;5;28;01mimport\u001b[39;00m tqdm\n\u001b[1;32m     14\u001b[0m \u001b[38;5;28;01mfrom\u001b[39;00m \u001b[38;5;21;01mvizro_ai\u001b[39;00m\u001b[38;5;21;01m.\u001b[39;00m\u001b[38;5;21;01mdashboard\u001b[39;00m\u001b[38;5;21;01m.\u001b[39;00m\u001b[38;5;21;01m_pydantic_output\u001b[39;00m \u001b[38;5;28;01mimport\u001b[39;00m _get_pydantic_model\n\u001b[0;32m---> 15\u001b[0m \u001b[38;5;28;01mfrom\u001b[39;00m \u001b[38;5;21;01mvizro_ai\u001b[39;00m\u001b[38;5;21;01m.\u001b[39;00m\u001b[38;5;21;01mdashboard\u001b[39;00m\u001b[38;5;21;01m.\u001b[39;00m\u001b[38;5;21;01m_response_models\u001b[39;00m\u001b[38;5;21;01m.\u001b[39;00m\u001b[38;5;21;01mdashboard\u001b[39;00m \u001b[38;5;28;01mimport\u001b[39;00m DashboardPlan\n\u001b[1;32m     16\u001b[0m \u001b[38;5;28;01mfrom\u001b[39;00m \u001b[38;5;21;01mvizro_ai\u001b[39;00m\u001b[38;5;21;01m.\u001b[39;00m\u001b[38;5;21;01mdashboard\u001b[39;00m\u001b[38;5;21;01m.\u001b[39;00m\u001b[38;5;21;01m_response_models\u001b[39;00m\u001b[38;5;21;01m.\u001b[39;00m\u001b[38;5;21;01mdf_info\u001b[39;00m \u001b[38;5;28;01mimport\u001b[39;00m DfInfo, _create_df_info_content, _get_df_info\n\u001b[1;32m     17\u001b[0m \u001b[38;5;28;01mfrom\u001b[39;00m \u001b[38;5;21;01mvizro_ai\u001b[39;00m\u001b[38;5;21;01m.\u001b[39;00m\u001b[38;5;21;01mdashboard\u001b[39;00m\u001b[38;5;21;01m.\u001b[39;00m\u001b[38;5;21;01m_response_models\u001b[39;00m\u001b[38;5;21;01m.\u001b[39;00m\u001b[38;5;21;01mpage\u001b[39;00m \u001b[38;5;28;01mimport\u001b[39;00m PagePlan\n",
      "File \u001b[0;32m~/Documents_no_backup/Python/Vizro/vizro/vizro-ai/src/vizro_ai/dashboard/_response_models/dashboard.py:10\u001b[0m\n\u001b[1;32m      8\u001b[0m \u001b[38;5;28;01mexcept\u001b[39;00m \u001b[38;5;167;01mImportError\u001b[39;00m:  \u001b[38;5;66;03m# pragma: no cov\u001b[39;00m\n\u001b[1;32m      9\u001b[0m     \u001b[38;5;28;01mfrom\u001b[39;00m \u001b[38;5;21;01mpydantic\u001b[39;00m \u001b[38;5;28;01mimport\u001b[39;00m BaseModel, Field\n\u001b[0;32m---> 10\u001b[0m \u001b[38;5;28;01mfrom\u001b[39;00m \u001b[38;5;21;01mvizro_ai\u001b[39;00m\u001b[38;5;21;01m.\u001b[39;00m\u001b[38;5;21;01mdashboard\u001b[39;00m\u001b[38;5;21;01m.\u001b[39;00m\u001b[38;5;21;01m_response_models\u001b[39;00m\u001b[38;5;21;01m.\u001b[39;00m\u001b[38;5;21;01mpage\u001b[39;00m \u001b[38;5;28;01mimport\u001b[39;00m PagePlan\n\u001b[1;32m     12\u001b[0m logger \u001b[38;5;241m=\u001b[39m logging\u001b[38;5;241m.\u001b[39mgetLogger(\u001b[38;5;18m__name__\u001b[39m)\n\u001b[1;32m     15\u001b[0m \u001b[38;5;28;01mclass\u001b[39;00m \u001b[38;5;21;01mDashboardPlan\u001b[39;00m(BaseModel):\n",
      "File \u001b[0;32m~/Documents_no_backup/Python/Vizro/vizro/vizro-ai/src/vizro_ai/dashboard/_response_models/page.py:13\u001b[0m\n\u001b[1;32m     11\u001b[0m \u001b[38;5;28;01mimport\u001b[39;00m \u001b[38;5;21;01mvizro\u001b[39;00m\u001b[38;5;21;01m.\u001b[39;00m\u001b[38;5;21;01mmodels\u001b[39;00m \u001b[38;5;28;01mas\u001b[39;00m \u001b[38;5;21;01mvm\u001b[39;00m\n\u001b[1;32m     12\u001b[0m \u001b[38;5;28;01mfrom\u001b[39;00m \u001b[38;5;21;01mtqdm\u001b[39;00m\u001b[38;5;21;01m.\u001b[39;00m\u001b[38;5;21;01mauto\u001b[39;00m \u001b[38;5;28;01mimport\u001b[39;00m tqdm\n\u001b[0;32m---> 13\u001b[0m \u001b[38;5;28;01mfrom\u001b[39;00m \u001b[38;5;21;01mvizro_ai\u001b[39;00m\u001b[38;5;21;01m.\u001b[39;00m\u001b[38;5;21;01mdashboard\u001b[39;00m\u001b[38;5;21;01m.\u001b[39;00m\u001b[38;5;21;01m_response_models\u001b[39;00m\u001b[38;5;21;01m.\u001b[39;00m\u001b[38;5;21;01mcomponents\u001b[39;00m \u001b[38;5;28;01mimport\u001b[39;00m ComponentPlan\n\u001b[1;32m     14\u001b[0m \u001b[38;5;28;01mfrom\u001b[39;00m \u001b[38;5;21;01mvizro_ai\u001b[39;00m\u001b[38;5;21;01m.\u001b[39;00m\u001b[38;5;21;01mdashboard\u001b[39;00m\u001b[38;5;21;01m.\u001b[39;00m\u001b[38;5;21;01m_response_models\u001b[39;00m\u001b[38;5;21;01m.\u001b[39;00m\u001b[38;5;21;01mcontrols\u001b[39;00m \u001b[38;5;28;01mimport\u001b[39;00m ControlPlan\n\u001b[1;32m     15\u001b[0m \u001b[38;5;28;01mfrom\u001b[39;00m \u001b[38;5;21;01mvizro_ai\u001b[39;00m\u001b[38;5;21;01m.\u001b[39;00m\u001b[38;5;21;01mdashboard\u001b[39;00m\u001b[38;5;21;01m.\u001b[39;00m\u001b[38;5;21;01m_response_models\u001b[39;00m\u001b[38;5;21;01m.\u001b[39;00m\u001b[38;5;21;01mlayout\u001b[39;00m \u001b[38;5;28;01mimport\u001b[39;00m LayoutPlan\n",
      "File \u001b[0;32m~/Documents_no_backup/Python/Vizro/vizro/vizro-ai/src/vizro_ai/dashboard/_response_models/components.py:15\u001b[0m\n\u001b[1;32m     13\u001b[0m \u001b[38;5;28;01mfrom\u001b[39;00m \u001b[38;5;21;01mvizro_ai\u001b[39;00m\u001b[38;5;21;01m.\u001b[39;00m\u001b[38;5;21;01mdashboard\u001b[39;00m\u001b[38;5;21;01m.\u001b[39;00m\u001b[38;5;21;01m_pydantic_output\u001b[39;00m \u001b[38;5;28;01mimport\u001b[39;00m _get_pydantic_model\n\u001b[1;32m     14\u001b[0m \u001b[38;5;28;01mfrom\u001b[39;00m \u001b[38;5;21;01mvizro_ai\u001b[39;00m\u001b[38;5;21;01m.\u001b[39;00m\u001b[38;5;21;01mdashboard\u001b[39;00m\u001b[38;5;21;01m.\u001b[39;00m\u001b[38;5;21;01m_response_models\u001b[39;00m\u001b[38;5;21;01m.\u001b[39;00m\u001b[38;5;21;01mtypes\u001b[39;00m \u001b[38;5;28;01mimport\u001b[39;00m ComponentType\n\u001b[0;32m---> 15\u001b[0m \u001b[38;5;28;01mfrom\u001b[39;00m \u001b[38;5;21;01mvizro_ai\u001b[39;00m\u001b[38;5;21;01m.\u001b[39;00m\u001b[38;5;21;01mutils\u001b[39;00m\u001b[38;5;21;01m.\u001b[39;00m\u001b[38;5;21;01mhelper\u001b[39;00m \u001b[38;5;28;01mimport\u001b[39;00m DebugFailure\n\u001b[1;32m     17\u001b[0m logger \u001b[38;5;241m=\u001b[39m logging\u001b[38;5;241m.\u001b[39mgetLogger(\u001b[38;5;18m__name__\u001b[39m)\n\u001b[1;32m     20\u001b[0m \u001b[38;5;28;01mclass\u001b[39;00m \u001b[38;5;21;01mComponentPlan\u001b[39;00m(BaseModel):\n",
      "File \u001b[0;32m~/Documents_no_backup/Python/Vizro/vizro/vizro-ai/src/vizro_ai/utils/helper.py:9\u001b[0m\n\u001b[1;32m      7\u001b[0m \u001b[38;5;28;01mimport\u001b[39;00m \u001b[38;5;21;01mpandas\u001b[39;00m \u001b[38;5;28;01mas\u001b[39;00m \u001b[38;5;21;01mpd\u001b[39;00m\n\u001b[1;32m      8\u001b[0m \u001b[38;5;28;01mimport\u001b[39;00m \u001b[38;5;21;01mplotly\u001b[39;00m\u001b[38;5;21;01m.\u001b[39;00m\u001b[38;5;21;01mgraph_objects\u001b[39;00m \u001b[38;5;28;01mas\u001b[39;00m \u001b[38;5;21;01mgo\u001b[39;00m\n\u001b[0;32m----> 9\u001b[0m \u001b[38;5;28;01mfrom\u001b[39;00m \u001b[38;5;21;01mvizro_ai\u001b[39;00m\u001b[38;5;21;01m.\u001b[39;00m\u001b[38;5;21;01mplot\u001b[39;00m\u001b[38;5;21;01m.\u001b[39;00m\u001b[38;5;21;01m_utils\u001b[39;00m\u001b[38;5;21;01m.\u001b[39;00m\u001b[38;5;21;01m_safeguard\u001b[39;00m \u001b[38;5;28;01mimport\u001b[39;00m _safeguard_check\n\u001b[1;32m     12\u001b[0m \u001b[38;5;129m@dataclass\u001b[39m\n\u001b[1;32m     13\u001b[0m \u001b[38;5;28;01mclass\u001b[39;00m \u001b[38;5;21;01mPlotOutputs\u001b[39;00m:\n\u001b[1;32m     14\u001b[0m \u001b[38;5;250m    \u001b[39m\u001b[38;5;124;03m\"\"\"Dataclass containing all possible `VizroAI.plot()` output.\"\"\"\u001b[39;00m\n",
      "\u001b[0;31mModuleNotFoundError\u001b[0m: No module named 'vizro_ai.plot._utils'"
     ]
    }
   ],
   "source": [
    "from vizro_ai import VizroAI\n",
    "from langchain_anthropic import ChatAnthropic\n",
    "import os\n",
    "import vizro.plotly.express as px\n",
    "from vizro_ai.plot._response_models import ChartPlanStatic\n",
    "from langchain_ollama import ChatOllama\n",
    "\n"
   ]
  },
  {
   "cell_type": "code",
   "execution_count": null,
   "metadata": {},
   "outputs": [],
   "source": [
    "df = px.data.gapminder()"
   ]
  },
  {
   "cell_type": "markdown",
   "metadata": {},
   "source": [
    "## Model"
   ]
  },
  {
   "cell_type": "code",
   "execution_count": null,
   "metadata": {},
   "outputs": [],
   "source": [
    "# llm = ChatAnthropic(\n",
    "#         model=\"claude-3-5-sonnet-20240620\",\n",
    "#         api_key = os.environ.get(\"ANTHROPIC_API_KEY\"),\n",
    "#         base_url= os.environ.get(\"ANTHROPIC_API_BASE\")\n",
    "#     )\n",
    "\n",
    "# llm = ChatOllama(\n",
    "#     model=\"llama3.1\",\n",
    "#     temperature=0,\n",
    "#     # other params...\n",
    "# )\n",
    "\n",
    "# llm = None\n",
    "llm = \"gpt-4o-mini-2024-07-18\""
   ]
  },
  {
   "cell_type": "code",
   "execution_count": null,
   "metadata": {},
   "outputs": [],
   "source": [
    "vizro_ai = VizroAI(model=llm)"
   ]
  },
  {
   "cell_type": "markdown",
   "metadata": {},
   "source": [
    "## Query"
   ]
  },
  {
   "cell_type": "code",
   "execution_count": 2,
   "metadata": {},
   "outputs": [],
   "source": [
    "# query = \"plot a bubble chart to shows the changes in life expectancy gdp per capita  over time. Animate the chart by year\"\n",
    "# query = \"describe the composition of gdp in continent,and horizontal line for avg gdp\"\n",
    "# query = \"show me the geo distribution of life expectancy and set year as animation \"\n",
    "query = \"what are the top 10 countries with highest gdp growth percentage wise between 2002 and 2007. Show them as a bar chart. Color the top three countries in red\""
   ]
  },
  {
   "cell_type": "markdown",
   "metadata": {},
   "source": [
    "## VizroAI"
   ]
  },
  {
   "cell_type": "markdown",
   "metadata": {},
   "source": [
    "### Refactored version"
   ]
  },
  {
   "cell_type": "code",
   "execution_count": 3,
   "metadata": {},
   "outputs": [
    {
     "ename": "NameError",
     "evalue": "name 'vizro_ai' is not defined",
     "output_type": "error",
     "traceback": [
      "\u001b[0;31m---------------------------------------------------------------------------\u001b[0m",
      "\u001b[0;31mNameError\u001b[0m                                 Traceback (most recent call last)",
      "Cell \u001b[0;32mIn[3], line 1\u001b[0m\n\u001b[0;32m----> 1\u001b[0m res2 \u001b[38;5;241m=\u001b[39m \u001b[43mvizro_ai\u001b[49m\u001b[38;5;241m.\u001b[39mplot(df\u001b[38;5;241m=\u001b[39mdf, user_input\u001b[38;5;241m=\u001b[39mquery, return_elements\u001b[38;5;241m=\u001b[39m\u001b[38;5;28;01mTrue\u001b[39;00m)\n",
      "\u001b[0;31mNameError\u001b[0m: name 'vizro_ai' is not defined"
     ]
    }
   ],
   "source": [
    "res2 = vizro_ai.plot(df=df, user_input=query, return_elements=True)"
   ]
  },
  {
   "cell_type": "code",
   "execution_count": 7,
   "metadata": {},
   "outputs": [
    {
     "ename": "KeyError",
     "evalue": "'custom_chart'",
     "output_type": "error",
     "traceback": [
      "\u001b[0;31m---------------------------------------------------------------------------\u001b[0m",
      "\u001b[0;31mKeyError\u001b[0m                                  Traceback (most recent call last)",
      "Cell \u001b[0;32mIn[7], line 1\u001b[0m\n\u001b[0;32m----> 1\u001b[0m \u001b[43mres2\u001b[49m\u001b[38;5;241;43m.\u001b[39;49m\u001b[43mget_fig_object\u001b[49m\u001b[43m(\u001b[49m\u001b[43mdata_frame\u001b[49m\u001b[38;5;241;43m=\u001b[39;49m\u001b[43mdf\u001b[49m\u001b[43m,\u001b[49m\u001b[43m \u001b[49m\u001b[43mvizro\u001b[49m\u001b[38;5;241;43m=\u001b[39;49m\u001b[38;5;28;43;01mTrue\u001b[39;49;00m\u001b[43m)\u001b[49m\n",
      "File \u001b[0;32m~/Documents_no_backup/Python/Vizro/vizro/vizro-ai/src/vizro_ai/plot2/_response_models.py:136\u001b[0m, in \u001b[0;36mChartPlanStatic.get_fig_object\u001b[0;34m(self, data_frame, chart_name, vizro)\u001b[0m\n\u001b[1;32m    134\u001b[0m \u001b[38;5;66;03m# exec(code_to_execute, globals(), ldict)\u001b[39;00m\n\u001b[1;32m    135\u001b[0m exec(code_to_execute)\n\u001b[0;32m--> 136\u001b[0m chart \u001b[38;5;241m=\u001b[39m \u001b[43mldict\u001b[49m\u001b[43m[\u001b[49m\u001b[38;5;124;43mf\u001b[39;49m\u001b[38;5;124;43m\"\u001b[39;49m\u001b[38;5;132;43;01m{\u001b[39;49;00m\u001b[43mchart_name\u001b[49m\u001b[38;5;132;43;01m}\u001b[39;49;00m\u001b[38;5;124;43m\"\u001b[39;49m\u001b[43m]\u001b[49m\n\u001b[1;32m    137\u001b[0m \u001b[38;5;28;01mreturn\u001b[39;00m chart(data_frame)\n",
      "\u001b[0;31mKeyError\u001b[0m: 'custom_chart'"
     ]
    }
   ],
   "source": [
    "res2.get_fig_object(data_frame=df, vizro=True)"
   ]
  },
  {
   "cell_type": "code",
   "execution_count": 9,
   "metadata": {},
   "outputs": [
    {
     "data": {
      "text/html": [
       "<div>\n",
       "<style scoped>\n",
       "    .dataframe tbody tr th:only-of-type {\n",
       "        vertical-align: middle;\n",
       "    }\n",
       "\n",
       "    .dataframe tbody tr th {\n",
       "        vertical-align: top;\n",
       "    }\n",
       "\n",
       "    .dataframe thead th {\n",
       "        text-align: right;\n",
       "    }\n",
       "</style>\n",
       "<table border=\"1\" class=\"dataframe\">\n",
       "  <thead>\n",
       "    <tr style=\"text-align: right;\">\n",
       "      <th></th>\n",
       "      <th>country</th>\n",
       "      <th>continent</th>\n",
       "      <th>year</th>\n",
       "      <th>lifeExp</th>\n",
       "      <th>pop</th>\n",
       "      <th>gdpPercap</th>\n",
       "      <th>iso_alpha</th>\n",
       "      <th>iso_num</th>\n",
       "    </tr>\n",
       "  </thead>\n",
       "  <tbody>\n",
       "    <tr>\n",
       "      <th>0</th>\n",
       "      <td>Afghanistan</td>\n",
       "      <td>Asia</td>\n",
       "      <td>1952</td>\n",
       "      <td>28.801</td>\n",
       "      <td>8425333</td>\n",
       "      <td>779.445314</td>\n",
       "      <td>AFG</td>\n",
       "      <td>4</td>\n",
       "    </tr>\n",
       "    <tr>\n",
       "      <th>1</th>\n",
       "      <td>Afghanistan</td>\n",
       "      <td>Asia</td>\n",
       "      <td>1957</td>\n",
       "      <td>30.332</td>\n",
       "      <td>9240934</td>\n",
       "      <td>820.853030</td>\n",
       "      <td>AFG</td>\n",
       "      <td>4</td>\n",
       "    </tr>\n",
       "    <tr>\n",
       "      <th>2</th>\n",
       "      <td>Afghanistan</td>\n",
       "      <td>Asia</td>\n",
       "      <td>1962</td>\n",
       "      <td>31.997</td>\n",
       "      <td>10267083</td>\n",
       "      <td>853.100710</td>\n",
       "      <td>AFG</td>\n",
       "      <td>4</td>\n",
       "    </tr>\n",
       "    <tr>\n",
       "      <th>3</th>\n",
       "      <td>Afghanistan</td>\n",
       "      <td>Asia</td>\n",
       "      <td>1967</td>\n",
       "      <td>34.020</td>\n",
       "      <td>11537966</td>\n",
       "      <td>836.197138</td>\n",
       "      <td>AFG</td>\n",
       "      <td>4</td>\n",
       "    </tr>\n",
       "    <tr>\n",
       "      <th>4</th>\n",
       "      <td>Afghanistan</td>\n",
       "      <td>Asia</td>\n",
       "      <td>1972</td>\n",
       "      <td>36.088</td>\n",
       "      <td>13079460</td>\n",
       "      <td>739.981106</td>\n",
       "      <td>AFG</td>\n",
       "      <td>4</td>\n",
       "    </tr>\n",
       "    <tr>\n",
       "      <th>...</th>\n",
       "      <td>...</td>\n",
       "      <td>...</td>\n",
       "      <td>...</td>\n",
       "      <td>...</td>\n",
       "      <td>...</td>\n",
       "      <td>...</td>\n",
       "      <td>...</td>\n",
       "      <td>...</td>\n",
       "    </tr>\n",
       "    <tr>\n",
       "      <th>1699</th>\n",
       "      <td>Zimbabwe</td>\n",
       "      <td>Africa</td>\n",
       "      <td>1987</td>\n",
       "      <td>62.351</td>\n",
       "      <td>9216418</td>\n",
       "      <td>706.157306</td>\n",
       "      <td>ZWE</td>\n",
       "      <td>716</td>\n",
       "    </tr>\n",
       "    <tr>\n",
       "      <th>1700</th>\n",
       "      <td>Zimbabwe</td>\n",
       "      <td>Africa</td>\n",
       "      <td>1992</td>\n",
       "      <td>60.377</td>\n",
       "      <td>10704340</td>\n",
       "      <td>693.420786</td>\n",
       "      <td>ZWE</td>\n",
       "      <td>716</td>\n",
       "    </tr>\n",
       "    <tr>\n",
       "      <th>1701</th>\n",
       "      <td>Zimbabwe</td>\n",
       "      <td>Africa</td>\n",
       "      <td>1997</td>\n",
       "      <td>46.809</td>\n",
       "      <td>11404948</td>\n",
       "      <td>792.449960</td>\n",
       "      <td>ZWE</td>\n",
       "      <td>716</td>\n",
       "    </tr>\n",
       "    <tr>\n",
       "      <th>1702</th>\n",
       "      <td>Zimbabwe</td>\n",
       "      <td>Africa</td>\n",
       "      <td>2002</td>\n",
       "      <td>39.989</td>\n",
       "      <td>11926563</td>\n",
       "      <td>672.038623</td>\n",
       "      <td>ZWE</td>\n",
       "      <td>716</td>\n",
       "    </tr>\n",
       "    <tr>\n",
       "      <th>1703</th>\n",
       "      <td>Zimbabwe</td>\n",
       "      <td>Africa</td>\n",
       "      <td>2007</td>\n",
       "      <td>43.487</td>\n",
       "      <td>12311143</td>\n",
       "      <td>469.709298</td>\n",
       "      <td>ZWE</td>\n",
       "      <td>716</td>\n",
       "    </tr>\n",
       "  </tbody>\n",
       "</table>\n",
       "<p>1704 rows × 8 columns</p>\n",
       "</div>"
      ],
      "text/plain": [
       "          country continent  year  lifeExp       pop   gdpPercap iso_alpha  \\\n",
       "0     Afghanistan      Asia  1952   28.801   8425333  779.445314       AFG   \n",
       "1     Afghanistan      Asia  1957   30.332   9240934  820.853030       AFG   \n",
       "2     Afghanistan      Asia  1962   31.997  10267083  853.100710       AFG   \n",
       "3     Afghanistan      Asia  1967   34.020  11537966  836.197138       AFG   \n",
       "4     Afghanistan      Asia  1972   36.088  13079460  739.981106       AFG   \n",
       "...           ...       ...   ...      ...       ...         ...       ...   \n",
       "1699     Zimbabwe    Africa  1987   62.351   9216418  706.157306       ZWE   \n",
       "1700     Zimbabwe    Africa  1992   60.377  10704340  693.420786       ZWE   \n",
       "1701     Zimbabwe    Africa  1997   46.809  11404948  792.449960       ZWE   \n",
       "1702     Zimbabwe    Africa  2002   39.989  11926563  672.038623       ZWE   \n",
       "1703     Zimbabwe    Africa  2007   43.487  12311143  469.709298       ZWE   \n",
       "\n",
       "      iso_num  \n",
       "0           4  \n",
       "1           4  \n",
       "2           4  \n",
       "3           4  \n",
       "4           4  \n",
       "...       ...  \n",
       "1699      716  \n",
       "1700      716  \n",
       "1701      716  \n",
       "1702      716  \n",
       "1703      716  \n",
       "\n",
       "[1704 rows x 8 columns]"
      ]
     },
     "execution_count": 9,
     "metadata": {},
     "output_type": "execute_result"
    }
   ],
   "source": [
    "df"
   ]
  },
  {
   "cell_type": "code",
   "execution_count": 10,
   "metadata": {},
   "outputs": [
    {
     "name": "stdout",
     "output_type": "stream",
     "text": [
      "import pandas as pd\n",
      "import plotly.graph_objects as go\n",
      "\n",
      "\n",
      "def custom_chart(data_frame):\n",
      "    # Filter data for the years 2002 and 2007\n",
      "    data_2002 = data_frame[data_frame[\"year\"] == 2002]\n",
      "    data_2007 = data_frame[data_frame[\"year\"] == 2007]\n",
      "\n",
      "    # Merge the two dataframes on country\n",
      "    merged_data = pd.merge(\n",
      "        data_2002[[\"country\", \"gdpPercap\"]],\n",
      "        data_2007[[\"country\", \"gdpPercap\"]],\n",
      "        on=\"country\",\n",
      "        suffixes=(\"_2002\", \"_2007\"),\n",
      "    )\n",
      "\n",
      "    # Calculate GDP growth percentage\n",
      "    merged_data[\"gdp_growth\"] = (\n",
      "        (merged_data[\"gdpPercap_2007\"] - merged_data[\"gdpPercap_2002\"])\n",
      "        / merged_data[\"gdpPercap_2002\"]\n",
      "    ) * 100\n",
      "\n",
      "    # Get top 10 countries by GDP growth\n",
      "    top_countries = merged_data.nlargest(10, \"gdp_growth\")\n",
      "\n",
      "    # Create bar chart\n",
      "    fig = go.Figure()\n",
      "    colors = [\"red\" if i < 3 else \"blue\" for i in range(len(top_countries))]\n",
      "    fig.add_trace(\n",
      "        go.Bar(\n",
      "            x=top_countries[\"country\"],\n",
      "            y=top_countries[\"gdp_growth\"],\n",
      "            marker_color=colors,\n",
      "        )\n",
      "    )\n",
      "\n",
      "    # Update layout\n",
      "    fig.update_layout(\n",
      "        title=\"Top 10 Countries by GDP Growth (2002-2007)\",\n",
      "        xaxis_title=\"Country\",\n",
      "        yaxis_title=\"GDP Growth (%)\",\n",
      "    )\n",
      "    return fig\n",
      "\n"
     ]
    }
   ],
   "source": [
    "print(res2.code)"
   ]
  },
  {
   "cell_type": "code",
   "execution_count": null,
   "metadata": {},
   "outputs": [],
   "source": []
  },
  {
   "cell_type": "code",
   "execution_count": 11,
   "metadata": {},
   "outputs": [
    {
     "name": "stderr",
     "output_type": "stream",
     "text": [
      "/Users/Maximilian_Schulz/Library/Application Support/hatch/env/virtual/vizro-ai/EdwJfxPm/vizro-ai/lib/python3.12/site-packages/langchain_core/_api/deprecation.py:151: LangChainDeprecationWarning:\n",
      "\n",
      "The class `LLMChain` was deprecated in LangChain 0.1.17 and will be removed in 1.0. Use RunnableSequence, e.g., `prompt | llm` instead.\n",
      "\n"
     ]
    },
    {
     "data": {
      "text/markdown": [
       "<h4>Insights:</h4>\n",
       "\n",
       "The code snippet provided is designed to analyze and visualize the GDP growth of countries between the years 2002 and 2007. It calculates the percentage growth in GDP per capita for each country over this period and identifies the top 10 countries with the highest growth rates. The visualization highlights the top three countries in red, making it easy to identify the leaders in economic growth during this timeframe. This analysis can provide insights into which countries experienced significant economic improvements, potentially guiding investment decisions or policy considerations.\n",
       "<br><br><h4>Code:</h4>\n",
       "\n",
       "1. The code imports necessary libraries: 'capture' from 'vizro.models.types' and 'plotly.express' as 'px', along with 'pandas' as 'pd'.\n",
       "2. A function 'custom_chart' is defined, which takes an optional parameter 'data_frame'.\n",
       "3. Inside the function, a copy of the input DataFrame is created to avoid modifying the original data.\n",
       "4. The DataFrame is filtered to include only the years 2002 and 2007.\n",
       "5. A pivot table is created to reshape the data, with countries as rows and years as columns, focusing on GDP per capita.\n",
       "6. A new column 'gdp_growth' is calculated to determine the percentage change in GDP per capita from 2002 to 2007.\n",
       "7. The top 10 countries with the highest GDP growth are selected and prepared for visualization.\n",
       "8. A bar chart is created using Plotly Express and Vizro, with countries on the x-axis and GDP growth percentages on the y-axis.\n",
       "9. The color of the bars is set to a continuous scale from red to blue, with the top three countries highlighted in red.\n",
       "10. The layout of the chart is updated for better aesthetics, including axis titles and legend visibility.\n",
       "11. Finally, the function returns the generated figure.\n",
       "<br>**This customized chart can be directly used in a Vizro dashboard.** \n",
       "Click [custom chart docs](https://vizro.readthedocs.io/en/stable/pages/user_guides/custom_charts/) for more information.\n",
       "```\n",
       "from vizro.models.types import capture\n",
       "import vizro.plotly.express as px\n",
       "import pandas as pd\n",
       "\n",
       "@capture('graph')\n",
       "def custom_chart(data_frame=None):\n",
       "    df_copy = data_frame.copy()\n",
       "    df_growth = df_copy[df_copy['year'].isin([2002, 2007])]\n",
       "    df_growth = df_growth.pivot_table(index='country', columns='year', values='gdpPercap').reset_index()\n",
       "    df_growth['gdp_growth'] = (df_growth[2007] - df_growth[2002]) / df_growth[2002] * 100\n",
       "    df = df_growth.nlargest(10, 'gdp_growth')[['country', 'gdp_growth']].set_index('country').reset_index()\n",
       "\n",
       "    # Create a bar chart for the top 10 countries with highest GDP growth\n",
       "    fig = px.bar(df,\n",
       "                 x='country',\n",
       "                 y='gdp_growth',\n",
       "                 title='Top 10 Countries with Highest GDP Growth (2002-2007)',\n",
       "                 labels={'gdp_growth': 'GDP Growth Percentage (%)', 'country': 'Country'},\n",
       "                 color='gdp_growth',\n",
       "                 color_continuous_scale=['red', 'blue'],\n",
       "                 range_color=[df['gdp_growth'].min(), df['gdp_growth'].max()])\n",
       "\n",
       "    # Highlight the top 3 countries in red\n",
       "    for i in range(min(3, len(fig.data))):\n",
       "        fig.data[i].marker.color = 'red'\n",
       "\n",
       "    # Update layout for better aesthetics\n",
       "    fig.update_layout(xaxis_title='Country',\n",
       "                      yaxis_title='GDP Growth Percentage (%)',\n",
       "                      showlegend=False)\n",
       "\n",
       "    return fig\n",
       "\n",
       "fig = custom_chart(data_frame=df)\n",
       "```"
      ],
      "text/plain": [
       "<IPython.core.display.Markdown object>"
      ]
     },
     "metadata": {},
     "output_type": "display_data"
    },
    {
     "data": {
      "application/vnd.plotly.v1+json": {
       "config": {
        "plotlyServerURL": "https://plot.ly"
       },
       "data": [
        {
         "alignmentgroup": "True",
         "hovertemplate": "Country=%{x}<br>GDP Growth Percentage (%)=%{marker.color}<extra></extra>",
         "legendgroup": "",
         "marker": {
          "color": "red",
          "coloraxis": "coloraxis",
          "pattern": {
           "shape": ""
          }
         },
         "name": "",
         "offsetgroup": "",
         "orientation": "v",
         "showlegend": false,
         "textposition": "auto",
         "type": "bar",
         "x": [
          "Cambodia",
          "Angola",
          "China",
          "Equatorial Guinea",
          "Trinidad and Tobago",
          "Myanmar",
          "Chad",
          "Argentina",
          "Mongolia",
          "Montenegro"
         ],
         "xaxis": "x",
         "y": [
          91.22170710770266,
          72.97995942369207,
          58.98263155329503,
          57.773690124246045,
          57.13408441610043,
          54.50081833060556,
          47.387170042609064,
          45.25916723057959,
          44.61229528225007,
          41.12584915171192
         ],
         "yaxis": "y"
        }
       ],
       "layout": {
        "barmode": "relative",
        "coloraxis": {
         "cmax": 91.22170710770266,
         "cmin": 41.12584915171192,
         "colorbar": {
          "title": {
           "text": "GDP Growth Percentage (%)"
          }
         },
         "colorscale": [
          [
           0,
           "red"
          ],
          [
           1,
           "blue"
          ]
         ]
        },
        "legend": {
         "tracegroupgap": 0
        },
        "showlegend": false,
        "template": {
         "data": {
          "bar": [
           {
            "marker": {
             "line": {
              "color": "#141721",
              "width": 1
             }
            },
            "textfont": {
             "color": "rgba(255,255,255,0.55)"
            },
            "type": "bar"
           }
          ],
          "table": [
           {
            "cells": {
             "align": "left",
             "fill": {
              "color": "#141721"
             },
             "font": {
              "color": "rgba(255,255,255,0.55)",
              "size": 14
             },
             "height": 32,
             "line": {
              "color": "rgba(255,255,255,0.10)"
             }
            },
            "header": {
             "align": "left",
             "fill": {
              "color": "#141721"
             },
             "font": {
              "color": "rgba(255,255,255,0.85)",
              "size": 14
             },
             "height": 32,
             "line": {
              "color": "rgba(255,255,255,0.10)"
             }
            },
            "type": "table"
           }
          ],
          "waterfall": [
           {
            "connector": {
             "line": {
              "color": "rgba(255,255,255,0.30)",
              "width": 1
             }
            },
            "decreasing": {
             "marker": {
              "color": "#ff9222"
             }
            },
            "increasing": {
             "marker": {
              "color": "#00b4ff"
             }
            },
            "textfont": {
             "color": "rgba(255,255,255,0.85)"
            },
            "textposition": "outside",
            "totals": {
             "marker": {
              "color": "#747F88"
             }
            },
            "type": "waterfall"
           }
          ]
         },
         "layout": {
          "annotationdefaults": {
           "font": {
            "color": "rgba(255,255,255,0.85)",
            "size": 14
           },
           "showarrow": false
          },
          "bargroupgap": 0.1,
          "coloraxis": {
           "autocolorscale": false,
           "colorbar": {
            "outlinewidth": 0,
            "showticklabels": true,
            "thickness": 20,
            "tickcolor": "rgba(255,255,255,0.30)",
            "tickfont": {
             "color": "rgba(255,255,255,0.55)",
             "family": "Inter, sans-serif, Arial",
             "size": 14
            },
            "ticklabelposition": "outside",
            "ticklen": 8,
            "ticks": "outside",
            "tickwidth": 1,
            "title": {
             "font": {
              "color": "rgba(255,255,255,0.55)",
              "family": "Inter, sans-serif, Arial",
              "size": 14
             }
            }
           }
          },
          "colorscale": {
           "diverging": [
            [
             0,
             "#7e000c"
            ],
            [
             0.05555555555555555,
             "#9d1021"
            ],
            [
             0.1111111111111111,
             "#bc1f37"
            ],
            [
             0.16666666666666666,
             "#db2f4c"
            ],
            [
             0.2222222222222222,
             "#ea536b"
            ],
            [
             0.2777777777777778,
             "#f67486"
            ],
            [
             0.3333333333333333,
             "#fe94a0"
            ],
            [
             0.3888888888888889,
             "#fbb6be"
            ],
            [
             0.4444444444444444,
             "#f8d6da"
            ],
            [
             0.5,
             "#E6E8EA"
            ],
            [
             0.5555555555555556,
             "#afe7f9"
            ],
            [
             0.6111111111111112,
             "#5bd6fe"
            ],
            [
             0.6666666666666666,
             "#3bbef1"
            ],
            [
             0.7222222222222222,
             "#24a6e1"
            ],
            [
             0.7777777777777778,
             "#0d8ed1"
            ],
            [
             0.8333333333333334,
             "#0077bd"
            ],
            [
             0.8888888888888888,
             "#0061a4"
            ],
            [
             0.9444444444444444,
             "#004c8c"
            ],
            [
             1,
             "#003875"
            ]
           ],
           "sequential": [
            [
             0,
             "#afe7f9"
            ],
            [
             0.125,
             "#5bd6fe"
            ],
            [
             0.25,
             "#3bbef1"
            ],
            [
             0.375,
             "#24a6e1"
            ],
            [
             0.5,
             "#0d8ed1"
            ],
            [
             0.625,
             "#0077bd"
            ],
            [
             0.75,
             "#0061a4"
            ],
            [
             0.875,
             "#004c8c"
            ],
            [
             1,
             "#003875"
            ]
           ],
           "sequentialminus": [
            [
             0,
             "#7e000c"
            ],
            [
             0.125,
             "#9d1021"
            ],
            [
             0.25,
             "#bc1f37"
            ],
            [
             0.375,
             "#db2f4c"
            ],
            [
             0.5,
             "#ea536b"
            ],
            [
             0.625,
             "#f67486"
            ],
            [
             0.75,
             "#fe94a0"
            ],
            [
             0.875,
             "#fbb6be"
            ],
            [
             1,
             "#f8d6da"
            ]
           ]
          },
          "colorway": [
           "#00b4ff",
           "#ff9222",
           "#3949ab",
           "#ff5267",
           "#08bdba",
           "#fdc935",
           "#689f38",
           "#976fd1",
           "#f781bf",
           "#52733e"
          ],
          "font": {
           "color": "rgba(255,255,255,0.85)",
           "family": "Inter, sans-serif, Arial",
           "size": 14
          },
          "geo": {
           "bgcolor": "#141721",
           "lakecolor": "#141721",
           "landcolor": "#141721"
          },
          "legend": {
           "bgcolor": "rgba(0,0,0,0)",
           "font": {
            "color": "rgba(255,255,255,0.85)",
            "family": "Inter, sans-serif, Arial",
            "size": 14
           },
           "orientation": "h",
           "title": {
            "font": {
             "color": "rgba(255,255,255,0.85)",
             "family": "Inter, sans-serif, Arial",
             "size": 14
            },
            "text": ""
           },
           "y": -0.2
          },
          "mapbox": {
           "style": "carto-darkmatter"
          },
          "margin": {
           "autoexpand": true,
           "b": 64,
           "l": 24,
           "pad": 0,
           "r": 24,
           "t": 64
          },
          "paper_bgcolor": "#141721",
          "plot_bgcolor": "#141721",
          "polar": {
           "angularaxis": {
            "gridcolor": "rgba(255,255,255,0.10)",
            "linecolor": "rgba(255,255,255,0.30)"
           },
           "bgcolor": "#141721",
           "radialaxis": {
            "gridcolor": "rgba(255,255,255,0.10)",
            "linecolor": "rgba(255,255,255,0.30)"
           }
          },
          "showlegend": true,
          "ternary": {
           "aaxis": {
            "gridcolor": "rgba(255,255,255,0.10)",
            "linecolor": "rgba(255,255,255,0.30)"
           },
           "baxis": {
            "gridcolor": "rgba(255,255,255,0.10)",
            "linecolor": "rgba(255,255,255,0.30)"
           },
           "bgcolor": "#141721",
           "caxis": {
            "gridcolor": "rgba(255,255,255,0.10)",
            "linecolor": "rgba(255,255,255,0.30)"
           }
          },
          "title": {
           "font": {
            "color": "rgba(255,255,255,0.85)",
            "family": "Inter, sans-serif, Arial",
            "size": 20
           },
           "pad": {
            "b": 0,
            "l": 0,
            "r": 0,
            "t": 7
           },
           "x": 0,
           "xanchor": "left",
           "xref": "container",
           "y": 1,
           "yanchor": "top",
           "yref": "container"
          },
          "uniformtext": {
           "minsize": 12,
           "mode": "hide"
          },
          "xaxis": {
           "automargin": true,
           "gridcolor": "rgba(255,255,255,0.10)",
           "layer": "below traces",
           "linecolor": "rgba(255,255,255,0.30)",
           "linewidth": 1,
           "showline": true,
           "showticklabels": true,
           "tickcolor": "rgba(255,255,255,0.30)",
           "tickfont": {
            "color": "rgba(255,255,255,0.55)",
            "family": "Inter, sans-serif, Arial",
            "size": 14
           },
           "ticklabelposition": "outside",
           "ticklen": 8,
           "ticks": "outside",
           "tickwidth": 1,
           "title": {
            "font": {
             "color": "rgba(255,255,255,0.85)",
             "family": "Inter, sans-serif, Arial",
             "size": 16
            },
            "standoff": 8
           },
           "visible": true,
           "zeroline": false
          },
          "yaxis": {
           "automargin": true,
           "gridcolor": "rgba(255,255,255,0.10)",
           "layer": "below traces",
           "linecolor": "rgba(255,255,255,0.30)",
           "linewidth": 1,
           "showline": false,
           "showticklabels": true,
           "tickcolor": "rgba(255,255,255,0.30)",
           "tickfont": {
            "color": "rgba(255,255,255,0.55)",
            "family": "Inter, sans-serif, Arial",
            "size": 14
           },
           "ticklabelposition": "outside",
           "ticklen": 8,
           "ticks": "outside",
           "tickwidth": 1,
           "title": {
            "font": {
             "color": "rgba(255,255,255,0.85)",
             "family": "Inter, sans-serif, Arial",
             "size": 16
            },
            "standoff": 8
           },
           "visible": true,
           "zeroline": false
          }
         }
        },
        "title": {
         "text": "Top 10 Countries with Highest GDP Growth (2002-2007)"
        },
        "xaxis": {
         "anchor": "y",
         "domain": [
          0,
          1
         ],
         "title": {
          "text": "Country"
         }
        },
        "yaxis": {
         "anchor": "x",
         "domain": [
          0,
          1
         ],
         "title": {
          "text": "GDP Growth Percentage (%)"
         }
        }
       }
      }
     },
     "metadata": {},
     "output_type": "display_data"
    }
   ],
   "source": [
    "res = vizro_ai.plot(df=df, user_input=query, explain=True, return_elements=True)\n",
    "res.figure"
   ]
  },
  {
   "cell_type": "code",
   "execution_count": 12,
   "metadata": {},
   "outputs": [
    {
     "ename": "AssertionError",
     "evalue": "",
     "output_type": "error",
     "traceback": [
      "\u001b[0;31m---------------------------------------------------------------------------\u001b[0m",
      "\u001b[0;31mAssertionError\u001b[0m                            Traceback (most recent call last)",
      "Cell \u001b[0;32mIn[12], line 1\u001b[0m\n\u001b[0;32m----> 1\u001b[0m \u001b[38;5;28;01massert\u001b[39;00m \u001b[38;5;28;01mFalse\u001b[39;00m\n",
      "\u001b[0;31mAssertionError\u001b[0m: "
     ]
    }
   ],
   "source": [
    "assert False"
   ]
  },
  {
   "cell_type": "code",
   "execution_count": null,
   "metadata": {},
   "outputs": [],
   "source": [
    "print(res2.code_vizro)"
   ]
  },
  {
   "cell_type": "code",
   "execution_count": null,
   "metadata": {},
   "outputs": [],
   "source": [
    "print(res2.code_explanation)"
   ]
  },
  {
   "cell_type": "code",
   "execution_count": null,
   "metadata": {},
   "outputs": [],
   "source": [
    "print(res2.chart_insights)"
   ]
  },
  {
   "cell_type": "code",
   "execution_count": null,
   "metadata": {},
   "outputs": [],
   "source": [
    "# Underlying method for code properties\n",
    "print(res2._get_complete_code(chart_name=\"other_figure\",vizro=False))"
   ]
  },
  {
   "cell_type": "code",
   "execution_count": null,
   "metadata": {},
   "outputs": [],
   "source": [
    "# Run chart with different data\n",
    "res2.get_fig_object(data_frame=df.sample(200))"
   ]
  },
  {
   "cell_type": "code",
   "execution_count": null,
   "metadata": {},
   "outputs": [],
   "source": [
    "# No code execution\n",
    "res22 = vizro_ai.plot2(df=df, user_input=query, validate_code=False, return_elements=True)\n",
    "print(res22.code_vizro)"
   ]
  },
  {
   "cell_type": "code",
   "execution_count": null,
   "metadata": {},
   "outputs": [],
   "source": [
    "res2.code"
   ]
  },
  {
   "cell_type": "markdown",
   "metadata": {},
   "source": [
    "### Old version"
   ]
  },
  {
   "cell_type": "code",
   "execution_count": null,
   "metadata": {
    "scrolled": true
   },
   "outputs": [
    {
     "name": "stderr",
     "output_type": "stream",
     "text": [
      "/Users/Maximilian_Schulz/Library/Application Support/hatch/env/virtual/vizro-ai/EdwJfxPm/vizro-ai/lib/python3.12/site-packages/langchain_core/_api/deprecation.py:151: LangChainDeprecationWarning:\n",
      "\n",
      "The class `LLMChain` was deprecated in LangChain 0.1.17 and will be removed in 1.0. Use RunnableSequence, e.g., `prompt | llm` instead.\n",
      "\n"
     ]
    },
    {
     "data": {
      "text/markdown": [
       "<h4>Insights:</h4>\n",
       "\n",
       "The bar chart visualizes the top 10 countries with the highest GDP growth rates, providing insights into economic performance. High GDP growth indicates a robust economy, attracting investments and improving living standards. Countries with significant growth may be emerging markets or recovering from economic downturns. This data can guide investors and policymakers in decision-making, highlighting regions with potential for economic expansion.\n",
       "<br><br><h4>Code:</h4>\n",
       "\n",
       "1. Import necessary libraries: vizro.models.types for capturing the graph and vizro.plotly.express for plotting. 2. Define a function 'custom_chart' that takes a DataFrame as input. 3. Create a copy of the input DataFrame to avoid modifying the original data. 4. Use 'nlargest' to find the top 10 countries with the highest GDP growth from the 'gdp_growth' column. 5. Reset the index of the resulting DataFrame for cleaner visualization. 6. Create a bar chart using Plotly Express and Vizro, setting the x-axis to 'country' and y-axis to 'gdp_growth'. 7. Customize the chart with titles, labels, and color scales for better readability. 8. Update the layout for improved aesthetics, including axis titles and tick angle. 9. Return the generated figure for display.\n",
       "<br>**This customized chart can be directly used in a Vizro dashboard.** \n",
       "Click [custom chart docs](https://vizro.readthedocs.io/en/stable/pages/user_guides/custom_charts/) for more information.\n",
       "```\n",
       "from vizro.models.types import capture\n",
       "import vizro.plotly.express as px\n",
       "import pandas as pd\n",
       "\n",
       "@capture('graph')\n",
       "def custom_chart(data_frame=None):\n",
       "    df_copy = data_frame.copy()\n",
       "    top_gdp_growth = df_copy[['country', 'gdp_growth']].nlargest(10, 'gdp_growth')\n",
       "    df = top_gdp_growth.reset_index(drop=True, inplace=True)\n",
       "\n",
       "    # Create a bar chart for the top 10 countries with the highest GDP growth\n",
       "    fig = px.bar(\n",
       "        top_gdp_growth,\n",
       "        x='country',\n",
       "        y='gdp_growth',\n",
       "        title='Top 10 Countries with Highest GDP Growth',\n",
       "        labels={'gdp_growth': 'GDP Growth (%)', 'country': 'Country'},\n",
       "        color='gdp_growth',\n",
       "        color_continuous_scale=px.colors.sequential.Viridis\n",
       "    )\n",
       "\n",
       "    # Update layout for better readability\n",
       "    fig.update_layout(\n",
       "        xaxis_title='Country',\n",
       "        yaxis_title='GDP Growth (%)',\n",
       "        xaxis_tickangle=-45,\n",
       "        template='plotly_white'\n",
       "    )\n",
       "\n",
       "    return fig\n",
       "\n",
       "fig = custom_chart(data_frame=df)\n",
       "```"
      ],
      "text/plain": [
       "<IPython.core.display.Markdown object>"
      ]
     },
     "metadata": {},
     "output_type": "display_data"
    },
    {
     "data": {
      "application/vnd.plotly.v1+json": {
       "config": {
        "plotlyServerURL": "https://plot.ly"
       },
       "data": [
        {
         "alignmentgroup": "True",
         "hovertemplate": "Country=%{x}<br>GDP Growth (%)=%{marker.color}<extra></extra>",
         "legendgroup": "",
         "marker": {
          "color": [
           849.0690121160744,
           844.689159575732,
           830.003939622225,
           719.3056073943014,
           665.8465801511853,
           499.6824716650978,
           475.9965677230351,
           456.64206533285886,
           410.2133673516529,
           401.2678988455632
          ],
          "coloraxis": "coloraxis",
          "pattern": {
           "shape": ""
          }
         },
         "name": "",
         "offsetgroup": "",
         "orientation": "v",
         "showlegend": false,
         "textposition": "auto",
         "type": "bar",
         "x": [
          "Germany",
          "United Kingdom",
          "Finland",
          "Netherlands",
          "Congo, Rep.",
          "Belgium",
          "Libya",
          "Canada",
          "South Africa",
          "Norway"
         ],
         "xaxis": "x",
         "y": [
          849.0690121160744,
          844.689159575732,
          830.003939622225,
          719.3056073943014,
          665.8465801511853,
          499.6824716650978,
          475.9965677230351,
          456.64206533285886,
          410.2133673516529,
          401.2678988455632
         ],
         "yaxis": "y"
        }
       ],
       "layout": {
        "barmode": "relative",
        "coloraxis": {
         "colorbar": {
          "title": {
           "text": "GDP Growth (%)"
          }
         },
         "colorscale": [
          [
           0,
           "#440154"
          ],
          [
           0.1111111111111111,
           "#482878"
          ],
          [
           0.2222222222222222,
           "#3e4989"
          ],
          [
           0.3333333333333333,
           "#31688e"
          ],
          [
           0.4444444444444444,
           "#26828e"
          ],
          [
           0.5555555555555556,
           "#1f9e89"
          ],
          [
           0.6666666666666666,
           "#35b779"
          ],
          [
           0.7777777777777778,
           "#6ece58"
          ],
          [
           0.8888888888888888,
           "#b5de2b"
          ],
          [
           1,
           "#fde725"
          ]
         ]
        },
        "legend": {
         "tracegroupgap": 0
        },
        "template": {
         "data": {
          "bar": [
           {
            "marker": {
             "line": {
              "color": "#141721",
              "width": 1
             }
            },
            "textfont": {
             "color": "rgba(255,255,255,0.55)"
            },
            "type": "bar"
           }
          ],
          "table": [
           {
            "cells": {
             "align": "left",
             "fill": {
              "color": "#141721"
             },
             "font": {
              "color": "rgba(255,255,255,0.55)",
              "size": 14
             },
             "height": 32,
             "line": {
              "color": "rgba(255,255,255,0.10)"
             }
            },
            "header": {
             "align": "left",
             "fill": {
              "color": "#141721"
             },
             "font": {
              "color": "rgba(255,255,255,0.85)",
              "size": 14
             },
             "height": 32,
             "line": {
              "color": "rgba(255,255,255,0.10)"
             }
            },
            "type": "table"
           }
          ],
          "waterfall": [
           {
            "connector": {
             "line": {
              "color": "rgba(255,255,255,0.30)",
              "width": 1
             }
            },
            "decreasing": {
             "marker": {
              "color": "#ff9222"
             }
            },
            "increasing": {
             "marker": {
              "color": "#00b4ff"
             }
            },
            "textfont": {
             "color": "rgba(255,255,255,0.85)"
            },
            "textposition": "outside",
            "totals": {
             "marker": {
              "color": "#747F88"
             }
            },
            "type": "waterfall"
           }
          ]
         },
         "layout": {
          "annotationdefaults": {
           "font": {
            "color": "rgba(255,255,255,0.85)",
            "size": 14
           },
           "showarrow": false
          },
          "bargroupgap": 0.1,
          "coloraxis": {
           "autocolorscale": false,
           "colorbar": {
            "outlinewidth": 0,
            "showticklabels": true,
            "thickness": 20,
            "tickcolor": "rgba(255,255,255,0.30)",
            "tickfont": {
             "color": "rgba(255,255,255,0.55)",
             "family": "Inter, sans-serif, Arial",
             "size": 14
            },
            "ticklabelposition": "outside",
            "ticklen": 8,
            "ticks": "outside",
            "tickwidth": 1,
            "title": {
             "font": {
              "color": "rgba(255,255,255,0.55)",
              "family": "Inter, sans-serif, Arial",
              "size": 14
             }
            }
           }
          },
          "colorscale": {
           "diverging": [
            [
             0,
             "#7e000c"
            ],
            [
             0.05555555555555555,
             "#9d1021"
            ],
            [
             0.1111111111111111,
             "#bc1f37"
            ],
            [
             0.16666666666666666,
             "#db2f4c"
            ],
            [
             0.2222222222222222,
             "#ea536b"
            ],
            [
             0.2777777777777778,
             "#f67486"
            ],
            [
             0.3333333333333333,
             "#fe94a0"
            ],
            [
             0.3888888888888889,
             "#fbb6be"
            ],
            [
             0.4444444444444444,
             "#f8d6da"
            ],
            [
             0.5,
             "#E6E8EA"
            ],
            [
             0.5555555555555556,
             "#afe7f9"
            ],
            [
             0.6111111111111112,
             "#5bd6fe"
            ],
            [
             0.6666666666666666,
             "#3bbef1"
            ],
            [
             0.7222222222222222,
             "#24a6e1"
            ],
            [
             0.7777777777777778,
             "#0d8ed1"
            ],
            [
             0.8333333333333334,
             "#0077bd"
            ],
            [
             0.8888888888888888,
             "#0061a4"
            ],
            [
             0.9444444444444444,
             "#004c8c"
            ],
            [
             1,
             "#003875"
            ]
           ],
           "sequential": [
            [
             0,
             "#afe7f9"
            ],
            [
             0.125,
             "#5bd6fe"
            ],
            [
             0.25,
             "#3bbef1"
            ],
            [
             0.375,
             "#24a6e1"
            ],
            [
             0.5,
             "#0d8ed1"
            ],
            [
             0.625,
             "#0077bd"
            ],
            [
             0.75,
             "#0061a4"
            ],
            [
             0.875,
             "#004c8c"
            ],
            [
             1,
             "#003875"
            ]
           ],
           "sequentialminus": [
            [
             0,
             "#7e000c"
            ],
            [
             0.125,
             "#9d1021"
            ],
            [
             0.25,
             "#bc1f37"
            ],
            [
             0.375,
             "#db2f4c"
            ],
            [
             0.5,
             "#ea536b"
            ],
            [
             0.625,
             "#f67486"
            ],
            [
             0.75,
             "#fe94a0"
            ],
            [
             0.875,
             "#fbb6be"
            ],
            [
             1,
             "#f8d6da"
            ]
           ]
          },
          "colorway": [
           "#00b4ff",
           "#ff9222",
           "#3949ab",
           "#ff5267",
           "#08bdba",
           "#fdc935",
           "#689f38",
           "#976fd1",
           "#f781bf",
           "#52733e"
          ],
          "font": {
           "color": "rgba(255,255,255,0.85)",
           "family": "Inter, sans-serif, Arial",
           "size": 14
          },
          "geo": {
           "bgcolor": "#141721",
           "lakecolor": "#141721",
           "landcolor": "#141721"
          },
          "legend": {
           "bgcolor": "rgba(0,0,0,0)",
           "font": {
            "color": "rgba(255,255,255,0.85)",
            "family": "Inter, sans-serif, Arial",
            "size": 14
           },
           "orientation": "h",
           "title": {
            "font": {
             "color": "rgba(255,255,255,0.85)",
             "family": "Inter, sans-serif, Arial",
             "size": 14
            },
            "text": ""
           },
           "y": -0.2
          },
          "mapbox": {
           "style": "carto-darkmatter"
          },
          "margin": {
           "autoexpand": true,
           "b": 64,
           "l": 24,
           "pad": 0,
           "r": 24,
           "t": 64
          },
          "paper_bgcolor": "#141721",
          "plot_bgcolor": "#141721",
          "polar": {
           "angularaxis": {
            "gridcolor": "rgba(255,255,255,0.10)",
            "linecolor": "rgba(255,255,255,0.30)"
           },
           "bgcolor": "#141721",
           "radialaxis": {
            "gridcolor": "rgba(255,255,255,0.10)",
            "linecolor": "rgba(255,255,255,0.30)"
           }
          },
          "showlegend": true,
          "ternary": {
           "aaxis": {
            "gridcolor": "rgba(255,255,255,0.10)",
            "linecolor": "rgba(255,255,255,0.30)"
           },
           "baxis": {
            "gridcolor": "rgba(255,255,255,0.10)",
            "linecolor": "rgba(255,255,255,0.30)"
           },
           "bgcolor": "#141721",
           "caxis": {
            "gridcolor": "rgba(255,255,255,0.10)",
            "linecolor": "rgba(255,255,255,0.30)"
           }
          },
          "title": {
           "font": {
            "color": "rgba(255,255,255,0.85)",
            "family": "Inter, sans-serif, Arial",
            "size": 20
           },
           "pad": {
            "b": 0,
            "l": 0,
            "r": 0,
            "t": 7
           },
           "x": 0,
           "xanchor": "left",
           "xref": "container",
           "y": 1,
           "yanchor": "top",
           "yref": "container"
          },
          "uniformtext": {
           "minsize": 12,
           "mode": "hide"
          },
          "xaxis": {
           "automargin": true,
           "gridcolor": "rgba(255,255,255,0.10)",
           "layer": "below traces",
           "linecolor": "rgba(255,255,255,0.30)",
           "linewidth": 1,
           "showline": true,
           "showticklabels": true,
           "tickcolor": "rgba(255,255,255,0.30)",
           "tickfont": {
            "color": "rgba(255,255,255,0.55)",
            "family": "Inter, sans-serif, Arial",
            "size": 14
           },
           "ticklabelposition": "outside",
           "ticklen": 8,
           "ticks": "outside",
           "tickwidth": 1,
           "title": {
            "font": {
             "color": "rgba(255,255,255,0.85)",
             "family": "Inter, sans-serif, Arial",
             "size": 16
            },
            "standoff": 8
           },
           "visible": true,
           "zeroline": false
          },
          "yaxis": {
           "automargin": true,
           "gridcolor": "rgba(255,255,255,0.10)",
           "layer": "below traces",
           "linecolor": "rgba(255,255,255,0.30)",
           "linewidth": 1,
           "showline": false,
           "showticklabels": true,
           "tickcolor": "rgba(255,255,255,0.30)",
           "tickfont": {
            "color": "rgba(255,255,255,0.55)",
            "family": "Inter, sans-serif, Arial",
            "size": 14
           },
           "ticklabelposition": "outside",
           "ticklen": 8,
           "ticks": "outside",
           "tickwidth": 1,
           "title": {
            "font": {
             "color": "rgba(255,255,255,0.85)",
             "family": "Inter, sans-serif, Arial",
             "size": 16
            },
            "standoff": 8
           },
           "visible": true,
           "zeroline": false
          }
         }
        },
        "title": {
         "text": "Top 10 Countries with Highest GDP Growth"
        },
        "xaxis": {
         "anchor": "y",
         "domain": [
          0,
          1
         ],
         "tickangle": -45,
         "title": {
          "text": "Country"
         }
        },
        "yaxis": {
         "anchor": "x",
         "domain": [
          0,
          1
         ],
         "title": {
          "text": "GDP Growth (%)"
         }
        }
       }
      }
     },
     "metadata": {},
     "output_type": "display_data"
    }
   ],
   "source": [
    "res = vizro_ai.plot(df=df, user_input=query, explain=True, return_elements=True)\n",
    "res.figure"
   ]
  },
  {
   "cell_type": "markdown",
   "metadata": {},
   "source": [
    "# New version with Anthropic"
   ]
  },
  {
   "cell_type": "code",
   "execution_count": null,
   "metadata": {},
   "outputs": [],
   "source": [
    "from dotenv import load_dotenv, find_dotenv\n",
    "load_dotenv(find_dotenv(usecwd=True))\n",
    "\n",
    "import os\n",
    "# not all these 3 are needed. I just forgot which one is correct\n",
    "print(os.environ.get(\"ANTHROPIC_API_URL\"))\n",
    "print(os.environ.get(\"ANTHROPIC_BASE_URL\"))\n",
    "print(os.environ.get(\"ANTHROPIC_API_BASE\"))\n",
    "\n",
    "from vizro_ai import VizroAI\n",
    "vizro_ai = VizroAI(model=\"claude-3-sonnet-20240229\")\n",
    "\n",
    "vizro_ai.model\n",
    "\n",
    "import vizro.plotly.express as px\n",
    "query = \"plot a bubble chart to shows the changes in life expectancy gdp per capita  over time. Animate the chart by year\"\n",
    "df = px.data.gapminder()\n",
    "\n",
    "res2 = vizro_ai.plot2(df=df, user_input=query, return_elements=True)\n",
    "res2.get_fig_object(data_frame=df)"
   ]
  },
  {
   "cell_type": "code",
   "execution_count": null,
   "metadata": {},
   "outputs": [],
   "source": []
  }
 ],
 "metadata": {
  "kernelspec": {
   "display_name": "Python 3 (ipykernel)",
   "language": "python",
   "name": "python3"
  },
  "language_info": {
   "codemirror_mode": {
    "name": "ipython",
    "version": 3
   },
   "file_extension": ".py",
   "mimetype": "text/x-python",
   "name": "python",
   "nbconvert_exporter": "python",
   "pygments_lexer": "ipython3",
   "version": "3.12.4"
  }
 },
 "nbformat": 4,
 "nbformat_minor": 4
}
