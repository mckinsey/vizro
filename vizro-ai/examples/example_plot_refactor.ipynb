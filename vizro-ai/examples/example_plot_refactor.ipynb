{
 "cells": [
  {
   "cell_type": "code",
   "execution_count": null,
   "metadata": {},
   "outputs": [],
   "source": [
    "from dotenv import load_dotenv, find_dotenv\n",
    "load_dotenv(find_dotenv(usecwd=True))"
   ]
  },
  {
   "cell_type": "code",
   "execution_count": null,
   "metadata": {},
   "outputs": [],
   "source": [
    "from vizro_ai import VizroAI\n",
    "from langchain_anthropic import ChatAnthropic\n",
    "import os\n",
    "import vizro.plotly.express as px\n",
    "from vizro_ai.plot2._response_models import ChartPlanStatic"
   ]
  },
  {
   "cell_type": "code",
   "execution_count": null,
   "metadata": {},
   "outputs": [],
   "source": [
    "df = px.data.gapminder()"
   ]
  },
  {
   "cell_type": "markdown",
   "metadata": {},
   "source": [
    "## Model"
   ]
  },
  {
   "cell_type": "code",
   "execution_count": null,
   "metadata": {},
   "outputs": [],
   "source": [
    "# llm = ChatAnthropic(\n",
    "#         model=\"claude-3-5-sonnet-20240620\",\n",
    "#         api_key = os.environ.get(\"ANTHROPIC_API_KEY\"),\n",
    "#         base_url= os.environ.get(\"ANTHROPIC_API_BASE\")\n",
    "#     )\n",
    "llm = None\n",
    "llm = \"gpt-4o-mini-2024-07-18\""
   ]
  },
  {
   "cell_type": "code",
   "execution_count": null,
   "metadata": {},
   "outputs": [],
   "source": [
    "vizro_ai = VizroAI(model=llm)"
   ]
  },
  {
   "cell_type": "markdown",
   "metadata": {},
   "source": [
    "## Query"
   ]
  },
  {
   "cell_type": "code",
   "execution_count": null,
   "metadata": {},
   "outputs": [],
   "source": [
    "query = \"plot a bubble chart to shows the changes in life expectancy gdp per capita  over time. Animate the chart by year\"\n",
    "# query = \"describe the composition of gdp in continent,and horizontal line for avg gdp\"\n",
    "# query = \"show me the geo distribution of life expectancy and set year as animation \""
   ]
  },
  {
   "cell_type": "markdown",
   "metadata": {},
   "source": [
    "## VizroAI"
   ]
  },
  {
   "cell_type": "markdown",
   "metadata": {},
   "source": [
    "### Refactored version"
   ]
  },
  {
   "cell_type": "code",
   "execution_count": null,
   "metadata": {},
   "outputs": [],
   "source": [
    "res2 = vizro_ai.plot2(df=df, user_input=query, return_elements=True)\n",
    "res2.get_fig_object(data_frame=df)"
   ]
  },
  {
   "cell_type": "code",
   "execution_count": null,
   "metadata": {},
   "outputs": [],
   "source": [
    "print(res2.code)"
   ]
  },
  {
   "cell_type": "code",
   "execution_count": null,
   "metadata": {},
   "outputs": [],
   "source": [
    "print(res2.code_explanation)"
   ]
  },
  {
   "cell_type": "code",
   "execution_count": null,
   "metadata": {},
   "outputs": [],
   "source": [
    "print(res2.chart_insights)"
   ]
  },
  {
   "cell_type": "code",
   "execution_count": null,
   "metadata": {},
   "outputs": [],
   "source": [
    "# Underlying method for code properties\n",
    "print(res2._get_complete_code(chart_name=\"other_figure\",vizro=False))"
   ]
  },
  {
   "cell_type": "code",
   "execution_count": null,
   "metadata": {},
   "outputs": [],
   "source": [
    "# Run chart with different data\n",
    "res2.get_fig_object(data_frame=df.sample(200))"
   ]
  },
  {
   "cell_type": "code",
   "execution_count": null,
   "metadata": {},
   "outputs": [],
   "source": [
    "# No code execution\n",
    "res22 = vizro_ai.plot2(df=df, user_input=query, validate_code=False, return_elements=True)\n",
    "print(res22.code_vizro)"
   ]
  },
  {
   "cell_type": "markdown",
   "metadata": {},
   "source": [
    "### Old version"
   ]
  },
  {
   "cell_type": "code",
   "execution_count": null,
   "metadata": {
    "scrolled": true
   },
   "outputs": [],
   "source": [
    "res = vizro_ai.plot(df=df, user_input=query, explain=True, return_elements=True)\n",
    "res.figure"
   ]
  },
  {
   "cell_type": "markdown",
   "metadata": {},
   "source": [
    "# New version with Anthropic"
   ]
  },
  {
   "cell_type": "code",
   "execution_count": null,
   "metadata": {},
   "outputs": [],
   "source": [
    "from dotenv import load_dotenv, find_dotenv\n",
    "load_dotenv(find_dotenv(usecwd=True))\n",
    "\n",
    "import os\n",
    "# not all these 3 are needed. I just forgot which one is correct\n",
    "print(os.environ.get(\"ANTHROPIC_API_URL\"))\n",
    "print(os.environ.get(\"ANTHROPIC_BASE_URL\"))\n",
    "print(os.environ.get(\"ANTHROPIC_API_BASE\"))\n",
    "\n",
    "from vizro_ai import VizroAI\n",
    "vizro_ai = VizroAI(model=\"claude-3-sonnet-20240229\")\n",
    "\n",
    "vizro_ai.model\n",
    "\n",
    "import vizro.plotly.express as px\n",
    "query = \"plot a bubble chart to shows the changes in life expectancy gdp per capita  over time. Animate the chart by year\"\n",
    "df = px.data.gapminder()\n",
    "\n",
    "res2 = vizro_ai.plot2(df=df, user_input=query, return_elements=True)\n",
    "res2.get_fig_object(data_frame=df)"
   ]
  },
  {
   "cell_type": "code",
   "execution_count": null,
   "metadata": {},
   "outputs": [],
   "source": []
  }
 ],
 "metadata": {
  "kernelspec": {
   "display_name": "Python 3 (ipykernel)",
   "language": "python",
   "name": "python3"
  },
  "language_info": {
   "codemirror_mode": {
    "name": "ipython",
    "version": 3
   },
   "file_extension": ".py",
   "mimetype": "text/x-python",
   "name": "python",
   "nbconvert_exporter": "python",
   "pygments_lexer": "ipython3",
   "version": "3.10.14"
  }
 },
 "nbformat": 4,
 "nbformat_minor": 4
}
